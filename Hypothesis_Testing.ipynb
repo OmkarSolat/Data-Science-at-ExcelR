{
  "nbformat": 4,
  "nbformat_minor": 0,
  "metadata": {
    "colab": {
      "provenance": [],
      "authorship_tag": "ABX9TyOrY313W0chkQcTrp2lhXRr",
      "include_colab_link": true
    },
    "kernelspec": {
      "name": "python3",
      "display_name": "Python 3"
    },
    "language_info": {
      "name": "python"
    }
  },
  "cells": [
    {
      "cell_type": "markdown",
      "metadata": {
        "id": "view-in-github",
        "colab_type": "text"
      },
      "source": [
        "<a href=\"https://colab.research.google.com/github/OmkarSolat/Data-Science-at-ExcelR/blob/main/Hypothesis_Testing.ipynb\" target=\"_parent\"><img src=\"https://colab.research.google.com/assets/colab-badge.svg\" alt=\"Open In Colab\"/></a>"
      ]
    },
    {
      "cell_type": "markdown",
      "source": [
        "# Hypothesis Testing\n"
      ],
      "metadata": {
        "id": "CG7pBDa1W7EP"
      }
    },
    {
      "cell_type": "code",
      "execution_count": null,
      "metadata": {
        "id": "uEuw2AukWy5r"
      },
      "outputs": [],
      "source": [
        "#import th Libraries\n",
        "import pandas as pd\n",
        "import numpy as np\n",
        "from scipy import stats"
      ]
    },
    {
      "cell_type": "markdown",
      "source": [
        "# Super Market Example\n",
        "\n",
        "* Minimum shopping amount required = $120\n",
        "\n",
        "* Sample mean = $130\n",
        "\n",
        "* n (Sample size) = 80\n",
        "\n",
        "* Sample STDEV = $40\n",
        "\n",
        "Null Hypothesis - Average spending is not signifying higher than $130.Do not launch the program\n",
        "\n",
        "Alternate Hypothesis - The average spending is significantlly higher than $130.WE can go ahead and Launch the program."
      ],
      "metadata": {
        "id": "XY1X4B1XYr4y"
      }
    },
    {
      "cell_type": "code",
      "source": [
        "# t=(sample mean - Population mean) / (std error / sqrt(n))\n",
        "t=(130-120)/(40/np.sqrt(80))\n",
        "t"
      ],
      "metadata": {
        "colab": {
          "base_uri": "https://localhost:8080/"
        },
        "id": "woASmsRmW1fY",
        "outputId": "7ac28e9a-56b8-465b-d05b-21a0bcde917c"
      },
      "execution_count": null,
      "outputs": [
        {
          "output_type": "execute_result",
          "data": {
            "text/plain": [
              "2.23606797749979"
            ]
          },
          "metadata": {},
          "execution_count": 5
        }
      ]
    },
    {
      "cell_type": "code",
      "source": [
        "#cdf=cummulative density function\n",
        "#The probability given as output is for the average spent of <=130\n",
        "#Degrres of freedom (df) = Sample size minus one = 80-1 = 79\n",
        "\n",
        "stats.t.cdf(t,df=79)"
      ],
      "metadata": {
        "colab": {
          "base_uri": "https://localhost:8080/"
        },
        "id": "aBXCKJ4sW1bz",
        "outputId": "3f607201-b93f-4e66-fad1-dc11368d234f"
      },
      "execution_count": null,
      "outputs": [
        {
          "output_type": "execute_result",
          "data": {
            "text/plain": [
              "0.9859156837229892"
            ]
          },
          "metadata": {},
          "execution_count": 6
        }
      ]
    },
    {
      "cell_type": "code",
      "source": [
        "#To calculate the p-value of average spent of >=130\n",
        "p_value = 1-stats.t.cdf(t,df=79)\n",
        "p_value"
      ],
      "metadata": {
        "colab": {
          "base_uri": "https://localhost:8080/"
        },
        "id": "g0sfQFtmW1Y4",
        "outputId": "76f54431-b423-4668-dbc5-48fb582f1e24"
      },
      "execution_count": null,
      "outputs": [
        {
          "output_type": "execute_result",
          "data": {
            "text/plain": [
              "0.014084316277010789"
            ]
          },
          "metadata": {},
          "execution_count": 8
        }
      ]
    },
    {
      "cell_type": "markdown",
      "source": [
        "CONCLUSION :\n",
        "Since,we have just 0.01 chance of error,which is less than 0.05 significance level ,for the average spend being >$130,the supermarket can go ahead with the launch the loyalty program.\n",
        "\n",
        "Here; p-value < Significance level of 0.05,\n",
        "Hence,Alternate Hypothesis is accepted"
      ],
      "metadata": {
        "id": "yyEYFVS-cBVL"
      }
    },
    {
      "cell_type": "code",
      "source": [],
      "metadata": {
        "id": "zVbjc4L9kV6Z"
      },
      "execution_count": null,
      "outputs": []
    },
    {
      "cell_type": "markdown",
      "source": [
        "# Call Center Example\n",
        "\n",
        "Null Hypothesis : The average call duration is still at 4mins, & the variation in the sample is out if random error/chance.\n",
        "\n",
        "Alternate Hypothesis : The average call duration is significantly different than assumed mean of 4 mins."
      ],
      "metadata": {
        "id": "Vy5ibabXfCsq"
      }
    },
    {
      "cell_type": "code",
      "source": [
        "#Population_mean = 4 mins\n",
        "#Population_StDev = 3 mins\n",
        "duration = pd.Series([3.7,4.1,3.5,4.2,3.9,4.1,4.2,3.7,4.6,3.7,4.6,4.0,4.2,3.8,4,4,5.3,6.1,7.2,6.5])"
      ],
      "metadata": {
        "id": "WeBixUK7W1Vz"
      },
      "execution_count": null,
      "outputs": []
    },
    {
      "cell_type": "code",
      "source": [
        "#Sample size(n)\n",
        "len(duration)"
      ],
      "metadata": {
        "colab": {
          "base_uri": "https://localhost:8080/"
        },
        "id": "iDRLrdmfW1S3",
        "outputId": "731d67a6-55a0-4a9c-a005-528df3086b51"
      },
      "execution_count": null,
      "outputs": [
        {
          "output_type": "execute_result",
          "data": {
            "text/plain": [
              "20"
            ]
          },
          "metadata": {},
          "execution_count": 22
        }
      ]
    },
    {
      "cell_type": "code",
      "source": [
        "#Sample mean\n",
        "duration.mean()"
      ],
      "metadata": {
        "colab": {
          "base_uri": "https://localhost:8080/"
        },
        "id": "C2IHVU4cW1Py",
        "outputId": "6f0dbaa6-07e1-4eca-aa16-907a916bea14"
      },
      "execution_count": null,
      "outputs": [
        {
          "output_type": "execute_result",
          "data": {
            "text/plain": [
              "4.47"
            ]
          },
          "metadata": {},
          "execution_count": 23
        }
      ]
    },
    {
      "cell_type": "code",
      "source": [
        "# t=(sample mean - Population mean) / (std error / sqrt(n))\n",
        "t = (4.48 - 4) / (3/np.sqrt(20))\n",
        "t"
      ],
      "metadata": {
        "colab": {
          "base_uri": "https://localhost:8080/"
        },
        "id": "cxE93cg8W1Mz",
        "outputId": "651c9145-e3db-439e-cc98-07e456ca0b47"
      },
      "execution_count": null,
      "outputs": [
        {
          "output_type": "execute_result",
          "data": {
            "text/plain": [
              "0.7155417527999334"
            ]
          },
          "metadata": {},
          "execution_count": 25
        }
      ]
    },
    {
      "cell_type": "code",
      "source": [
        "p_value = 1 - stats.t.cdf(t,df=19)\n",
        "p_value"
      ],
      "metadata": {
        "colab": {
          "base_uri": "https://localhost:8080/"
        },
        "id": "Mu_pOfyuW1HX",
        "outputId": "acb54bc7-f360-4c98-cc0b-8951eaaa38df"
      },
      "execution_count": null,
      "outputs": [
        {
          "output_type": "execute_result",
          "data": {
            "text/plain": [
              "0.24148792354598703"
            ]
          },
          "metadata": {},
          "execution_count": 26
        }
      ]
    },
    {
      "cell_type": "markdown",
      "source": [
        "CONCLUSION :\n",
        "\n",
        " Null Hypothesis : Average Call Duration is 4 mins.\n",
        "\n",
        "Alternate Hypothesis : Average Call Duration is not 4 mins. (Either significantly higher or significantly lower than 4 mins.)\n",
        "\n",
        "Since the random chance probability (p-value) of call duration being greater than 4.48 mins is greater than 0.05, hence we shall conclude that the call duration has not significantly increased, and we fail to reject the Null Hypothesis, which says that Mean call duration is at 4mins.\n",
        "\n",
        "The variation that we see in the sample, is merely due to random chance."
      ],
      "metadata": {
        "id": "VesHy4WzkGkR"
      }
    },
    {
      "cell_type": "code",
      "source": [
        "'''\n",
        "Assuming that a sample size of 50 calls, got an average of 5.1 mins per call,\n",
        "Let's calculate the p-value\n",
        "'''\n",
        "\n",
        "t= (5.1-4)/(3/np.sqrt(50))\n",
        "t"
      ],
      "metadata": {
        "colab": {
          "base_uri": "https://localhost:8080/"
        },
        "id": "nIJgKxVyjlDm",
        "outputId": "f7395944-6d54-433c-d8f6-5e7f00d7c5b2"
      },
      "execution_count": null,
      "outputs": [
        {
          "output_type": "execute_result",
          "data": {
            "text/plain": [
              "2.5927248643506733"
            ]
          },
          "metadata": {},
          "execution_count": 37
        }
      ]
    },
    {
      "cell_type": "code",
      "source": [
        "p=1-stats.t.cdf(t,df=49)\n",
        "p"
      ],
      "metadata": {
        "colab": {
          "base_uri": "https://localhost:8080/"
        },
        "id": "MhRCCUgl31DX",
        "outputId": "c793eb2e-1e17-4210-be5a-182700215b46"
      },
      "execution_count": null,
      "outputs": [
        {
          "output_type": "execute_result",
          "data": {
            "text/plain": [
              "0.0062585271225307215"
            ]
          },
          "metadata": {},
          "execution_count": 38
        }
      ]
    },
    {
      "cell_type": "markdown",
      "source": [
        "Since the p-value is lesser than 0.025, we shall conclude that Alternate Hypothesis will be accepted.\n",
        "\n",
        "Average call duration has significantly increased, and some action must be taken.\n",
        "\n",
        "Let's say, if I make 100 samples of 50 calls each, & in each of the 100 samples, I see that the mean duration is always greater than 4 mins, then I will be forced to believe that the mean has actually increased, and we must train our call centre executives.\n",
        "\n",
        "But if in those 100 samples, some of them have mean of less than 4 mins, whereas others have greater than 4 mins, then we must not worry about the situation."
      ],
      "metadata": {
        "id": "-jAVhXNr37ID"
      }
    },
    {
      "cell_type": "code",
      "source": [
        "'''\n",
        "Testing the mean call duration when it is lesser than the pop mean,\n",
        "take the direct probability, without subtracting from 1\n",
        "'''\n",
        "#Pop Mean = 4 mins\n",
        "#Population Std Dev = 3 mins\n",
        "#Sample Mean = 1.5 mins\n",
        "#n = 20 calls\n",
        "\n",
        "#Null Hypothesis - The average call duration has not decreased, any variation is due to random chance error.\n",
        "#Alternate Hypothesis - The average call duration has decreased significantly.\n",
        "\n",
        "t= (1.5-4)/(3/np.sqrt(20))\n",
        "print(t)\n",
        "stats.t.cdf(t,df=19)\n",
        "\n",
        "#Since the p-value is less than 0.025, we shall conclude that average call duration has decreased significantly\n",
        "#The call centre manager will have to check the process and take corrective actions."
      ],
      "metadata": {
        "colab": {
          "base_uri": "https://localhost:8080/"
        },
        "id": "kHyJICFH353X",
        "outputId": "ed8bc81d-51fe-4468-a615-c8e9aae79ce1"
      },
      "execution_count": null,
      "outputs": [
        {
          "output_type": "stream",
          "name": "stdout",
          "text": [
            "-3.7267799624996494\n"
          ]
        },
        {
          "output_type": "execute_result",
          "data": {
            "text/plain": [
              "0.0007148636846156863"
            ]
          },
          "metadata": {},
          "execution_count": 39
        }
      ]
    },
    {
      "cell_type": "code",
      "source": [
        "#Testing the mean call duration when it is greater than the pop mean take probability subtracting from 1\n",
        "t= (5.6-4)/(3/np.sqrt(50))\n",
        "print(t)\n",
        "1 - stats.t.cdf(t,df=49)"
      ],
      "metadata": {
        "colab": {
          "base_uri": "https://localhost:8080/"
        },
        "id": "wkHE54um35zv",
        "outputId": "18230dc0-5d01-42c2-926b-793acfc4f179"
      },
      "execution_count": null,
      "outputs": [
        {
          "output_type": "stream",
          "name": "stdout",
          "text": [
            "3.7712361663282525\n"
          ]
        },
        {
          "output_type": "execute_result",
          "data": {
            "text/plain": [
              "0.00021897678487292627"
            ]
          },
          "metadata": {},
          "execution_count": 40
        }
      ]
    },
    {
      "cell_type": "markdown",
      "source": [
        "Since the p-value is lesser than 0.05, we shall conclude that the Alternate Hypothesis is true, and that the call duration has significantly increased."
      ],
      "metadata": {
        "id": "7sYuOTWW4KSO"
      }
    },
    {
      "cell_type": "code",
      "source": [
        "#For a 2-tailed test, always compare the p-value calculated with half of the significance level\n",
        "#So if we decide upon a significance of 5% = 0.05\n",
        "0.05/2"
      ],
      "metadata": {
        "colab": {
          "base_uri": "https://localhost:8080/"
        },
        "id": "JLfSshdu35xC",
        "outputId": "0016a0bb-1d15-4a2c-812b-84792434a9f2"
      },
      "execution_count": null,
      "outputs": [
        {
          "output_type": "execute_result",
          "data": {
            "text/plain": [
              "0.025"
            ]
          },
          "metadata": {},
          "execution_count": 41
        }
      ]
    },
    {
      "cell_type": "markdown",
      "source": [
        "Since the p-value>0.025 , we will conclude the Null Hypothesis to be true."
      ],
      "metadata": {
        "id": "wknMqR7V4Wka"
      }
    },
    {
      "cell_type": "markdown",
      "source": [
        "Assuming the significance level of 5%, we shall compare this p value with 0.025 instead of 0.05, since it is a 2 tailed test.\n",
        "\n",
        "Assuming the significance level of 10%, we shall compare this p value with 0.05 instead of 0.10, since it is a 2 tailed test."
      ],
      "metadata": {
        "id": "_7xJjG3w4ZjJ"
      }
    },
    {
      "cell_type": "code",
      "source": [],
      "metadata": {
        "id": "UA7NXvc54WFJ"
      },
      "execution_count": null,
      "outputs": []
    },
    {
      "cell_type": "markdown",
      "source": [
        "# One Sample Test\n",
        "\n",
        "Is there evidence that the mean level of Salmonella in the ice cream is significantly greater than 0.3 MPN/g?\n",
        "\n",
        "Null Hypothesis : The mean level of Salmonella in the ice-cream batches is not significantly higher than 0.3 MPN/g, therefore we must continue the production.\n",
        "\n",
        "Alternate Hypothesis: The mean level of Salmonella in the ice-cream batches is significantly higher than 0.3 MPN/g, therefore we must stop the production."
      ],
      "metadata": {
        "id": "F4wK_vRIrzJj"
      }
    },
    {
      "cell_type": "code",
      "source": [
        "from scipy import stats\n",
        "import pandas as pd"
      ],
      "metadata": {
        "id": "TNcRzr4ZjmiO"
      },
      "execution_count": null,
      "outputs": []
    },
    {
      "cell_type": "code",
      "source": [
        "data = pd.Series([0.593, 0.142, 0.329, 0.691, 0.231, 0.793, 0.519, 0.392, 0.418])"
      ],
      "metadata": {
        "id": "RFsN802yjmei"
      },
      "execution_count": null,
      "outputs": []
    },
    {
      "cell_type": "code",
      "source": [
        "data.mean()"
      ],
      "metadata": {
        "colab": {
          "base_uri": "https://localhost:8080/"
        },
        "id": "t1qUCO0LjmbL",
        "outputId": "1146a930-d745-4310-e911-e74b121fbe51"
      },
      "execution_count": null,
      "outputs": [
        {
          "output_type": "execute_result",
          "data": {
            "text/plain": [
              "0.45644444444444443"
            ]
          },
          "metadata": {},
          "execution_count": 43
        }
      ]
    },
    {
      "cell_type": "code",
      "source": [
        "#This gives one tail test p value\n",
        "p=stats.ttest_1samp(data,0.3)\n",
        "print(p)\n",
        "p=stats.ttest_1samp(data,0.3)[1]\n",
        "print(round(p,2))\n",
        "#Since the p-value > 0.05, we may feel that the batch of ice-cream is safe,\n",
        "#And that the amount of Salmonella is not significantly high.\n",
        "#But we might need to test again since the p-value is too close to the significance level of 0.05"
      ],
      "metadata": {
        "colab": {
          "base_uri": "https://localhost:8080/"
        },
        "id": "oSI7vxZ54s3V",
        "outputId": "d62c69cc-1706-4d23-b6b7-71b9c9853419"
      },
      "execution_count": null,
      "outputs": [
        {
          "output_type": "stream",
          "name": "stdout",
          "text": [
            "TtestResult(statistic=2.2050588385131595, pvalue=0.05853032968489765, df=8)\n",
            "0.06\n"
          ]
        }
      ]
    },
    {
      "cell_type": "code",
      "source": [
        "data.mean()"
      ],
      "metadata": {
        "colab": {
          "base_uri": "https://localhost:8080/"
        },
        "id": "OM8r3efK4szw",
        "outputId": "dcb97964-1bcb-4e41-d06c-b6d0da6df834"
      },
      "execution_count": null,
      "outputs": [
        {
          "output_type": "execute_result",
          "data": {
            "text/plain": [
              "0.45644444444444443"
            ]
          },
          "metadata": {},
          "execution_count": 45
        }
      ]
    },
    {
      "cell_type": "markdown",
      "source": [
        "#Two Sample Test\n",
        "\n",
        "Null Hypothesis : Both the samples are similar.\n",
        "\n",
        "Alternate Hypothesis : Both the samples are significantly diffrent from each other."
      ],
      "metadata": {
        "id": "K6_s9JmmtlUU"
      }
    },
    {
      "cell_type": "code",
      "source": [
        "Control = pd.Series([91, 87, 99, 77, 88, 91])    #(Placebo)\n",
        "Treat = pd.Series([101, 110, 103, 93, 99, 104])  #(Drug)"
      ],
      "metadata": {
        "id": "n-6S74r1jmYi"
      },
      "execution_count": null,
      "outputs": []
    },
    {
      "cell_type": "code",
      "source": [
        "#T-Test of Independence - To understand difference between 2 different samples/groups\n",
        "stats.ttest_ind(Control,Treat)"
      ],
      "metadata": {
        "colab": {
          "base_uri": "https://localhost:8080/"
        },
        "id": "31IzIvCljmV8",
        "outputId": "6107821d-4c4a-4a89-faf5-5c54b7b07e71"
      },
      "execution_count": null,
      "outputs": [
        {
          "output_type": "execute_result",
          "data": {
            "text/plain": [
              "TtestResult(statistic=-3.4456126735364876, pvalue=0.006272124350809803, df=10.0)"
            ]
          },
          "metadata": {},
          "execution_count": 47
        }
      ]
    },
    {
      "cell_type": "code",
      "source": [
        "stats.ttest_ind(Control,Treat)[1]"
      ],
      "metadata": {
        "colab": {
          "base_uri": "https://localhost:8080/"
        },
        "id": "5Swb0FL6jmS6",
        "outputId": "d6e29db7-2147-4237-b950-3af2fdc618e1"
      },
      "execution_count": null,
      "outputs": [
        {
          "output_type": "execute_result",
          "data": {
            "text/plain": [
              "0.006272124350809803"
            ]
          },
          "metadata": {},
          "execution_count": 48
        }
      ]
    },
    {
      "cell_type": "markdown",
      "source": [
        "Since the p-value < significance level of 5%, we shall conclude alternate hypothesis to be true."
      ],
      "metadata": {
        "id": "tMSAoMzq4-QO"
      }
    },
    {
      "cell_type": "code",
      "source": [
        "Process_A=pd.Series([89.7,81.4,84.5,84.8,87.3,79.7,85.1,81.7,83.7,84.5])\n",
        "Process_B=pd.Series([84.7,86.1,83.2,91.9,86.3,79.3,82.6,89.1,83.7,88.5])"
      ],
      "metadata": {
        "id": "8qOQKgbEjmPy"
      },
      "execution_count": null,
      "outputs": []
    },
    {
      "cell_type": "code",
      "source": [
        "print(Process_A.mean())\n",
        "print(Process_B.mean())"
      ],
      "metadata": {
        "colab": {
          "base_uri": "https://localhost:8080/"
        },
        "id": "O2LwYE-uwch1",
        "outputId": "2c13fdd7-6f4f-4a7b-d9da-3c19fbc752ae"
      },
      "execution_count": null,
      "outputs": [
        {
          "output_type": "stream",
          "name": "stdout",
          "text": [
            "84.24000000000001\n",
            "85.54\n"
          ]
        }
      ]
    },
    {
      "cell_type": "code",
      "source": [
        "stats.ttest_ind(Process_A,Process_B)"
      ],
      "metadata": {
        "colab": {
          "base_uri": "https://localhost:8080/"
        },
        "id": "2tZFLvnpwcee",
        "outputId": "e5f55f48-0d1e-44e9-b891-9b31d0f69555"
      },
      "execution_count": null,
      "outputs": [
        {
          "output_type": "execute_result",
          "data": {
            "text/plain": [
              "TtestResult(statistic=-0.8815771351054407, pvalue=0.38962608764018414, df=18.0)"
            ]
          },
          "metadata": {},
          "execution_count": 51
        }
      ]
    },
    {
      "cell_type": "markdown",
      "source": [
        "Null Hypothesis: Change in Factor X does not help in increasing the yield.\n",
        "\n",
        "Alternate Hypothesis : The change in factor X helps in increasing the yield significantly.\n",
        "\n",
        "Since the p-value > 0.05, we shall conclude that the change in factor X does not increase the yield significantly."
      ],
      "metadata": {
        "id": "2RWQl-pr5NLA"
      }
    },
    {
      "cell_type": "code",
      "source": [],
      "metadata": {
        "id": "7R_jWEl_wcb5"
      },
      "execution_count": null,
      "outputs": []
    }
  ]
}