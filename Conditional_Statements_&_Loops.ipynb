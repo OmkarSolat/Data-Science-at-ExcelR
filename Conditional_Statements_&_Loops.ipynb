{
  "nbformat": 4,
  "nbformat_minor": 0,
  "metadata": {
    "colab": {
      "provenance": [],
      "authorship_tag": "ABX9TyORTJ0kSPLfTwR5rNssgCRf",
      "include_colab_link": true
    },
    "kernelspec": {
      "name": "python3",
      "display_name": "Python 3"
    },
    "language_info": {
      "name": "python"
    }
  },
  "cells": [
    {
      "cell_type": "markdown",
      "metadata": {
        "id": "view-in-github",
        "colab_type": "text"
      },
      "source": [
        "<a href=\"https://colab.research.google.com/github/OmkarSolat/Data-Science-at-ExcelR/blob/main/Conditional_Statements_%26_Loops.ipynb\" target=\"_parent\"><img src=\"https://colab.research.google.com/assets/colab-badge.svg\" alt=\"Open In Colab\"/></a>"
      ]
    },
    {
      "cell_type": "markdown",
      "source": [
        "# Conditional Statements\n"
      ],
      "metadata": {
        "id": "Rdygmlq_WX9l"
      }
    },
    {
      "cell_type": "code",
      "source": [
        "rating = 4.2\n",
        "if (rating > 4):\n",
        "  print('EXCELLENT')"
      ],
      "metadata": {
        "colab": {
          "base_uri": "https://localhost:8080/"
        },
        "id": "UkyYdufCWKOt",
        "outputId": "025b92a1-e0f0-42ec-c396-10bab457cd96"
      },
      "execution_count": null,
      "outputs": [
        {
          "output_type": "stream",
          "name": "stdout",
          "text": [
            "EXCELLENT\n"
          ]
        }
      ]
    },
    {
      "cell_type": "code",
      "source": [
        "rating =3.8\n",
        "if (rating > 4):\n",
        "  print('EXCELLENT')\n",
        "else:\n",
        "  print('Good')"
      ],
      "metadata": {
        "colab": {
          "base_uri": "https://localhost:8080/"
        },
        "id": "CbYldMQFWKRm",
        "outputId": "d9495c0b-dfe3-4c42-f0c1-e97cc19d40fa"
      },
      "execution_count": null,
      "outputs": [
        {
          "output_type": "stream",
          "name": "stdout",
          "text": [
            "Good\n"
          ]
        }
      ]
    },
    {
      "cell_type": "code",
      "source": [
        "rating = 4.8\n",
        "if (rating > 4.5) & (rating<=5):\n",
        "  print('EXCELLENT')\n",
        "elif (rating>3.5) & (rating<4.0):\n",
        "  print('Good')\n",
        "elif (rating>3) & (rating<3.5):\n",
        "  print('Average')\n",
        "else:\n",
        "  print('Needs improvement')"
      ],
      "metadata": {
        "colab": {
          "base_uri": "https://localhost:8080/"
        },
        "id": "97BNi70uWKUW",
        "outputId": "eaefed57-1eba-4bb9-dc07-13f4310565c7"
      },
      "execution_count": null,
      "outputs": [
        {
          "output_type": "stream",
          "name": "stdout",
          "text": [
            "EXCELLENT\n"
          ]
        }
      ]
    },
    {
      "cell_type": "code",
      "source": [
        "#Question\n",
        "Yoyo_Test_Score = 18.1\n",
        "if (Yoyo_Test_Score > 15.0) & (Yoyo_Test_Score <= 20.0):\n",
        "  print('Robust athlete')\n",
        "elif (Yoyo_Test_Score > 10.0) & (Yoyo_Test_Score <= 15.0):\n",
        "  print('Agile athlete')\n",
        "elif (Yoyo_Test_Score > 5.0) & (Yoyo_Test_Score <= 10.0):\n",
        "  print('Average')\n",
        "else:\n",
        "  print('Needs improvement')"
      ],
      "metadata": {
        "colab": {
          "base_uri": "https://localhost:8080/"
        },
        "id": "5sbcJMpzWKXY",
        "outputId": "35e13b6a-5085-4731-cb15-24f156becd96"
      },
      "execution_count": null,
      "outputs": [
        {
          "output_type": "stream",
          "name": "stdout",
          "text": [
            "Robust athlete\n"
          ]
        }
      ]
    },
    {
      "cell_type": "markdown",
      "source": [
        "# for loop"
      ],
      "metadata": {
        "id": "Pg-wKNJdv3Ra"
      }
    },
    {
      "cell_type": "code",
      "source": [
        "#Question\n",
        "#To find indices of element '5' for all occurences\n",
        "list1 = [7,4,5,2,1,5,7,8,9,6,5,4,1,2,3,5,6]\n",
        "indices = []\n",
        "for i in range(len(list1)):\n",
        "  if list1[i]==5:\n",
        "    indices.append(i)\n",
        "print(indices)"
      ],
      "metadata": {
        "colab": {
          "base_uri": "https://localhost:8080/"
        },
        "id": "meCWIcmaWKaR",
        "outputId": "3403c2a1-5b7c-4f3d-a320-7c19b9dd0a72"
      },
      "execution_count": null,
      "outputs": [
        {
          "output_type": "stream",
          "name": "stdout",
          "text": [
            "[2, 5, 10, 15]\n"
          ]
        }
      ]
    },
    {
      "cell_type": "code",
      "source": [
        "list1 = [7,4,5,2,1,5,7,8,9,6,5,4,1,2,3,5,6]\n",
        "for i in range(len(list1)):\n",
        "  if list1[i]==5:\n",
        "    print(i)\n"
      ],
      "metadata": {
        "colab": {
          "base_uri": "https://localhost:8080/"
        },
        "id": "V-5Dfd9yWKl3",
        "outputId": "693f711a-be93-4d1f-da5a-9e8a86ddfc90"
      },
      "execution_count": null,
      "outputs": [
        {
          "output_type": "stream",
          "name": "stdout",
          "text": [
            "2\n",
            "5\n",
            "10\n",
            "15\n"
          ]
        }
      ]
    },
    {
      "cell_type": "code",
      "source": [
        "#Question\n",
        "#Increment the numbers divisible by 3 in given list by 2 and print that list.\n",
        "#Give the numbers divisible by 3 and greater than 30.\n",
        "#print final list.\n",
        "\n",
        "list1 = [2,6,8,12,85,56,14,23,74,48,25,71,13,27,14,54]\n",
        "print(list1)\n",
        "for i in range(len(list1)):\n",
        "  if list1[i]%3 == 0:\n",
        "     if list1[i]>30:\n",
        "       print(list1[i])\n",
        "     list1[i] = list1[i]+2          # list1[i]+=2\n",
        "print(list1)"
      ],
      "metadata": {
        "colab": {
          "base_uri": "https://localhost:8080/"
        },
        "id": "9UJoMEt5WKpO",
        "outputId": "e9346a13-41a1-4ab7-ca78-04cc3d0e2534"
      },
      "execution_count": null,
      "outputs": [
        {
          "output_type": "stream",
          "name": "stdout",
          "text": [
            "[2, 6, 8, 12, 85, 56, 14, 23, 74, 48, 25, 71, 13, 27, 14, 54]\n",
            "48\n",
            "54\n",
            "[2, 8, 8, 14, 85, 56, 14, 23, 74, 50, 25, 71, 13, 29, 14, 56]\n"
          ]
        }
      ]
    },
    {
      "cell_type": "code",
      "source": [
        "#Question\n",
        "#Write a for loop which can print unique values from list\n",
        "\n",
        "list1 = [7,4,5,2,1,5,7,8,9,6,5,4,1,2,3,5,6]\n",
        "unique_list=[]\n",
        "for i in list1:\n",
        "  if i not in unique_list:\n",
        "    unique_list.append(i)\n",
        "print(unique_list)\n"
      ],
      "metadata": {
        "id": "b46zXp6dsKFo",
        "colab": {
          "base_uri": "https://localhost:8080/"
        },
        "outputId": "6f460107-e44a-4c00-e120-1d5ad31e5d49"
      },
      "execution_count": null,
      "outputs": [
        {
          "output_type": "stream",
          "name": "stdout",
          "text": [
            "[7, 4, 5, 2, 1, 8, 9, 6, 3]\n"
          ]
        }
      ]
    },
    {
      "cell_type": "code",
      "source": [
        "#Question\n",
        "#Write factors of given number\n",
        "\n",
        "num = int(input('Enter a Number : '))\n",
        "for i in range (1,num+1):\n",
        "  if (num%i == 0):\n",
        "    print(i)"
      ],
      "metadata": {
        "id": "iX0qR2ZGsKCH",
        "colab": {
          "base_uri": "https://localhost:8080/"
        },
        "outputId": "42a54b2c-c3e0-41fc-9669-3edc2e75b7f6"
      },
      "execution_count": null,
      "outputs": [
        {
          "output_type": "stream",
          "name": "stdout",
          "text": [
            "Enter a Number : 18\n",
            "1\n",
            "2\n",
            "3\n",
            "6\n",
            "9\n",
            "18\n"
          ]
        }
      ]
    },
    {
      "cell_type": "code",
      "source": [
        "#Question\n",
        "#Create a list of prime numbers between 1 to 100.\n",
        "\n",
        "prime_list = []\n",
        "for i in range(2,101):       # i = 2,3,4.....100\n",
        "  for j in range(2,i):       # j = 2,3,4,.....i\n",
        "    if (i%j==0):\n",
        "      break\n",
        "  else:\n",
        "    prime_list.append(i)\n",
        "print(prime_list)"
      ],
      "metadata": {
        "id": "K3R4msrFsJ_p",
        "colab": {
          "base_uri": "https://localhost:8080/"
        },
        "outputId": "6ef66bb4-fd1d-4cac-d2eb-2b864a845536"
      },
      "execution_count": null,
      "outputs": [
        {
          "output_type": "stream",
          "name": "stdout",
          "text": [
            "[2, 3, 5, 7, 11, 13, 17, 19, 23, 29, 31, 37, 41, 43, 47, 53, 59, 61, 67, 71, 73, 79, 83, 89, 97]\n"
          ]
        }
      ]
    },
    {
      "cell_type": "code",
      "source": [
        "#Question\n",
        "#To find if there are any common factors between two numbers given by user.\n",
        "#print if there are any common factors.\n",
        "\n",
        "num1 = int(input('Enter 1st Number : '))\n",
        "num2 = int(input('Enter 2nd number : '))\n",
        "for i in range(1,num+1):\n",
        "  if (num1%i==0) & (num2%i==0):\n",
        "    print(i)\n"
      ],
      "metadata": {
        "id": "SM8I3Pf0sJ8x",
        "colab": {
          "base_uri": "https://localhost:8080/"
        },
        "outputId": "0be252a2-048b-4090-94ac-daff23059c1a"
      },
      "execution_count": null,
      "outputs": [
        {
          "output_type": "stream",
          "name": "stdout",
          "text": [
            "Enter 1st Number : 18\n",
            "Enter 2nd number : 45\n",
            "1\n",
            "3\n",
            "9\n"
          ]
        }
      ]
    },
    {
      "cell_type": "markdown",
      "source": [
        "# while loop"
      ],
      "metadata": {
        "id": "aJHeGfCCv7mn"
      }
    },
    {
      "cell_type": "code",
      "source": [
        "speed = 80\n",
        "while speed>40:\n",
        "  print('Slow Down! Speed limit crossed!')\n",
        "  speed-=10\n",
        "  print(speed)"
      ],
      "metadata": {
        "id": "uNbhGztXsJ6h",
        "colab": {
          "base_uri": "https://localhost:8080/"
        },
        "outputId": "7b441f29-1688-44b1-f3ea-a251e4e42e61"
      },
      "execution_count": null,
      "outputs": [
        {
          "output_type": "stream",
          "name": "stdout",
          "text": [
            "Slow Down! Speed limit crossed!\n",
            "70\n",
            "Slow Down! Speed limit crossed!\n",
            "60\n",
            "Slow Down! Speed limit crossed!\n",
            "50\n",
            "Slow Down! Speed limit crossed!\n",
            "40\n"
          ]
        }
      ]
    },
    {
      "cell_type": "code",
      "source": [
        "#Question\n",
        "#Take user input and find sum of all numbers from 1 to number given as user input.\n",
        "#eg. for num=5, output = 1+2+3+4+5=15\n",
        "\n",
        "num = int(input('Enter a Number : '))\n",
        "sum=0\n",
        "i=1\n",
        "while i<=num:\n",
        "  sum+=i      #sum=sum+i\n",
        "  i+=1        #i=i+1\n",
        "print('Required answer :',sum)"
      ],
      "metadata": {
        "id": "KSIZ3mIXWKso",
        "colab": {
          "base_uri": "https://localhost:8080/"
        },
        "outputId": "66c3f57e-1fa7-4f6b-97c1-1065497ff2a3"
      },
      "execution_count": null,
      "outputs": [
        {
          "output_type": "stream",
          "name": "stdout",
          "text": [
            "Enter a Number : 5\n",
            "Required answer : 15\n"
          ]
        }
      ]
    },
    {
      "cell_type": "code",
      "source": [
        "#Question\n",
        "#Factorial for given user input.\n",
        "\n",
        "num = int(input('Enter a Number : '))\n",
        "fact=1\n",
        "i=1\n",
        "while i<=num:\n",
        "  fact = fact*i\n",
        "  i = i+1\n",
        "print('Factorial of', num ,'is',fact)"
      ],
      "metadata": {
        "id": "Q-5EVDoYWKwO",
        "colab": {
          "base_uri": "https://localhost:8080/"
        },
        "outputId": "09962a98-f7ec-4d06-cb92-228b63337f0d"
      },
      "execution_count": null,
      "outputs": [
        {
          "output_type": "stream",
          "name": "stdout",
          "text": [
            "Enter a Number : 5\n",
            "Factorial of 5 is 120\n"
          ]
        }
      ]
    },
    {
      "cell_type": "code",
      "source": [],
      "metadata": {
        "id": "hXO4vCohoSFF"
      },
      "execution_count": null,
      "outputs": []
    }
  ]
}