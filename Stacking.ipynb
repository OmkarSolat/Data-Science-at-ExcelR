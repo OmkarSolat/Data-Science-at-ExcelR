{
  "nbformat": 4,
  "nbformat_minor": 0,
  "metadata": {
    "colab": {
      "provenance": [],
      "include_colab_link": true
    },
    "kernelspec": {
      "name": "python3",
      "display_name": "Python 3"
    },
    "language_info": {
      "name": "python"
    }
  },
  "cells": [
    {
      "cell_type": "markdown",
      "metadata": {
        "id": "view-in-github",
        "colab_type": "text"
      },
      "source": [
        "<a href=\"https://colab.research.google.com/github/OmkarSolat/Data-Science-at-ExcelR/blob/main/Stacking.ipynb\" target=\"_parent\"><img src=\"https://colab.research.google.com/assets/colab-badge.svg\" alt=\"Open In Colab\"/></a>"
      ]
    },
    {
      "cell_type": "markdown",
      "source": [
        "# **Stacking**"
      ],
      "metadata": {
        "id": "eipl4Pl0mKQI"
      }
    },
    {
      "cell_type": "code",
      "execution_count": 19,
      "metadata": {
        "id": "3eSb6237UWGF"
      },
      "outputs": [],
      "source": [
        "#importing libraries\n",
        "import pandas as pd\n",
        "import numpy as np"
      ]
    },
    {
      "cell_type": "code",
      "source": [
        "#Loading the data\n",
        "n =[\"preg\",\"plas\",\"pres\",\"skin\",\"test\",\"mass\",\"pedi\",\"age\",\"class\"]\n",
        "df = pd.read_csv(\"/content/pima-indians-diabetes.data.csv\",names =n )"
      ],
      "metadata": {
        "id": "P4spJ0EKUZu4"
      },
      "execution_count": 20,
      "outputs": []
    },
    {
      "cell_type": "code",
      "source": [
        "#Independent/Dependent features\n",
        "x = df.iloc[:,:-1]\n",
        "y = df.iloc[:,-1]"
      ],
      "metadata": {
        "id": "9dl4RRosUZq5"
      },
      "execution_count": 21,
      "outputs": []
    },
    {
      "cell_type": "code",
      "source": [
        "from sklearn.linear_model import LogisticRegression\n",
        "from sklearn.tree import DecisionTreeClassifier\n",
        "from sklearn.svm import SVC\n",
        "from sklearn.ensemble import VotingClassifier"
      ],
      "metadata": {
        "id": "qjpVo8WBUZoS"
      },
      "execution_count": 22,
      "outputs": []
    },
    {
      "cell_type": "code",
      "source": [
        "estimators = []"
      ],
      "metadata": {
        "id": "jC4IIrC3UZh4"
      },
      "execution_count": 23,
      "outputs": []
    },
    {
      "cell_type": "code",
      "source": [
        "#model-1\n",
        "m1 = LogisticRegression(max_iter = 500)\n",
        "estimators.append((\"logistic\",m1))"
      ],
      "metadata": {
        "id": "Xv0ZXC6AUZe9"
      },
      "execution_count": 24,
      "outputs": []
    },
    {
      "cell_type": "code",
      "source": [
        "estimators"
      ],
      "metadata": {
        "id": "l33CJBPjUZcj",
        "colab": {
          "base_uri": "https://localhost:8080/"
        },
        "outputId": "a42ac204-c1bc-4d7a-e65c-eb661d77a5a1"
      },
      "execution_count": 25,
      "outputs": [
        {
          "output_type": "execute_result",
          "data": {
            "text/plain": [
              "[('logistic', LogisticRegression(max_iter=500))]"
            ]
          },
          "metadata": {},
          "execution_count": 25
        }
      ]
    },
    {
      "cell_type": "code",
      "source": [
        "#model-2\n",
        "m2 = DecisionTreeClassifier(criterion =\"gini\",max_depth = 3)\n",
        "estimators.append((\"CART\",m2))"
      ],
      "metadata": {
        "id": "ewfAEy9TUZaI"
      },
      "execution_count": 26,
      "outputs": []
    },
    {
      "cell_type": "code",
      "source": [
        "estimators"
      ],
      "metadata": {
        "id": "hCWEspEyrkOf",
        "colab": {
          "base_uri": "https://localhost:8080/"
        },
        "outputId": "aaf625e0-25e0-48d2-80bf-3acd5f8f8c98"
      },
      "execution_count": 27,
      "outputs": [
        {
          "output_type": "execute_result",
          "data": {
            "text/plain": [
              "[('logistic', LogisticRegression(max_iter=500)),\n",
              " ('CART', DecisionTreeClassifier(max_depth=3))]"
            ]
          },
          "metadata": {},
          "execution_count": 27
        }
      ]
    },
    {
      "cell_type": "code",
      "source": [
        "#model-3\n",
        "m3 = SVC()\n",
        "estimators.append((\"SVM\",m3))"
      ],
      "metadata": {
        "id": "yXVWKvpjUZW6"
      },
      "execution_count": 28,
      "outputs": []
    },
    {
      "cell_type": "code",
      "source": [
        "estimators"
      ],
      "metadata": {
        "id": "h_qR1SOTWwER",
        "colab": {
          "base_uri": "https://localhost:8080/"
        },
        "outputId": "4d9b7c46-1935-4ebe-d6a6-db78fb0d1f85"
      },
      "execution_count": 29,
      "outputs": [
        {
          "output_type": "execute_result",
          "data": {
            "text/plain": [
              "[('logistic', LogisticRegression(max_iter=500)),\n",
              " ('CART', DecisionTreeClassifier(max_depth=3)),\n",
              " ('SVM', SVC())]"
            ]
          },
          "metadata": {},
          "execution_count": 29
        }
      ]
    },
    {
      "cell_type": "code",
      "source": [
        "#model ensembling(combining)\n",
        "ens_model = VotingClassifier(estimators)"
      ],
      "metadata": {
        "id": "_pr9pZKwUZUZ"
      },
      "execution_count": 30,
      "outputs": []
    },
    {
      "cell_type": "code",
      "source": [
        "from sklearn.model_selection import cross_val_score"
      ],
      "metadata": {
        "id": "9yFDvfd-UZRA"
      },
      "execution_count": 31,
      "outputs": []
    },
    {
      "cell_type": "code",
      "source": [
        "result = cross_val_score(ens_model,x,y,cv =10)"
      ],
      "metadata": {
        "id": "_52ngYE_UZOT"
      },
      "execution_count": 32,
      "outputs": []
    },
    {
      "cell_type": "code",
      "source": [
        "result"
      ],
      "metadata": {
        "id": "HEz3OyKSxZU-",
        "colab": {
          "base_uri": "https://localhost:8080/"
        },
        "outputId": "3999b60a-36eb-43d1-e326-22f04a7e79c8"
      },
      "execution_count": 33,
      "outputs": [
        {
          "output_type": "execute_result",
          "data": {
            "text/plain": [
              "array([0.74025974, 0.75324675, 0.75324675, 0.68831169, 0.72727273,\n",
              "       0.79220779, 0.77922078, 0.79220779, 0.77631579, 0.81578947])"
            ]
          },
          "metadata": {},
          "execution_count": 33
        }
      ]
    },
    {
      "cell_type": "code",
      "source": [
        "print(result.mean())"
      ],
      "metadata": {
        "id": "ENtUm4viX2Ac",
        "colab": {
          "base_uri": "https://localhost:8080/"
        },
        "outputId": "ccd7a6e3-900c-4f9b-cde1-42155e7ede13"
      },
      "execution_count": 34,
      "outputs": [
        {
          "output_type": "stream",
          "name": "stdout",
          "text": [
            "0.761807928913192\n"
          ]
        }
      ]
    },
    {
      "cell_type": "code",
      "source": [],
      "metadata": {
        "id": "gSMjOAJwD2hZ"
      },
      "execution_count": 34,
      "outputs": []
    }
  ]
}