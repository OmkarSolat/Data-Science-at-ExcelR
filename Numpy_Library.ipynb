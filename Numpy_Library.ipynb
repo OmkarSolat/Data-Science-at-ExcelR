{
  "nbformat": 4,
  "nbformat_minor": 0,
  "metadata": {
    "colab": {
      "provenance": [],
      "authorship_tag": "ABX9TyPK7YdsXhAWTaqqmQZpCyuM",
      "include_colab_link": true
    },
    "kernelspec": {
      "name": "python3",
      "display_name": "Python 3"
    },
    "language_info": {
      "name": "python"
    }
  },
  "cells": [
    {
      "cell_type": "markdown",
      "metadata": {
        "id": "view-in-github",
        "colab_type": "text"
      },
      "source": [
        "<a href=\"https://colab.research.google.com/github/OmkarSolat/Data-Science-at-ExcelR/blob/main/Numpy_Library.ipynb\" target=\"_parent\"><img src=\"https://colab.research.google.com/assets/colab-badge.svg\" alt=\"Open In Colab\"/></a>"
      ]
    },
    {
      "cell_type": "markdown",
      "source": [
        "# Numpy Library"
      ],
      "metadata": {
        "id": "EZZ_B3MZE_4y"
      }
    },
    {
      "cell_type": "code",
      "execution_count": null,
      "metadata": {
        "id": "uDwUfMYvEkHz"
      },
      "outputs": [],
      "source": [
        "import numpy as np"
      ]
    },
    {
      "cell_type": "code",
      "source": [
        "#1D array\n",
        "arr1 = np.array([1,2,5,3,6,6,7])\n",
        "arr1"
      ],
      "metadata": {
        "colab": {
          "base_uri": "https://localhost:8080/"
        },
        "id": "3TqmcwshEvIQ",
        "outputId": "2a791cb9-8601-4ffa-acf5-d76cce8493e9"
      },
      "execution_count": null,
      "outputs": [
        {
          "output_type": "execute_result",
          "data": {
            "text/plain": [
              "array([1, 2, 5, 3, 6, 6, 7])"
            ]
          },
          "metadata": {},
          "execution_count": 5
        }
      ]
    },
    {
      "cell_type": "code",
      "source": [
        "type(arr1)"
      ],
      "metadata": {
        "colab": {
          "base_uri": "https://localhost:8080/"
        },
        "id": "K2ib97FvEvLF",
        "outputId": "29aa8062-709d-49a8-823b-7157e0818dcc"
      },
      "execution_count": null,
      "outputs": [
        {
          "output_type": "execute_result",
          "data": {
            "text/plain": [
              "numpy.ndarray"
            ]
          },
          "metadata": {},
          "execution_count": 6
        }
      ]
    },
    {
      "cell_type": "code",
      "source": [
        "arr1.shape"
      ],
      "metadata": {
        "colab": {
          "base_uri": "https://localhost:8080/"
        },
        "id": "-X7UXRGoEvOY",
        "outputId": "4637b47f-d0c1-450f-809a-3d8a0fbf68b4"
      },
      "execution_count": null,
      "outputs": [
        {
          "output_type": "execute_result",
          "data": {
            "text/plain": [
              "(7,)"
            ]
          },
          "metadata": {},
          "execution_count": 7
        }
      ]
    },
    {
      "cell_type": "code",
      "source": [
        "#2D array\n",
        "arr2 = np.array([[1,2,5,4,7,8], [8,7,6,4,9,2]])\n",
        "arr2"
      ],
      "metadata": {
        "colab": {
          "base_uri": "https://localhost:8080/"
        },
        "id": "rmT4uZgvEvRO",
        "outputId": "f474571c-10bc-40da-d8c0-fbc38826f9ba"
      },
      "execution_count": null,
      "outputs": [
        {
          "output_type": "execute_result",
          "data": {
            "text/plain": [
              "array([[1, 2, 5, 4, 7, 8],\n",
              "       [8, 7, 6, 4, 9, 2]])"
            ]
          },
          "metadata": {},
          "execution_count": 8
        }
      ]
    },
    {
      "cell_type": "code",
      "source": [
        "arr2.shape             # 2 rows & 6 columns"
      ],
      "metadata": {
        "colab": {
          "base_uri": "https://localhost:8080/"
        },
        "id": "7IuDtj-TEvUQ",
        "outputId": "211a50a2-0ce9-4435-cf1b-506fcbd7cb99"
      },
      "execution_count": null,
      "outputs": [
        {
          "output_type": "execute_result",
          "data": {
            "text/plain": [
              "(2, 6)"
            ]
          },
          "metadata": {},
          "execution_count": 9
        }
      ]
    },
    {
      "cell_type": "code",
      "source": [
        "#3D array\n",
        "arr3 = np.array([[[1,2,5,4,7,8], [8,7,6,4,9,2]],\n",
        "                 [[1,2,5,4,7,8], [8,7,6,4,9,2]],\n",
        "                 [[1,2,5,4,7,8], [8,7,6,4,9,2]],\n",
        "                 [[1,2,5,4,7,8], [8,7,6,4,9,2]]])\n",
        "arr3"
      ],
      "metadata": {
        "colab": {
          "base_uri": "https://localhost:8080/"
        },
        "id": "OtqfTqeKEvXo",
        "outputId": "eddbfa92-968f-4f8f-e812-026c158e9439"
      },
      "execution_count": null,
      "outputs": [
        {
          "output_type": "execute_result",
          "data": {
            "text/plain": [
              "array([[[1, 2, 5, 4, 7, 8],\n",
              "        [8, 7, 6, 4, 9, 2]],\n",
              "\n",
              "       [[1, 2, 5, 4, 7, 8],\n",
              "        [8, 7, 6, 4, 9, 2]],\n",
              "\n",
              "       [[1, 2, 5, 4, 7, 8],\n",
              "        [8, 7, 6, 4, 9, 2]],\n",
              "\n",
              "       [[1, 2, 5, 4, 7, 8],\n",
              "        [8, 7, 6, 4, 9, 2]]])"
            ]
          },
          "metadata": {},
          "execution_count": 11
        }
      ]
    },
    {
      "cell_type": "code",
      "source": [
        "arr3.shape\n",
        "# 4 times 2D array with 2 rows & 6 columns"
      ],
      "metadata": {
        "colab": {
          "base_uri": "https://localhost:8080/"
        },
        "id": "bpYxSnz0Evaz",
        "outputId": "5d2a1e70-b3f8-43c8-ed4a-423bd85a45c7"
      },
      "execution_count": null,
      "outputs": [
        {
          "output_type": "execute_result",
          "data": {
            "text/plain": [
              "(4, 2, 6)"
            ]
          },
          "metadata": {},
          "execution_count": 12
        }
      ]
    },
    {
      "cell_type": "code",
      "source": [
        "#4D array\n",
        "arr4 = np.array([[[[1,2,5,4,7,8], [8,7,6,4,9,2]],\n",
        "                 [[1,2,5,4,7,8], [8,7,6,4,9,2]],\n",
        "                 [[1,2,5,4,7,8], [8,7,6,4,9,2]],\n",
        "                 [[1,2,5,4,7,8], [8,7,6,4,9,2]]],\n",
        "\n",
        "                 [[[1,2,5,4,7,8], [8,7,6,4,9,2]],\n",
        "                 [[1,2,5,4,7,8], [8,7,6,4,9,2]],\n",
        "                 [[1,2,5,4,7,8], [8,7,6,4,9,2]],\n",
        "                 [[1,2,5,4,7,8], [8,7,6,4,9,2]]],\n",
        "\n",
        "                 [[[1,2,5,4,7,8], [8,7,6,4,9,2]],\n",
        "                 [[1,2,5,4,7,8], [8,7,6,4,9,2]],\n",
        "                 [[1,2,5,4,7,8], [8,7,6,4,9,2]],\n",
        "                 [[1,2,5,4,7,8], [8,7,6,4,9,2]]]])\n",
        "\n",
        "arr4"
      ],
      "metadata": {
        "colab": {
          "base_uri": "https://localhost:8080/"
        },
        "id": "O2gy0Ua0EveM",
        "outputId": "4d523c0e-2c91-4a6a-e539-4fa4f5ce6f8a"
      },
      "execution_count": null,
      "outputs": [
        {
          "output_type": "execute_result",
          "data": {
            "text/plain": [
              "array([[[[1, 2, 5, 4, 7, 8],\n",
              "         [8, 7, 6, 4, 9, 2]],\n",
              "\n",
              "        [[1, 2, 5, 4, 7, 8],\n",
              "         [8, 7, 6, 4, 9, 2]],\n",
              "\n",
              "        [[1, 2, 5, 4, 7, 8],\n",
              "         [8, 7, 6, 4, 9, 2]],\n",
              "\n",
              "        [[1, 2, 5, 4, 7, 8],\n",
              "         [8, 7, 6, 4, 9, 2]]],\n",
              "\n",
              "\n",
              "       [[[1, 2, 5, 4, 7, 8],\n",
              "         [8, 7, 6, 4, 9, 2]],\n",
              "\n",
              "        [[1, 2, 5, 4, 7, 8],\n",
              "         [8, 7, 6, 4, 9, 2]],\n",
              "\n",
              "        [[1, 2, 5, 4, 7, 8],\n",
              "         [8, 7, 6, 4, 9, 2]],\n",
              "\n",
              "        [[1, 2, 5, 4, 7, 8],\n",
              "         [8, 7, 6, 4, 9, 2]]],\n",
              "\n",
              "\n",
              "       [[[1, 2, 5, 4, 7, 8],\n",
              "         [8, 7, 6, 4, 9, 2]],\n",
              "\n",
              "        [[1, 2, 5, 4, 7, 8],\n",
              "         [8, 7, 6, 4, 9, 2]],\n",
              "\n",
              "        [[1, 2, 5, 4, 7, 8],\n",
              "         [8, 7, 6, 4, 9, 2]],\n",
              "\n",
              "        [[1, 2, 5, 4, 7, 8],\n",
              "         [8, 7, 6, 4, 9, 2]]]])"
            ]
          },
          "metadata": {},
          "execution_count": 13
        }
      ]
    },
    {
      "cell_type": "code",
      "source": [
        "arr4.shape\n",
        "# 3 times an array structure having 4 arrays that contain 2 rows & 6 columns"
      ],
      "metadata": {
        "colab": {
          "base_uri": "https://localhost:8080/"
        },
        "id": "f3ZWrmdAEvhS",
        "outputId": "dab0e331-2564-4dd8-c137-bfe88df3d56a"
      },
      "execution_count": null,
      "outputs": [
        {
          "output_type": "execute_result",
          "data": {
            "text/plain": [
              "(3, 4, 2, 6)"
            ]
          },
          "metadata": {},
          "execution_count": 14
        }
      ]
    },
    {
      "cell_type": "markdown",
      "source": [
        "* arange()"
      ],
      "metadata": {
        "id": "QYrQ-TLJPL7h"
      }
    },
    {
      "cell_type": "code",
      "source": [
        "arr5 = np.arange(10)\n",
        "arr5"
      ],
      "metadata": {
        "colab": {
          "base_uri": "https://localhost:8080/"
        },
        "id": "xwBTs0D2EvkZ",
        "outputId": "a0178cbb-3321-4567-c740-f8982fa03605"
      },
      "execution_count": null,
      "outputs": [
        {
          "output_type": "execute_result",
          "data": {
            "text/plain": [
              "array([0, 1, 2, 3, 4, 5, 6, 7, 8, 9])"
            ]
          },
          "metadata": {},
          "execution_count": 18
        }
      ]
    },
    {
      "cell_type": "code",
      "source": [
        "arr6 = np.arange(5,10)\n",
        "arr6"
      ],
      "metadata": {
        "colab": {
          "base_uri": "https://localhost:8080/"
        },
        "id": "PfChjGNENHx2",
        "outputId": "c622d0d8-81ee-45d8-8372-054d868fb475"
      },
      "execution_count": null,
      "outputs": [
        {
          "output_type": "execute_result",
          "data": {
            "text/plain": [
              "array([5, 6, 7, 8, 9])"
            ]
          },
          "metadata": {},
          "execution_count": 20
        }
      ]
    },
    {
      "cell_type": "code",
      "source": [
        "arr7 = np.arange(1,10,2)\n",
        "arr7"
      ],
      "metadata": {
        "colab": {
          "base_uri": "https://localhost:8080/"
        },
        "id": "3KpFSSEsNHuf",
        "outputId": "4605c96a-7721-408b-9a65-8ee0f4a0ed0f"
      },
      "execution_count": null,
      "outputs": [
        {
          "output_type": "execute_result",
          "data": {
            "text/plain": [
              "array([1, 3, 5, 7, 9])"
            ]
          },
          "metadata": {},
          "execution_count": 21
        }
      ]
    },
    {
      "cell_type": "markdown",
      "source": [
        "* reshape()"
      ],
      "metadata": {
        "id": "3XbMSqDvPTTD"
      }
    },
    {
      "cell_type": "code",
      "source": [
        "arr8 = np.arange(20).reshape(4,5)\n",
        "arr8"
      ],
      "metadata": {
        "colab": {
          "base_uri": "https://localhost:8080/"
        },
        "id": "VBhMFMkeNHqu",
        "outputId": "e0e6c8d5-fb4f-4e0a-81fe-2b466543c1e6"
      },
      "execution_count": null,
      "outputs": [
        {
          "output_type": "execute_result",
          "data": {
            "text/plain": [
              "array([[ 0,  1,  2,  3,  4],\n",
              "       [ 5,  6,  7,  8,  9],\n",
              "       [10, 11, 12, 13, 14],\n",
              "       [15, 16, 17, 18, 19]])"
            ]
          },
          "metadata": {},
          "execution_count": 23
        }
      ]
    },
    {
      "cell_type": "markdown",
      "source": [
        "* random"
      ],
      "metadata": {
        "id": "i9E_6hSvR6yJ"
      }
    },
    {
      "cell_type": "code",
      "source": [
        "x = np.random.randint(1,10,20)         #(start,end,size)\n",
        "x"
      ],
      "metadata": {
        "colab": {
          "base_uri": "https://localhost:8080/"
        },
        "id": "mtDQz27SNHn2",
        "outputId": "0acea50a-2206-4cfe-d051-8197f9e70d9d"
      },
      "execution_count": null,
      "outputs": [
        {
          "output_type": "execute_result",
          "data": {
            "text/plain": [
              "array([3, 2, 2, 3, 4, 6, 3, 5, 1, 4, 3, 9, 8, 1, 8, 7, 1, 5, 8, 7])"
            ]
          },
          "metadata": {},
          "execution_count": 32
        }
      ]
    },
    {
      "cell_type": "code",
      "source": [
        "x = np.random.randn(5)\n",
        "x"
      ],
      "metadata": {
        "colab": {
          "base_uri": "https://localhost:8080/"
        },
        "id": "ZIbS2QIUNHk1",
        "outputId": "9db99b70-7aec-422e-da09-07de971c771c"
      },
      "execution_count": null,
      "outputs": [
        {
          "output_type": "execute_result",
          "data": {
            "text/plain": [
              "array([ 0.10053312, -0.06889035,  1.28628462, -0.47636696, -2.1232864 ])"
            ]
          },
          "metadata": {},
          "execution_count": 31
        }
      ]
    },
    {
      "cell_type": "code",
      "source": [
        "x = np.random.random(10)\n",
        "x"
      ],
      "metadata": {
        "colab": {
          "base_uri": "https://localhost:8080/"
        },
        "id": "Of896kIONHiA",
        "outputId": "3597bb5e-0893-4775-dbb2-03c5ad398a9a"
      },
      "execution_count": null,
      "outputs": [
        {
          "output_type": "execute_result",
          "data": {
            "text/plain": [
              "array([0.09153102, 0.8730178 , 0.85224648, 0.06209178, 0.33875165,\n",
              "       0.79308481, 0.36950823, 0.14907957, 0.79604178, 0.87712068])"
            ]
          },
          "metadata": {},
          "execution_count": 33
        }
      ]
    },
    {
      "cell_type": "code",
      "source": [
        "x = np.random.choice(100,10,replace = True)         # (int_range ,size,......)\n",
        "x"
      ],
      "metadata": {
        "colab": {
          "base_uri": "https://localhost:8080/"
        },
        "id": "-uYY2qT4EvnW",
        "outputId": "1ba62ba5-f643-4647-f61c-6ce2320b544e"
      },
      "execution_count": null,
      "outputs": [
        {
          "output_type": "execute_result",
          "data": {
            "text/plain": [
              "array([76, 62, 36, 75, 49, 37, 95, 43, 62, 36])"
            ]
          },
          "metadata": {},
          "execution_count": 40
        }
      ]
    },
    {
      "cell_type": "markdown",
      "source": [
        "* linspace"
      ],
      "metadata": {
        "id": "Px_TFWB2Z7RU"
      }
    },
    {
      "cell_type": "code",
      "source": [
        "x = np.linspace(1,10,5)\n",
        "x"
      ],
      "metadata": {
        "colab": {
          "base_uri": "https://localhost:8080/"
        },
        "id": "0a8splBrEvq1",
        "outputId": "8dfbdfce-538c-4de8-86b0-9b408ada037d"
      },
      "execution_count": null,
      "outputs": [
        {
          "output_type": "execute_result",
          "data": {
            "text/plain": [
              "array([ 1.  ,  3.25,  5.5 ,  7.75, 10.  ])"
            ]
          },
          "metadata": {},
          "execution_count": 41
        }
      ]
    },
    {
      "cell_type": "code",
      "source": [
        "# To check interval\n",
        "for i in range(len(x)-1):\n",
        "  print(i)\n",
        "  print('Difference between index',i,'&',i+1,'is', x[i+1] - x[i])"
      ],
      "metadata": {
        "colab": {
          "base_uri": "https://localhost:8080/"
        },
        "id": "85vRvvmvEv2c",
        "outputId": "26542dbd-7dcf-4fb1-99a4-275a64075dcf"
      },
      "execution_count": null,
      "outputs": [
        {
          "output_type": "stream",
          "name": "stdout",
          "text": [
            "0\n",
            "Difference between index 0 & 1 is 2.25\n",
            "1\n",
            "Difference between index 1 & 2 is 2.25\n",
            "2\n",
            "Difference between index 2 & 3 is 2.25\n",
            "3\n",
            "Difference between index 3 & 4 is 2.25\n"
          ]
        }
      ]
    },
    {
      "cell_type": "markdown",
      "source": [
        "* sum()"
      ],
      "metadata": {
        "id": "nLCE6kI_a4yN"
      }
    },
    {
      "cell_type": "code",
      "source": [
        "arr = np.random.randint(0,9,20).reshape(5,4)\n",
        "arr"
      ],
      "metadata": {
        "colab": {
          "base_uri": "https://localhost:8080/"
        },
        "id": "DSi3zEbXRdRa",
        "outputId": "c4ae3078-975a-4201-9b74-abe359357592"
      },
      "execution_count": null,
      "outputs": [
        {
          "output_type": "execute_result",
          "data": {
            "text/plain": [
              "array([[1, 6, 1, 0],\n",
              "       [8, 5, 6, 6],\n",
              "       [6, 0, 4, 4],\n",
              "       [6, 1, 7, 3],\n",
              "       [1, 5, 4, 4]])"
            ]
          },
          "metadata": {},
          "execution_count": 47
        }
      ]
    },
    {
      "cell_type": "code",
      "source": [
        "#columnwise\n",
        "arr.sum(axis=0)"
      ],
      "metadata": {
        "colab": {
          "base_uri": "https://localhost:8080/"
        },
        "id": "Y1t58HomRdHb",
        "outputId": "853f4852-8421-4b1c-f62b-9bc12fa12f2f"
      },
      "execution_count": null,
      "outputs": [
        {
          "output_type": "execute_result",
          "data": {
            "text/plain": [
              "array([22, 17, 22, 17])"
            ]
          },
          "metadata": {},
          "execution_count": 48
        }
      ]
    },
    {
      "cell_type": "code",
      "source": [
        "#rowwise\n",
        "arr.sum(axis=1)"
      ],
      "metadata": {
        "colab": {
          "base_uri": "https://localhost:8080/"
        },
        "id": "wPPZvdE2RdD3",
        "outputId": "237b0bf0-acab-4aec-9a48-8feadf4faf1a"
      },
      "execution_count": null,
      "outputs": [
        {
          "output_type": "execute_result",
          "data": {
            "text/plain": [
              "array([ 8, 25, 14, 17, 14])"
            ]
          },
          "metadata": {},
          "execution_count": 50
        }
      ]
    },
    {
      "cell_type": "code",
      "source": [
        "#max\n",
        "print(arr.max(axis=0))\n",
        "print(arr.max(axis=1))"
      ],
      "metadata": {
        "colab": {
          "base_uri": "https://localhost:8080/"
        },
        "id": "UWUQ9RIKRc84",
        "outputId": "eafef409-09fa-454a-952a-689a591381d1"
      },
      "execution_count": null,
      "outputs": [
        {
          "output_type": "stream",
          "name": "stdout",
          "text": [
            "[8 6 7 6]\n",
            "[6 8 6 7 5]\n"
          ]
        }
      ]
    },
    {
      "cell_type": "code",
      "source": [
        "#min\n",
        "print(arr.min(axis=0))\n",
        "print(arr.min(axis=1))"
      ],
      "metadata": {
        "colab": {
          "base_uri": "https://localhost:8080/"
        },
        "id": "RZdxvo6YRc6H",
        "outputId": "dc92dc86-b880-40f2-a747-de2704968a28"
      },
      "execution_count": null,
      "outputs": [
        {
          "output_type": "stream",
          "name": "stdout",
          "text": [
            "[1 0 1 0]\n",
            "[0 5 0 1 1]\n"
          ]
        }
      ]
    },
    {
      "cell_type": "code",
      "source": [
        "#mean\n",
        "print(arr.mean(axis=0))\n",
        "print(arr.mean(axis=1))"
      ],
      "metadata": {
        "colab": {
          "base_uri": "https://localhost:8080/"
        },
        "id": "2y4LaqDYRc3l",
        "outputId": "6f3a99f9-452a-41fd-bb2a-17b1fbf99803"
      },
      "execution_count": null,
      "outputs": [
        {
          "output_type": "stream",
          "name": "stdout",
          "text": [
            "[4.4 3.4 4.4 3.4]\n",
            "[2.   6.25 3.5  4.25 3.5 ]\n"
          ]
        }
      ]
    },
    {
      "cell_type": "code",
      "source": [
        "#cumulative summation\n",
        "arr = np.random.randint(0,9,20)\n",
        "print(arr)\n",
        "np.cumsum(arr)"
      ],
      "metadata": {
        "colab": {
          "base_uri": "https://localhost:8080/"
        },
        "id": "kAGUMe8lRc0-",
        "outputId": "75915fdc-b821-4623-cab6-43971303632d"
      },
      "execution_count": null,
      "outputs": [
        {
          "output_type": "stream",
          "name": "stdout",
          "text": [
            "[6 6 1 6 6 4 0 3 4 6 1 0 6 7 4 1 8 1 5 8]\n"
          ]
        },
        {
          "output_type": "execute_result",
          "data": {
            "text/plain": [
              "array([ 6, 12, 13, 19, 25, 29, 29, 32, 36, 42, 43, 43, 49, 56, 60, 61, 69,\n",
              "       70, 75, 83])"
            ]
          },
          "metadata": {},
          "execution_count": 58
        }
      ]
    },
    {
      "cell_type": "markdown",
      "source": [
        "* square"
      ],
      "metadata": {
        "id": "mj7TZ9fEdXYT"
      }
    },
    {
      "cell_type": "code",
      "source": [
        "arr = np.random.randint(1,9,20).reshape(4,5)\n",
        "print(arr)\n",
        "np.square(arr)"
      ],
      "metadata": {
        "colab": {
          "base_uri": "https://localhost:8080/"
        },
        "id": "lBQvBBkaRcx9",
        "outputId": "07deed3c-dc09-4d01-d131-7e3990ae0cf1"
      },
      "execution_count": null,
      "outputs": [
        {
          "output_type": "stream",
          "name": "stdout",
          "text": [
            "[[7 3 7 3 4]\n",
            " [7 6 5 5 6]\n",
            " [7 6 7 5 6]\n",
            " [7 7 1 5 7]]\n"
          ]
        },
        {
          "output_type": "execute_result",
          "data": {
            "text/plain": [
              "array([[49,  9, 49,  9, 16],\n",
              "       [49, 36, 25, 25, 36],\n",
              "       [49, 36, 49, 25, 36],\n",
              "       [49, 49,  1, 25, 49]])"
            ]
          },
          "metadata": {},
          "execution_count": 67
        }
      ]
    },
    {
      "cell_type": "markdown",
      "source": [
        "* sqrt"
      ],
      "metadata": {
        "id": "WVgB4_yKeZrB"
      }
    },
    {
      "cell_type": "code",
      "source": [
        "arr = np.random.randint(1,9,20).reshape(4,5)\n",
        "print(arr)\n",
        "np.sqrt(arr)"
      ],
      "metadata": {
        "colab": {
          "base_uri": "https://localhost:8080/"
        },
        "id": "YfnK2dYIc3vo",
        "outputId": "ce3ba67e-5835-4320-d638-811eabd7a2dd"
      },
      "execution_count": null,
      "outputs": [
        {
          "output_type": "stream",
          "name": "stdout",
          "text": [
            "[[3 1 8 5 1]\n",
            " [3 1 3 6 3]\n",
            " [6 1 1 7 7]\n",
            " [2 7 7 6 1]]\n"
          ]
        },
        {
          "output_type": "execute_result",
          "data": {
            "text/plain": [
              "array([[1.73205081, 1.        , 2.82842712, 2.23606798, 1.        ],\n",
              "       [1.73205081, 1.        , 1.73205081, 2.44948974, 1.73205081],\n",
              "       [2.44948974, 1.        , 1.        , 2.64575131, 2.64575131],\n",
              "       [1.41421356, 2.64575131, 2.64575131, 2.44948974, 1.        ]])"
            ]
          },
          "metadata": {},
          "execution_count": 66
        }
      ]
    },
    {
      "cell_type": "markdown",
      "source": [
        "* stacking of arrays"
      ],
      "metadata": {
        "id": "oxubgRkhfEu_"
      }
    },
    {
      "cell_type": "code",
      "source": [
        "arr1 = np.random.randint(1,9,20).reshape(4,5)\n",
        "arr2 = np.random.randint(1,9,20).reshape(4,5)\n",
        "print(arr1)\n",
        "print(arr2)"
      ],
      "metadata": {
        "colab": {
          "base_uri": "https://localhost:8080/"
        },
        "id": "n-u15xxdc3sb",
        "outputId": "858f65a7-5ead-44b7-fad1-94570c338742"
      },
      "execution_count": null,
      "outputs": [
        {
          "output_type": "stream",
          "name": "stdout",
          "text": [
            "[[6 2 3 4 6]\n",
            " [1 1 4 2 3]\n",
            " [3 3 6 3 3]\n",
            " [6 4 3 2 2]]\n",
            "[[6 8 3 4 6]\n",
            " [5 4 1 3 8]\n",
            " [4 1 3 8 5]\n",
            " [6 2 6 3 5]]\n"
          ]
        }
      ]
    },
    {
      "cell_type": "code",
      "source": [
        "#Horizontal stack\n",
        "#No.of rows should be equal\n",
        "np.hstack((arr1,arr2))"
      ],
      "metadata": {
        "colab": {
          "base_uri": "https://localhost:8080/"
        },
        "id": "3aCweNnoc3pY",
        "outputId": "fdbcb614-48c5-4c55-9594-5730b4bb72aa"
      },
      "execution_count": null,
      "outputs": [
        {
          "output_type": "execute_result",
          "data": {
            "text/plain": [
              "array([[6, 2, 3, 4, 6, 6, 8, 3, 4, 6],\n",
              "       [1, 1, 4, 2, 3, 5, 4, 1, 3, 8],\n",
              "       [3, 3, 6, 3, 3, 4, 1, 3, 8, 5],\n",
              "       [6, 4, 3, 2, 2, 6, 2, 6, 3, 5]])"
            ]
          },
          "metadata": {},
          "execution_count": 71
        }
      ]
    },
    {
      "cell_type": "code",
      "source": [
        "#Vertical stack\n",
        "#No.of columns should equal\n",
        "np.vstack((arr1,arr2))"
      ],
      "metadata": {
        "colab": {
          "base_uri": "https://localhost:8080/"
        },
        "id": "xTgn3Tw2edrw",
        "outputId": "9e5d8681-c289-461d-db85-b5352a93fac9"
      },
      "execution_count": null,
      "outputs": [
        {
          "output_type": "execute_result",
          "data": {
            "text/plain": [
              "array([[6, 2, 3, 4, 6],\n",
              "       [1, 1, 4, 2, 3],\n",
              "       [3, 3, 6, 3, 3],\n",
              "       [6, 4, 3, 2, 2],\n",
              "       [6, 8, 3, 4, 6],\n",
              "       [5, 4, 1, 3, 8],\n",
              "       [4, 1, 3, 8, 5],\n",
              "       [6, 2, 6, 3, 5]])"
            ]
          },
          "metadata": {},
          "execution_count": 72
        }
      ]
    },
    {
      "cell_type": "code",
      "source": [
        "#Question\n",
        "\n",
        "marks = np.random.randint(0,100,50)\n",
        "print(marks)\n",
        "\n",
        "for i in range(len(marks)):\n",
        "  if marks[i]>75:\n",
        "    print('Marks : Distinction!')\n",
        "  elif marks[i]>=60 and marks[i]<75:\n",
        "    print('Marks : First division')\n",
        "  elif marks[i]>=35 and marks[i]<60:\n",
        "    print('Marks : Second division')\n",
        "  else:\n",
        "    print('Marks : Fail!')"
      ],
      "metadata": {
        "id": "iM_aqgWaedoP",
        "colab": {
          "base_uri": "https://localhost:8080/"
        },
        "outputId": "46c8dfd0-4991-4947-b6bb-659509cbcea1"
      },
      "execution_count": null,
      "outputs": [
        {
          "output_type": "stream",
          "name": "stdout",
          "text": [
            "[70 55 74 13 44 87 58 40 59 62 72 36 95 76 87 64 71 26 49 96 45 44  0 33\n",
            " 34 50 41 12  4 63 41 22 92 80 10 52  2 65 23 81 81 89 59 66 84 60 93 25\n",
            " 51  4]\n",
            "Marks : First division\n",
            "Marks : Second division\n",
            "Marks : First division\n",
            "Marks : Fail!\n",
            "Marks : Second division\n",
            "Marks : Distinction!\n",
            "Marks : Second division\n",
            "Marks : Second division\n",
            "Marks : Second division\n",
            "Marks : First division\n",
            "Marks : First division\n",
            "Marks : Second division\n",
            "Marks : Distinction!\n",
            "Marks : Distinction!\n",
            "Marks : Distinction!\n",
            "Marks : First division\n",
            "Marks : First division\n",
            "Marks : Fail!\n",
            "Marks : Second division\n",
            "Marks : Distinction!\n",
            "Marks : Second division\n",
            "Marks : Second division\n",
            "Marks : Fail!\n",
            "Marks : Fail!\n",
            "Marks : Fail!\n",
            "Marks : Second division\n",
            "Marks : Second division\n",
            "Marks : Fail!\n",
            "Marks : Fail!\n",
            "Marks : First division\n",
            "Marks : Second division\n",
            "Marks : Fail!\n",
            "Marks : Distinction!\n",
            "Marks : Distinction!\n",
            "Marks : Fail!\n",
            "Marks : Second division\n",
            "Marks : Fail!\n",
            "Marks : First division\n",
            "Marks : Fail!\n",
            "Marks : Distinction!\n",
            "Marks : Distinction!\n",
            "Marks : Distinction!\n",
            "Marks : Second division\n",
            "Marks : First division\n",
            "Marks : Distinction!\n",
            "Marks : First division\n",
            "Marks : Distinction!\n",
            "Marks : Fail!\n",
            "Marks : Second division\n",
            "Marks : Fail!\n"
          ]
        }
      ]
    },
    {
      "cell_type": "markdown",
      "source": [
        "* Matrix multiplication"
      ],
      "metadata": {
        "id": "dWJBHRmvZOW9"
      }
    },
    {
      "cell_type": "code",
      "source": [
        "mat1 = np.random.randint(1,9,20).reshape(5,4)\n",
        "mat2 = np.random.randint(1,9,12).reshape(4,3)\n",
        "print(mat1)\n",
        "print(mat2)"
      ],
      "metadata": {
        "id": "q1ojyOKcedlq",
        "colab": {
          "base_uri": "https://localhost:8080/"
        },
        "outputId": "6fbbacba-fb7e-4358-9754-f98fa7e66ea9"
      },
      "execution_count": null,
      "outputs": [
        {
          "output_type": "stream",
          "name": "stdout",
          "text": [
            "[[4 8 1 1]\n",
            " [4 5 7 8]\n",
            " [1 2 2 2]\n",
            " [2 2 1 2]\n",
            " [8 6 6 3]]\n",
            "[[8 2 6]\n",
            " [2 3 5]\n",
            " [3 8 6]\n",
            " [4 2 2]]\n"
          ]
        }
      ]
    },
    {
      "cell_type": "code",
      "source": [
        "np.dot(mat1,mat2)"
      ],
      "metadata": {
        "id": "KOOI0hgkedjO",
        "colab": {
          "base_uri": "https://localhost:8080/"
        },
        "outputId": "9b2e9d0c-2ea2-4f5f-d58e-825d5e3f5f13"
      },
      "execution_count": null,
      "outputs": [
        {
          "output_type": "execute_result",
          "data": {
            "text/plain": [
              "array([[ 55,  42,  72],\n",
              "       [ 95,  95, 107],\n",
              "       [ 26,  28,  32],\n",
              "       [ 31,  22,  32],\n",
              "       [106,  88, 120]])"
            ]
          },
          "metadata": {},
          "execution_count": 18
        }
      ]
    },
    {
      "cell_type": "code",
      "source": [],
      "metadata": {
        "id": "kqpnciOHPBg-"
      },
      "execution_count": null,
      "outputs": []
    }
  ]
}