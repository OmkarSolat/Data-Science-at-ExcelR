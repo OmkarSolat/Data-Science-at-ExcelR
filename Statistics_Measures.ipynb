{
  "nbformat": 4,
  "nbformat_minor": 0,
  "metadata": {
    "colab": {
      "provenance": [],
      "authorship_tag": "ABX9TyPtbwXOlT4eF+49GgjsEP3j",
      "include_colab_link": true
    },
    "kernelspec": {
      "name": "python3",
      "display_name": "Python 3"
    },
    "language_info": {
      "name": "python"
    }
  },
  "cells": [
    {
      "cell_type": "markdown",
      "metadata": {
        "id": "view-in-github",
        "colab_type": "text"
      },
      "source": [
        "<a href=\"https://colab.research.google.com/github/OmkarSolat/Data-Science-at-ExcelR/blob/main/Statistics_Measures.ipynb\" target=\"_parent\"><img src=\"https://colab.research.google.com/assets/colab-badge.svg\" alt=\"Open In Colab\"/></a>"
      ]
    },
    {
      "cell_type": "markdown",
      "source": [
        "# Measures of Central Tendencies"
      ],
      "metadata": {
        "id": "nkS6JMz67JfM"
      }
    },
    {
      "cell_type": "markdown",
      "source": [
        "# Mean"
      ],
      "metadata": {
        "id": "C59TrSjq7Si4"
      }
    },
    {
      "cell_type": "code",
      "execution_count": null,
      "metadata": {
        "id": "LRTUASdKdcfF"
      },
      "outputs": [],
      "source": [
        "a = [62,4,83,24,40,73,87,2,54,5,74,83,87,54,94,26,14,9,14]"
      ]
    },
    {
      "cell_type": "code",
      "source": [
        "#mean\n",
        "print('Sum of the values in the data is : ',sum(a))\n",
        "print('Number of the values in the data is :',len(a))\n",
        "average_data = sum(a)/len(a)\n",
        "print('Mean of the values in the data is :',average_data)"
      ],
      "metadata": {
        "colab": {
          "base_uri": "https://localhost:8080/"
        },
        "id": "JpxGeuW8dkiO",
        "outputId": "53792f1f-ae37-40dd-eb52-e905bca9f520"
      },
      "execution_count": null,
      "outputs": [
        {
          "output_type": "stream",
          "name": "stdout",
          "text": [
            "Sum of the values in the data is :  889\n",
            "Number of the values in the data is : 19\n",
            "Mean of the values in the data is : 46.78947368421053\n"
          ]
        }
      ]
    },
    {
      "cell_type": "code",
      "source": [
        "def avg(i):\n",
        "  avg_value = sum(i)/len(i)\n",
        "  return avg_value\n",
        "avg(a)"
      ],
      "metadata": {
        "colab": {
          "base_uri": "https://localhost:8080/"
        },
        "id": "07VAuxAIdklU",
        "outputId": "3a799e1f-8878-49c8-d2c5-3d276ac3e9a1"
      },
      "execution_count": null,
      "outputs": [
        {
          "output_type": "execute_result",
          "data": {
            "text/plain": [
              "46.78947368421053"
            ]
          },
          "metadata": {},
          "execution_count": 3
        }
      ]
    },
    {
      "cell_type": "code",
      "source": [
        "avg([5,4,8,2,1,3,6,4])"
      ],
      "metadata": {
        "colab": {
          "base_uri": "https://localhost:8080/"
        },
        "id": "ROtLCigzdkod",
        "outputId": "73746115-679e-44b8-c2ca-16ebff4e757d"
      },
      "execution_count": null,
      "outputs": [
        {
          "output_type": "execute_result",
          "data": {
            "text/plain": [
              "4.125"
            ]
          },
          "metadata": {},
          "execution_count": 4
        }
      ]
    },
    {
      "cell_type": "markdown",
      "source": [
        "# Median"
      ],
      "metadata": {
        "id": "4OC3xtSdEKPU"
      }
    },
    {
      "cell_type": "code",
      "source": [
        "#median for even data\n",
        "a = [0,6,7,14,24,26,33,43,50,52,58,58,61,65,65,69,69,93,96]\n",
        "\n",
        "def median(i):\n",
        "  i.sort()\n",
        "  print(i)\n",
        "  n = len(i)\n",
        "  middle1 = i[n//2 - 1]\n",
        "  middle2 = i[n//2]\n",
        "  median = (middle1 + middle2)/2\n",
        "  return median\n",
        "print('Median :',median(a))"
      ],
      "metadata": {
        "colab": {
          "base_uri": "https://localhost:8080/"
        },
        "id": "5ju0wfx_FPgf",
        "outputId": "7d66f8b5-c55c-4e06-a80c-01921dd54239"
      },
      "execution_count": null,
      "outputs": [
        {
          "output_type": "stream",
          "name": "stdout",
          "text": [
            "[0, 6, 7, 14, 24, 26, 33, 43, 50, 52, 58, 58, 61, 65, 65, 69, 69, 93, 96]\n",
            "Median : 51.0\n"
          ]
        }
      ]
    },
    {
      "cell_type": "code",
      "source": [
        "#Question\n",
        "def median(i):\n",
        "  i.sort()\n",
        "  print(i)\n",
        "  if len(i)%2==0:\n",
        "    indexvalue=int(len(i)//2)\n",
        "    median_val=(i[indexvalue-1] + i[indexvalue])//2\n",
        "  else:\n",
        "    indexvalue=len(i)//2\n",
        "    median_val=i[indexvalue]\n",
        "  return median_val\n",
        "\n",
        "print('Median:',median(a))"
      ],
      "metadata": {
        "id": "gddergiGdkrj",
        "colab": {
          "base_uri": "https://localhost:8080/"
        },
        "outputId": "7de9638e-0989-4fc4-ff14-de0d54b5b3dd"
      },
      "execution_count": null,
      "outputs": [
        {
          "output_type": "stream",
          "name": "stdout",
          "text": [
            "[0, 6, 7, 14, 24, 26, 33, 43, 50, 52, 58, 58, 61, 65, 65, 69, 69, 93, 96]\n",
            "Median: 52\n"
          ]
        }
      ]
    },
    {
      "cell_type": "markdown",
      "source": [
        "#Mode"
      ],
      "metadata": {
        "id": "Ovp7Ju46PY3o"
      }
    },
    {
      "cell_type": "code",
      "source": [
        "#Question\n",
        "a = [0,6,7,14,24,26,18,18,18,18,18,18,18,33,43,50,52,58,58,61,65,65,69,69,93,96]\n",
        "print(a)\n",
        "\n",
        "def mode(i):\n",
        "  counts = {}\n",
        "  for item in i:\n",
        "    if item in counts:\n",
        "      counts[item] += 1\n",
        "    else:\n",
        "      counts[item] = 1\n",
        "  # Find the item with the maximum count\n",
        "  max_count = 0\n",
        "  mode = None\n",
        "  for item, count in counts.items():\n",
        "    if count > max_count:\n",
        "      max_count = count\n",
        "      mode = item\n",
        "  return mode\n",
        "\n",
        "print('Mode:', mode(a))\n"
      ],
      "metadata": {
        "id": "uFY9PGDjdkui",
        "colab": {
          "base_uri": "https://localhost:8080/"
        },
        "outputId": "9976b7d9-8e5b-4fb0-aae5-6f1e9cc9d977"
      },
      "execution_count": null,
      "outputs": [
        {
          "output_type": "stream",
          "name": "stdout",
          "text": [
            "[0, 6, 7, 14, 24, 26, 18, 18, 18, 18, 18, 18, 18, 33, 43, 50, 52, 58, 58, 61, 65, 65, 69, 69, 93, 96]\n",
            "Mode: 18\n"
          ]
        }
      ]
    },
    {
      "cell_type": "markdown",
      "source": [
        "# Variance and Standard deviation"
      ],
      "metadata": {
        "id": "X5LGRMBKJXiW"
      }
    },
    {
      "cell_type": "code",
      "source": [
        "#Question\n",
        "import numpy as np\n",
        "import pandas as pd\n",
        "df=pd.DataFrame()\n",
        "df['X']=pd.Series([62,4,83,24,40,73,87,2,54,5,74,83,87,54,26,14,9])\n",
        "print('Mean of the data is :',np.mean(df['X']))\n",
        "df['X-Mean']=df['X'] - np.mean(df['X'])\n",
        "df['(X-Mean)**2']=df['X-Mean']**2\n",
        "print(df)\n",
        "print('Sum of the squared diffrences from the mean is :', sum(df['(X-Mean)**2']))\n",
        "print('Count of the data minus one is :',len(df['X'] - 1))\n",
        "Variance = (sum(df['(X-Mean)**2'])) / len(df['X'] - 1)\n",
        "print('Variance of the data is :',Variance)\n",
        "St_Dev=np.sqrt(Variance)\n",
        "print('Standard Deviation of the data is :', St_Dev)"
      ],
      "metadata": {
        "colab": {
          "base_uri": "https://localhost:8080/"
        },
        "id": "2hchVOYHJW_7",
        "outputId": "bf5af488-324b-464e-b703-71a105850dd4"
      },
      "execution_count": null,
      "outputs": [
        {
          "output_type": "stream",
          "name": "stdout",
          "text": [
            "Mean of the data is : 45.94117647058823\n",
            "     X     X-Mean  (X-Mean)**2\n",
            "0   62  16.058824   257.885813\n",
            "1    4 -41.941176  1759.062284\n",
            "2   83  37.058824  1373.356401\n",
            "3   24 -21.941176   481.415225\n",
            "4   40  -5.941176    35.297578\n",
            "5   73  27.058824   732.179931\n",
            "6   87  41.058824  1685.826990\n",
            "7    2 -43.941176  1930.826990\n",
            "8   54   8.058824    64.944637\n",
            "9    5 -40.941176  1676.179931\n",
            "10  74  28.058824   787.297578\n",
            "11  83  37.058824  1373.356401\n",
            "12  87  41.058824  1685.826990\n",
            "13  54   8.058824    64.944637\n",
            "14  26 -19.941176   397.650519\n",
            "15  14 -31.941176  1020.238754\n",
            "16   9 -36.941176  1364.650519\n",
            "Sum of the squared diffrences from the mean is : 16690.94117647059\n",
            "Count of the data minus one is : 17\n",
            "Variance of the data is : 981.8200692041524\n",
            "Standard Deviation of the data is : 31.334008189252653\n"
          ]
        }
      ]
    },
    {
      "cell_type": "code",
      "source": [
        "import numpy as np\n",
        "a=[58,52,43,29,69,7,26,14,65,69,93,65,33,61,50,6,24]\n",
        "a=np.array(a)\n",
        "print('variance=',np.var(a))\n",
        "print('std=',np.std(a))"
      ],
      "metadata": {
        "colab": {
          "base_uri": "https://localhost:8080/"
        },
        "id": "F3tngojlwHip",
        "outputId": "a732b692-8fa6-4519-b557-2a9c72baa616"
      },
      "execution_count": null,
      "outputs": [
        {
          "output_type": "stream",
          "name": "stdout",
          "text": [
            "variance= 581.5847750865053\n",
            "std= 24.116068814931367\n"
          ]
        }
      ]
    },
    {
      "cell_type": "markdown",
      "source": [
        "# Emperical rules"
      ],
      "metadata": {
        "id": "023ctFqU6MJx"
      }
    },
    {
      "cell_type": "code",
      "source": [
        "from google.colab import files\n",
        "scores =files.upload()"
      ],
      "metadata": {
        "id": "Vugrg7N8dk2R",
        "colab": {
          "base_uri": "https://localhost:8080/",
          "height": 90
        },
        "outputId": "1ec850ed-4397-4ba2-a9ba-9e4999c150b7"
      },
      "execution_count": null,
      "outputs": [
        {
          "output_type": "display_data",
          "data": {
            "text/plain": [
              "<IPython.core.display.HTML object>"
            ],
            "text/html": [
              "\n",
              "     <input type=\"file\" id=\"files-1e040472-4aa9-4121-995a-98557f30f318\" name=\"files[]\" multiple disabled\n",
              "        style=\"border:none\" />\n",
              "     <output id=\"result-1e040472-4aa9-4121-995a-98557f30f318\">\n",
              "      Upload widget is only available when the cell has been executed in the\n",
              "      current browser session. Please rerun this cell to enable.\n",
              "      </output>\n",
              "      <script>// Copyright 2017 Google LLC\n",
              "//\n",
              "// Licensed under the Apache License, Version 2.0 (the \"License\");\n",
              "// you may not use this file except in compliance with the License.\n",
              "// You may obtain a copy of the License at\n",
              "//\n",
              "//      http://www.apache.org/licenses/LICENSE-2.0\n",
              "//\n",
              "// Unless required by applicable law or agreed to in writing, software\n",
              "// distributed under the License is distributed on an \"AS IS\" BASIS,\n",
              "// WITHOUT WARRANTIES OR CONDITIONS OF ANY KIND, either express or implied.\n",
              "// See the License for the specific language governing permissions and\n",
              "// limitations under the License.\n",
              "\n",
              "/**\n",
              " * @fileoverview Helpers for google.colab Python module.\n",
              " */\n",
              "(function(scope) {\n",
              "function span(text, styleAttributes = {}) {\n",
              "  const element = document.createElement('span');\n",
              "  element.textContent = text;\n",
              "  for (const key of Object.keys(styleAttributes)) {\n",
              "    element.style[key] = styleAttributes[key];\n",
              "  }\n",
              "  return element;\n",
              "}\n",
              "\n",
              "// Max number of bytes which will be uploaded at a time.\n",
              "const MAX_PAYLOAD_SIZE = 100 * 1024;\n",
              "\n",
              "function _uploadFiles(inputId, outputId) {\n",
              "  const steps = uploadFilesStep(inputId, outputId);\n",
              "  const outputElement = document.getElementById(outputId);\n",
              "  // Cache steps on the outputElement to make it available for the next call\n",
              "  // to uploadFilesContinue from Python.\n",
              "  outputElement.steps = steps;\n",
              "\n",
              "  return _uploadFilesContinue(outputId);\n",
              "}\n",
              "\n",
              "// This is roughly an async generator (not supported in the browser yet),\n",
              "// where there are multiple asynchronous steps and the Python side is going\n",
              "// to poll for completion of each step.\n",
              "// This uses a Promise to block the python side on completion of each step,\n",
              "// then passes the result of the previous step as the input to the next step.\n",
              "function _uploadFilesContinue(outputId) {\n",
              "  const outputElement = document.getElementById(outputId);\n",
              "  const steps = outputElement.steps;\n",
              "\n",
              "  const next = steps.next(outputElement.lastPromiseValue);\n",
              "  return Promise.resolve(next.value.promise).then((value) => {\n",
              "    // Cache the last promise value to make it available to the next\n",
              "    // step of the generator.\n",
              "    outputElement.lastPromiseValue = value;\n",
              "    return next.value.response;\n",
              "  });\n",
              "}\n",
              "\n",
              "/**\n",
              " * Generator function which is called between each async step of the upload\n",
              " * process.\n",
              " * @param {string} inputId Element ID of the input file picker element.\n",
              " * @param {string} outputId Element ID of the output display.\n",
              " * @return {!Iterable<!Object>} Iterable of next steps.\n",
              " */\n",
              "function* uploadFilesStep(inputId, outputId) {\n",
              "  const inputElement = document.getElementById(inputId);\n",
              "  inputElement.disabled = false;\n",
              "\n",
              "  const outputElement = document.getElementById(outputId);\n",
              "  outputElement.innerHTML = '';\n",
              "\n",
              "  const pickedPromise = new Promise((resolve) => {\n",
              "    inputElement.addEventListener('change', (e) => {\n",
              "      resolve(e.target.files);\n",
              "    });\n",
              "  });\n",
              "\n",
              "  const cancel = document.createElement('button');\n",
              "  inputElement.parentElement.appendChild(cancel);\n",
              "  cancel.textContent = 'Cancel upload';\n",
              "  const cancelPromise = new Promise((resolve) => {\n",
              "    cancel.onclick = () => {\n",
              "      resolve(null);\n",
              "    };\n",
              "  });\n",
              "\n",
              "  // Wait for the user to pick the files.\n",
              "  const files = yield {\n",
              "    promise: Promise.race([pickedPromise, cancelPromise]),\n",
              "    response: {\n",
              "      action: 'starting',\n",
              "    }\n",
              "  };\n",
              "\n",
              "  cancel.remove();\n",
              "\n",
              "  // Disable the input element since further picks are not allowed.\n",
              "  inputElement.disabled = true;\n",
              "\n",
              "  if (!files) {\n",
              "    return {\n",
              "      response: {\n",
              "        action: 'complete',\n",
              "      }\n",
              "    };\n",
              "  }\n",
              "\n",
              "  for (const file of files) {\n",
              "    const li = document.createElement('li');\n",
              "    li.append(span(file.name, {fontWeight: 'bold'}));\n",
              "    li.append(span(\n",
              "        `(${file.type || 'n/a'}) - ${file.size} bytes, ` +\n",
              "        `last modified: ${\n",
              "            file.lastModifiedDate ? file.lastModifiedDate.toLocaleDateString() :\n",
              "                                    'n/a'} - `));\n",
              "    const percent = span('0% done');\n",
              "    li.appendChild(percent);\n",
              "\n",
              "    outputElement.appendChild(li);\n",
              "\n",
              "    const fileDataPromise = new Promise((resolve) => {\n",
              "      const reader = new FileReader();\n",
              "      reader.onload = (e) => {\n",
              "        resolve(e.target.result);\n",
              "      };\n",
              "      reader.readAsArrayBuffer(file);\n",
              "    });\n",
              "    // Wait for the data to be ready.\n",
              "    let fileData = yield {\n",
              "      promise: fileDataPromise,\n",
              "      response: {\n",
              "        action: 'continue',\n",
              "      }\n",
              "    };\n",
              "\n",
              "    // Use a chunked sending to avoid message size limits. See b/62115660.\n",
              "    let position = 0;\n",
              "    do {\n",
              "      const length = Math.min(fileData.byteLength - position, MAX_PAYLOAD_SIZE);\n",
              "      const chunk = new Uint8Array(fileData, position, length);\n",
              "      position += length;\n",
              "\n",
              "      const base64 = btoa(String.fromCharCode.apply(null, chunk));\n",
              "      yield {\n",
              "        response: {\n",
              "          action: 'append',\n",
              "          file: file.name,\n",
              "          data: base64,\n",
              "        },\n",
              "      };\n",
              "\n",
              "      let percentDone = fileData.byteLength === 0 ?\n",
              "          100 :\n",
              "          Math.round((position / fileData.byteLength) * 100);\n",
              "      percent.textContent = `${percentDone}% done`;\n",
              "\n",
              "    } while (position < fileData.byteLength);\n",
              "  }\n",
              "\n",
              "  // All done.\n",
              "  yield {\n",
              "    response: {\n",
              "      action: 'complete',\n",
              "    }\n",
              "  };\n",
              "}\n",
              "\n",
              "scope.google = scope.google || {};\n",
              "scope.google.colab = scope.google.colab || {};\n",
              "scope.google.colab._files = {\n",
              "  _uploadFiles,\n",
              "  _uploadFilesContinue,\n",
              "};\n",
              "})(self);\n",
              "</script> "
            ]
          },
          "metadata": {}
        },
        {
          "output_type": "stream",
          "name": "stdout",
          "text": [
            "Saving Statistics Data for Sessions.xlsx to Statistics Data for Sessions.xlsx\n"
          ]
        }
      ]
    },
    {
      "cell_type": "code",
      "source": [
        "import pandas as pd\n",
        "runs=pd.read_excel('Statistics Data for Sessions.xlsx', sheet_name='Virat Kohli Data for Python')\n",
        "runs  #Data"
      ],
      "metadata": {
        "id": "8aPBKGdZdk-G",
        "colab": {
          "base_uri": "https://localhost:8080/",
          "height": 423
        },
        "outputId": "e790c59a-1a1c-4dd5-e154-da6670943699"
      },
      "execution_count": null,
      "outputs": [
        {
          "output_type": "execute_result",
          "data": {
            "text/plain": [
              "     Runs\n",
              "0       0\n",
              "1       0\n",
              "2       0\n",
              "3       0\n",
              "4       0\n",
              "..    ...\n",
              "145   128\n",
              "146   133\n",
              "147   136\n",
              "148   139\n",
              "149   183\n",
              "\n",
              "[150 rows x 1 columns]"
            ],
            "text/html": [
              "\n",
              "  <div id=\"df-114b7ffa-82d8-450a-af33-a639534cd520\" class=\"colab-df-container\">\n",
              "    <div>\n",
              "<style scoped>\n",
              "    .dataframe tbody tr th:only-of-type {\n",
              "        vertical-align: middle;\n",
              "    }\n",
              "\n",
              "    .dataframe tbody tr th {\n",
              "        vertical-align: top;\n",
              "    }\n",
              "\n",
              "    .dataframe thead th {\n",
              "        text-align: right;\n",
              "    }\n",
              "</style>\n",
              "<table border=\"1\" class=\"dataframe\">\n",
              "  <thead>\n",
              "    <tr style=\"text-align: right;\">\n",
              "      <th></th>\n",
              "      <th>Runs</th>\n",
              "    </tr>\n",
              "  </thead>\n",
              "  <tbody>\n",
              "    <tr>\n",
              "      <th>0</th>\n",
              "      <td>0</td>\n",
              "    </tr>\n",
              "    <tr>\n",
              "      <th>1</th>\n",
              "      <td>0</td>\n",
              "    </tr>\n",
              "    <tr>\n",
              "      <th>2</th>\n",
              "      <td>0</td>\n",
              "    </tr>\n",
              "    <tr>\n",
              "      <th>3</th>\n",
              "      <td>0</td>\n",
              "    </tr>\n",
              "    <tr>\n",
              "      <th>4</th>\n",
              "      <td>0</td>\n",
              "    </tr>\n",
              "    <tr>\n",
              "      <th>...</th>\n",
              "      <td>...</td>\n",
              "    </tr>\n",
              "    <tr>\n",
              "      <th>145</th>\n",
              "      <td>128</td>\n",
              "    </tr>\n",
              "    <tr>\n",
              "      <th>146</th>\n",
              "      <td>133</td>\n",
              "    </tr>\n",
              "    <tr>\n",
              "      <th>147</th>\n",
              "      <td>136</td>\n",
              "    </tr>\n",
              "    <tr>\n",
              "      <th>148</th>\n",
              "      <td>139</td>\n",
              "    </tr>\n",
              "    <tr>\n",
              "      <th>149</th>\n",
              "      <td>183</td>\n",
              "    </tr>\n",
              "  </tbody>\n",
              "</table>\n",
              "<p>150 rows × 1 columns</p>\n",
              "</div>\n",
              "    <div class=\"colab-df-buttons\">\n",
              "\n",
              "  <div class=\"colab-df-container\">\n",
              "    <button class=\"colab-df-convert\" onclick=\"convertToInteractive('df-114b7ffa-82d8-450a-af33-a639534cd520')\"\n",
              "            title=\"Convert this dataframe to an interactive table.\"\n",
              "            style=\"display:none;\">\n",
              "\n",
              "  <svg xmlns=\"http://www.w3.org/2000/svg\" height=\"24px\" viewBox=\"0 -960 960 960\">\n",
              "    <path d=\"M120-120v-720h720v720H120Zm60-500h600v-160H180v160Zm220 220h160v-160H400v160Zm0 220h160v-160H400v160ZM180-400h160v-160H180v160Zm440 0h160v-160H620v160ZM180-180h160v-160H180v160Zm440 0h160v-160H620v160Z\"/>\n",
              "  </svg>\n",
              "    </button>\n",
              "\n",
              "  <style>\n",
              "    .colab-df-container {\n",
              "      display:flex;\n",
              "      gap: 12px;\n",
              "    }\n",
              "\n",
              "    .colab-df-convert {\n",
              "      background-color: #E8F0FE;\n",
              "      border: none;\n",
              "      border-radius: 50%;\n",
              "      cursor: pointer;\n",
              "      display: none;\n",
              "      fill: #1967D2;\n",
              "      height: 32px;\n",
              "      padding: 0 0 0 0;\n",
              "      width: 32px;\n",
              "    }\n",
              "\n",
              "    .colab-df-convert:hover {\n",
              "      background-color: #E2EBFA;\n",
              "      box-shadow: 0px 1px 2px rgba(60, 64, 67, 0.3), 0px 1px 3px 1px rgba(60, 64, 67, 0.15);\n",
              "      fill: #174EA6;\n",
              "    }\n",
              "\n",
              "    .colab-df-buttons div {\n",
              "      margin-bottom: 4px;\n",
              "    }\n",
              "\n",
              "    [theme=dark] .colab-df-convert {\n",
              "      background-color: #3B4455;\n",
              "      fill: #D2E3FC;\n",
              "    }\n",
              "\n",
              "    [theme=dark] .colab-df-convert:hover {\n",
              "      background-color: #434B5C;\n",
              "      box-shadow: 0px 1px 3px 1px rgba(0, 0, 0, 0.15);\n",
              "      filter: drop-shadow(0px 1px 2px rgba(0, 0, 0, 0.3));\n",
              "      fill: #FFFFFF;\n",
              "    }\n",
              "  </style>\n",
              "\n",
              "    <script>\n",
              "      const buttonEl =\n",
              "        document.querySelector('#df-114b7ffa-82d8-450a-af33-a639534cd520 button.colab-df-convert');\n",
              "      buttonEl.style.display =\n",
              "        google.colab.kernel.accessAllowed ? 'block' : 'none';\n",
              "\n",
              "      async function convertToInteractive(key) {\n",
              "        const element = document.querySelector('#df-114b7ffa-82d8-450a-af33-a639534cd520');\n",
              "        const dataTable =\n",
              "          await google.colab.kernel.invokeFunction('convertToInteractive',\n",
              "                                                    [key], {});\n",
              "        if (!dataTable) return;\n",
              "\n",
              "        const docLinkHtml = 'Like what you see? Visit the ' +\n",
              "          '<a target=\"_blank\" href=https://colab.research.google.com/notebooks/data_table.ipynb>data table notebook</a>'\n",
              "          + ' to learn more about interactive tables.';\n",
              "        element.innerHTML = '';\n",
              "        dataTable['output_type'] = 'display_data';\n",
              "        await google.colab.output.renderOutput(dataTable, element);\n",
              "        const docLink = document.createElement('div');\n",
              "        docLink.innerHTML = docLinkHtml;\n",
              "        element.appendChild(docLink);\n",
              "      }\n",
              "    </script>\n",
              "  </div>\n",
              "\n",
              "\n",
              "<div id=\"df-e866b53f-d311-4444-8690-5fa40dddaebf\">\n",
              "  <button class=\"colab-df-quickchart\" onclick=\"quickchart('df-e866b53f-d311-4444-8690-5fa40dddaebf')\"\n",
              "            title=\"Suggest charts\"\n",
              "            style=\"display:none;\">\n",
              "\n",
              "<svg xmlns=\"http://www.w3.org/2000/svg\" height=\"24px\"viewBox=\"0 0 24 24\"\n",
              "     width=\"24px\">\n",
              "    <g>\n",
              "        <path d=\"M19 3H5c-1.1 0-2 .9-2 2v14c0 1.1.9 2 2 2h14c1.1 0 2-.9 2-2V5c0-1.1-.9-2-2-2zM9 17H7v-7h2v7zm4 0h-2V7h2v10zm4 0h-2v-4h2v4z\"/>\n",
              "    </g>\n",
              "</svg>\n",
              "  </button>\n",
              "\n",
              "<style>\n",
              "  .colab-df-quickchart {\n",
              "      --bg-color: #E8F0FE;\n",
              "      --fill-color: #1967D2;\n",
              "      --hover-bg-color: #E2EBFA;\n",
              "      --hover-fill-color: #174EA6;\n",
              "      --disabled-fill-color: #AAA;\n",
              "      --disabled-bg-color: #DDD;\n",
              "  }\n",
              "\n",
              "  [theme=dark] .colab-df-quickchart {\n",
              "      --bg-color: #3B4455;\n",
              "      --fill-color: #D2E3FC;\n",
              "      --hover-bg-color: #434B5C;\n",
              "      --hover-fill-color: #FFFFFF;\n",
              "      --disabled-bg-color: #3B4455;\n",
              "      --disabled-fill-color: #666;\n",
              "  }\n",
              "\n",
              "  .colab-df-quickchart {\n",
              "    background-color: var(--bg-color);\n",
              "    border: none;\n",
              "    border-radius: 50%;\n",
              "    cursor: pointer;\n",
              "    display: none;\n",
              "    fill: var(--fill-color);\n",
              "    height: 32px;\n",
              "    padding: 0;\n",
              "    width: 32px;\n",
              "  }\n",
              "\n",
              "  .colab-df-quickchart:hover {\n",
              "    background-color: var(--hover-bg-color);\n",
              "    box-shadow: 0 1px 2px rgba(60, 64, 67, 0.3), 0 1px 3px 1px rgba(60, 64, 67, 0.15);\n",
              "    fill: var(--button-hover-fill-color);\n",
              "  }\n",
              "\n",
              "  .colab-df-quickchart-complete:disabled,\n",
              "  .colab-df-quickchart-complete:disabled:hover {\n",
              "    background-color: var(--disabled-bg-color);\n",
              "    fill: var(--disabled-fill-color);\n",
              "    box-shadow: none;\n",
              "  }\n",
              "\n",
              "  .colab-df-spinner {\n",
              "    border: 2px solid var(--fill-color);\n",
              "    border-color: transparent;\n",
              "    border-bottom-color: var(--fill-color);\n",
              "    animation:\n",
              "      spin 1s steps(1) infinite;\n",
              "  }\n",
              "\n",
              "  @keyframes spin {\n",
              "    0% {\n",
              "      border-color: transparent;\n",
              "      border-bottom-color: var(--fill-color);\n",
              "      border-left-color: var(--fill-color);\n",
              "    }\n",
              "    20% {\n",
              "      border-color: transparent;\n",
              "      border-left-color: var(--fill-color);\n",
              "      border-top-color: var(--fill-color);\n",
              "    }\n",
              "    30% {\n",
              "      border-color: transparent;\n",
              "      border-left-color: var(--fill-color);\n",
              "      border-top-color: var(--fill-color);\n",
              "      border-right-color: var(--fill-color);\n",
              "    }\n",
              "    40% {\n",
              "      border-color: transparent;\n",
              "      border-right-color: var(--fill-color);\n",
              "      border-top-color: var(--fill-color);\n",
              "    }\n",
              "    60% {\n",
              "      border-color: transparent;\n",
              "      border-right-color: var(--fill-color);\n",
              "    }\n",
              "    80% {\n",
              "      border-color: transparent;\n",
              "      border-right-color: var(--fill-color);\n",
              "      border-bottom-color: var(--fill-color);\n",
              "    }\n",
              "    90% {\n",
              "      border-color: transparent;\n",
              "      border-bottom-color: var(--fill-color);\n",
              "    }\n",
              "  }\n",
              "</style>\n",
              "\n",
              "  <script>\n",
              "    async function quickchart(key) {\n",
              "      const quickchartButtonEl =\n",
              "        document.querySelector('#' + key + ' button');\n",
              "      quickchartButtonEl.disabled = true;  // To prevent multiple clicks.\n",
              "      quickchartButtonEl.classList.add('colab-df-spinner');\n",
              "      try {\n",
              "        const charts = await google.colab.kernel.invokeFunction(\n",
              "            'suggestCharts', [key], {});\n",
              "      } catch (error) {\n",
              "        console.error('Error during call to suggestCharts:', error);\n",
              "      }\n",
              "      quickchartButtonEl.classList.remove('colab-df-spinner');\n",
              "      quickchartButtonEl.classList.add('colab-df-quickchart-complete');\n",
              "    }\n",
              "    (() => {\n",
              "      let quickchartButtonEl =\n",
              "        document.querySelector('#df-e866b53f-d311-4444-8690-5fa40dddaebf button');\n",
              "      quickchartButtonEl.style.display =\n",
              "        google.colab.kernel.accessAllowed ? 'block' : 'none';\n",
              "    })();\n",
              "  </script>\n",
              "</div>\n",
              "\n",
              "  <div id=\"id_8eae1537-3f67-48b7-bc30-797f8da2b25f\">\n",
              "    <style>\n",
              "      .colab-df-generate {\n",
              "        background-color: #E8F0FE;\n",
              "        border: none;\n",
              "        border-radius: 50%;\n",
              "        cursor: pointer;\n",
              "        display: none;\n",
              "        fill: #1967D2;\n",
              "        height: 32px;\n",
              "        padding: 0 0 0 0;\n",
              "        width: 32px;\n",
              "      }\n",
              "\n",
              "      .colab-df-generate:hover {\n",
              "        background-color: #E2EBFA;\n",
              "        box-shadow: 0px 1px 2px rgba(60, 64, 67, 0.3), 0px 1px 3px 1px rgba(60, 64, 67, 0.15);\n",
              "        fill: #174EA6;\n",
              "      }\n",
              "\n",
              "      [theme=dark] .colab-df-generate {\n",
              "        background-color: #3B4455;\n",
              "        fill: #D2E3FC;\n",
              "      }\n",
              "\n",
              "      [theme=dark] .colab-df-generate:hover {\n",
              "        background-color: #434B5C;\n",
              "        box-shadow: 0px 1px 3px 1px rgba(0, 0, 0, 0.15);\n",
              "        filter: drop-shadow(0px 1px 2px rgba(0, 0, 0, 0.3));\n",
              "        fill: #FFFFFF;\n",
              "      }\n",
              "    </style>\n",
              "    <button class=\"colab-df-generate\" onclick=\"generateWithVariable('runs')\"\n",
              "            title=\"Generate code using this dataframe.\"\n",
              "            style=\"display:none;\">\n",
              "\n",
              "  <svg xmlns=\"http://www.w3.org/2000/svg\" height=\"24px\"viewBox=\"0 0 24 24\"\n",
              "       width=\"24px\">\n",
              "    <path d=\"M7,19H8.4L18.45,9,17,7.55,7,17.6ZM5,21V16.75L18.45,3.32a2,2,0,0,1,2.83,0l1.4,1.43a1.91,1.91,0,0,1,.58,1.4,1.91,1.91,0,0,1-.58,1.4L9.25,21ZM18.45,9,17,7.55Zm-12,3A5.31,5.31,0,0,0,4.9,8.1,5.31,5.31,0,0,0,1,6.5,5.31,5.31,0,0,0,4.9,4.9,5.31,5.31,0,0,0,6.5,1,5.31,5.31,0,0,0,8.1,4.9,5.31,5.31,0,0,0,12,6.5,5.46,5.46,0,0,0,6.5,12Z\"/>\n",
              "  </svg>\n",
              "    </button>\n",
              "    <script>\n",
              "      (() => {\n",
              "      const buttonEl =\n",
              "        document.querySelector('#id_8eae1537-3f67-48b7-bc30-797f8da2b25f button.colab-df-generate');\n",
              "      buttonEl.style.display =\n",
              "        google.colab.kernel.accessAllowed ? 'block' : 'none';\n",
              "\n",
              "      buttonEl.onclick = () => {\n",
              "        google.colab.notebook.generateWithVariable('runs');\n",
              "      }\n",
              "      })();\n",
              "    </script>\n",
              "  </div>\n",
              "\n",
              "    </div>\n",
              "  </div>\n"
            ],
            "application/vnd.google.colaboratory.intrinsic+json": {
              "type": "dataframe",
              "variable_name": "runs",
              "summary": "{\n  \"name\": \"runs\",\n  \"rows\": 150,\n  \"fields\": [\n    {\n      \"column\": \"Runs\",\n      \"properties\": {\n        \"dtype\": \"number\",\n        \"std\": 40,\n        \"min\": 0,\n        \"max\": 183,\n        \"num_unique_values\": 82,\n        \"samples\": [\n          33,\n          0,\n          23\n        ],\n        \"semantic_type\": \"\",\n        \"description\": \"\"\n      }\n    }\n  ]\n}"
            }
          },
          "metadata": {},
          "execution_count": 2
        }
      ]
    },
    {
      "cell_type": "code",
      "source": [
        "print(runs['Runs'].min())\n",
        "print(runs['Runs'].max())"
      ],
      "metadata": {
        "id": "kp4-mXWedlCn",
        "colab": {
          "base_uri": "https://localhost:8080/"
        },
        "outputId": "630eb9bf-d3e1-4b59-ee4f-7d98ae964cb8"
      },
      "execution_count": null,
      "outputs": [
        {
          "output_type": "stream",
          "name": "stdout",
          "text": [
            "0\n",
            "183\n"
          ]
        }
      ]
    },
    {
      "cell_type": "code",
      "source": [
        "#histogram\n",
        "import matplotlib.pyplot as plt\n",
        "plt.hist(runs['Runs'],edgecolor='black')\n",
        "plt.show()"
      ],
      "metadata": {
        "id": "KJ4XC54ldlGN",
        "colab": {
          "base_uri": "https://localhost:8080/",
          "height": 430
        },
        "outputId": "4ab1d562-241a-427f-a265-d02732c1d270"
      },
      "execution_count": null,
      "outputs": [
        {
          "output_type": "display_data",
          "data": {
            "text/plain": [
              "<Figure size 640x480 with 1 Axes>"
            ],
            "image/png": "[encoded data removed]"
          },
          "metadata": {}
        }
      ]
    },
    {
      "cell_type": "code",
      "source": [
        "#Question\n",
        "\n",
        "def Avg(x):\n",
        "  return sum(x)/len(x)\n",
        "\n",
        "def std_dev(x):\n",
        "  return (sum((i-Avg(x))**2 for i in x) / (len(x)-1))**0.5\n",
        "\n",
        "def emp_rule(x):\n",
        "  for i in range(1,4):\n",
        "    LL = Avg(x)-(i*std_dev(x))    #Lower Limit\n",
        "    UL = Avg(x)+(i*std_dev(x))    #Upper Limit\n",
        "    countx = len([j for j in x if UL>= j >=LL])\n",
        "    print(f\"For Emperical Rule {i}\")\n",
        "    print(\"Lower limit :\",LL)\n",
        "    print(\"Upper limit :\",UL)\n",
        "    print(\"Count of the Data :\",countx)\n",
        "    print(f\"Percentage of the data within range :{(countx/len(x))*100:.2f}\")\n",
        "    print(\"Outlires are :\", [j for j in x if j<(Avg(x) - 3*std_dev(x)) or j>(Avg(x) + 3*std_dev(x))])\n",
        "    print(\"\\n\")\n",
        "emp_rule(runs['Runs'])"
      ],
      "metadata": {
        "colab": {
          "base_uri": "https://localhost:8080/"
        },
        "id": "3ipH4lcn5nD6",
        "outputId": "99d20748-40fb-49ff-f11e-36201b905870"
      },
      "execution_count": null,
      "outputs": [
        {
          "output_type": "stream",
          "name": "stdout",
          "text": [
            "For Emperical Rule 1\n",
            "Lower limit : 2.7285594278475997\n",
            "Upper limit : 84.09810723881907\n",
            "Count of the Data : 98\n",
            "Percentage of the data within range :65.33\n",
            "Outlires are : [183]\n",
            "\n",
            "\n",
            "For Emperical Rule 2\n",
            "Lower limit : -37.956214477638134\n",
            "Upper limit : 124.78288114430481\n",
            "Count of the Data : 144\n",
            "Percentage of the data within range :96.00\n",
            "Outlires are : [183]\n",
            "\n",
            "\n",
            "For Emperical Rule 3\n",
            "Lower limit : -78.64098838312387\n",
            "Upper limit : 165.46765504979052\n",
            "Count of the Data : 149\n",
            "Percentage of the data within range :99.33\n",
            "Outlires are : [183]\n",
            "\n",
            "\n"
          ]
        }
      ]
    },
    {
      "cell_type": "code",
      "source": [
        "#Sorted answer for emperical Rules\n",
        "\n",
        "def emp_rule(x):\n",
        "  for i in range(1,4):\n",
        "    LL = x.mean() - (i*(x.std()))    #Lower Limit\n",
        "    UL = x.mean() + (i*(x.std()))    #Upper Limit\n",
        "    countx = len([j for j in x if UL>= j >=LL])\n",
        "    print(f\"For Emperical Rule {i}\")\n",
        "    print(\"Lower limit :\",LL)\n",
        "    print(\"Upper limit :\",UL)\n",
        "    print(\"Count of the Data :\",countx)\n",
        "    print(f\"Percentage of the data within range :{(countx/len(x))*100:.2f}\")\n",
        "    print(\"Outlires are :\", [j for j in x if j<(x.mean() - 3*(x.std())) or j>(x.mean() + 3*(x.std()))])\n",
        "    print(\"\\n\")\n",
        "emp_rule(runs['Runs'])"
      ],
      "metadata": {
        "colab": {
          "base_uri": "https://localhost:8080/"
        },
        "id": "A9S818qq5nBe",
        "outputId": "331a5724-613f-4fd5-aabf-66b97e590936"
      },
      "execution_count": null,
      "outputs": [
        {
          "output_type": "stream",
          "name": "stdout",
          "text": [
            "For Emperical Rule 1\n",
            "Lower limit : 2.728559427847614\n",
            "Upper limit : 84.09810723881905\n",
            "Count of the Data : 98\n",
            "Percentage of the data within range :65.33\n",
            "Outlires are : [183]\n",
            "\n",
            "\n",
            "For Emperical Rule 2\n",
            "Lower limit : -37.956214477638106\n",
            "Upper limit : 124.78288114430478\n",
            "Count of the Data : 144\n",
            "Percentage of the data within range :96.00\n",
            "Outlires are : [183]\n",
            "\n",
            "\n",
            "For Emperical Rule 3\n",
            "Lower limit : -78.64098838312384\n",
            "Upper limit : 165.4676550497905\n",
            "Count of the Data : 149\n",
            "Percentage of the data within range :99.33\n",
            "Outlires are : [183]\n",
            "\n",
            "\n"
          ]
        }
      ]
    },
    {
      "cell_type": "markdown",
      "source": [
        "# Skewness\n",
        "-1 ----------- -0.5 ----------- 0 ----------- 0.5 ----------- 1\n",
        "\n",
        "- Negatively Skewed Data / Left Skewed Data\n",
        "\n",
        "Mode > Median > Mean\n",
        "\n",
        "If skewness value is very close to negative 1, then there are higher chances of having outliers on the lower side of data.\n",
        "\n",
        "- Positively Skewed Data / Right Skewed Data\n",
        "\n",
        "Mode < Median < Mean\n",
        "\n",
        "If skewness value is very close to positive 1, then there are higher chances of having outliers on the higher side of data.\n",
        "\n",
        "The closer the value of skewness to 0, the data will be normal."
      ],
      "metadata": {
        "id": "Kqr4IrVQG1EL"
      }
    },
    {
      "cell_type": "code",
      "source": [],
      "metadata": {
        "id": "AlAPGx65_JWn"
      },
      "execution_count": null,
      "outputs": []
    },
    {
      "cell_type": "markdown",
      "source": [
        "# Kurtosis\n",
        "* Leptokurtic\n",
        "* Platykurtic\n",
        "* Mesokurtic"
      ],
      "metadata": {
        "id": "kMEspHYRHKMI"
      }
    },
    {
      "cell_type": "code",
      "source": [],
      "metadata": {
        "id": "oC7mCSjH_JTO"
      },
      "execution_count": null,
      "outputs": []
    },
    {
      "cell_type": "markdown",
      "source": [
        "# Boxplot\n",
        "(Qurtiles)\n",
        "* Q1 : Lowest 25% of data\n",
        "* Q2 : Lowest 50% of data\n",
        "* Q3 : Lowest 75% of data"
      ],
      "metadata": {
        "id": "f6PVZyJJK27-"
      }
    },
    {
      "cell_type": "code",
      "source": [
        "#Quartile 1\n",
        "Ind_Q1=round((len(runs['Runs'])/4)*1)\n",
        "print('Index of the Q1 is',Ind_Q1)\n",
        "Q1=int(runs.iloc[Ind_Q1-1,:])\n",
        "print('Q1 is',Q1)"
      ],
      "metadata": {
        "id": "nNkbCKapw19x"
      },
      "execution_count": null,
      "outputs": []
    },
    {
      "cell_type": "code",
      "source": [
        "#Quartile 2 / Median\n",
        "Ind_Q2=round((len(runs['Runs'])/4)*2)\n",
        "print('Index of the Q2 is',Ind_Q2)\n",
        "Q2=int(runs.iloc[Ind_Q2-1,:])\n",
        "print('Q2 is',Q2)"
      ],
      "metadata": {
        "id": "ni6w3g6kw16U"
      },
      "execution_count": null,
      "outputs": []
    },
    {
      "cell_type": "code",
      "source": [
        "#Quartile 3\n",
        "Ind_Q3=round((len(runs['Runs'])/4)*3)\n",
        "print('Index of the Q3 is',Ind_Q3)\n",
        "Q3=int(runs.iloc[Ind_Q3-1,:])\n",
        "print('Q3 is',Q3)"
      ],
      "metadata": {
        "id": "KCl2YJdNw13H"
      },
      "execution_count": null,
      "outputs": []
    },
    {
      "cell_type": "code",
      "source": [
        "import numpy as np\n",
        "Q1=np.quantile(runs['Runs'],0.25)\n",
        "Q3=np.quantile(runs['Runs'],0.75)\n",
        "IQR=Q3 - Q1\n",
        "IQR"
      ],
      "metadata": {
        "id": "Bc91hRArxMzF"
      },
      "execution_count": null,
      "outputs": []
    },
    {
      "cell_type": "code",
      "source": [
        "import matplotlib.pyplot as plt\n",
        "%matplotlib inline\n",
        "plt.boxplot(runs['Runs'])"
      ],
      "metadata": {
        "id": "jyxMna0qw10o"
      },
      "execution_count": null,
      "outputs": []
    },
    {
      "cell_type": "code",
      "source": [
        "from numpy.lib.function_base import quantile\n",
        "quantile(runs['Runs'])\n",
        "Inter_Quartile_Range=Q3-Q1\n",
        "print('Inter-Quartile-Range is',Inter_Quartile_Range)"
      ],
      "metadata": {
        "id": "ZjoSoGuYxS4_"
      },
      "execution_count": null,
      "outputs": []
    },
    {
      "cell_type": "code",
      "source": [
        "Upper_Limit=Q3 + 1.5*Inter_Quartile_Range\n",
        "print('Upper_Limit is',Upper_Limit)\n",
        "Lower_Limit=Q1 - 1.5*Inter_Quartile_Range\n",
        "print('Lower_Limit is',Lower_Limit)"
      ],
      "metadata": {
        "id": "YnW6IuPBxS1m"
      },
      "execution_count": null,
      "outputs": []
    },
    {
      "cell_type": "code",
      "source": [],
      "metadata": {
        "id": "jjKOvX0KxSzI"
      },
      "execution_count": null,
      "outputs": []
    },
    {
      "cell_type": "markdown",
      "source": [
        "# Probability"
      ],
      "metadata": {
        "id": "ACChFIyMUQ61"
      }
    },
    {
      "cell_type": "code",
      "source": [
        "from scipy import stats"
      ],
      "metadata": {
        "id": "ww2UKdW5_JPQ"
      },
      "execution_count": null,
      "outputs": []
    },
    {
      "cell_type": "markdown",
      "source": [
        "scipy.stats.binom.pmf(r,n,p)\n",
        "* n: Total no. of trials\n",
        "* r: list of integers from 0 to n,inclusive\n",
        "* p: Probability\n",
        "* PMF : Probability Mass Function\n",
        "* CDF : Cummulative Density Function"
      ],
      "metadata": {
        "id": "ohP_yJHZfiWR"
      }
    },
    {
      "cell_type": "code",
      "source": [
        "#Question\n",
        "#Tossing a coin 10 times\n",
        "#Find Probabilities of :"
      ],
      "metadata": {
        "id": "JZ_n3-TA5m7h"
      },
      "execution_count": null,
      "outputs": []
    },
    {
      "cell_type": "code",
      "source": [
        "#P(Less than 4 heads)\n",
        "stats.binom.cdf(3,10,0.5)"
      ],
      "metadata": {
        "id": "Gd3YZbbaetNI",
        "colab": {
          "base_uri": "https://localhost:8080/"
        },
        "outputId": "1e7fb0c1-623c-499a-a6c9-c51374503d71"
      },
      "execution_count": null,
      "outputs": [
        {
          "output_type": "execute_result",
          "data": {
            "text/plain": [
              "0.171875"
            ]
          },
          "metadata": {},
          "execution_count": 5
        }
      ]
    },
    {
      "cell_type": "code",
      "source": [
        "#P(9 or lesser heads)\n",
        "stats.binom.cdf(9,10,0.5)"
      ],
      "metadata": {
        "id": "dIPVoYVcetJs",
        "colab": {
          "base_uri": "https://localhost:8080/"
        },
        "outputId": "84618c14-3251-4524-c615-4d99772d295e"
      },
      "execution_count": null,
      "outputs": [
        {
          "output_type": "execute_result",
          "data": {
            "text/plain": [
              "0.9990234375"
            ]
          },
          "metadata": {},
          "execution_count": 6
        }
      ]
    },
    {
      "cell_type": "code",
      "source": [
        "#P(Atleast 6 heads)\n",
        "1-stats.binom.cdf(5,10,0.5)"
      ],
      "metadata": {
        "id": "GdAGBDaoetG2",
        "colab": {
          "base_uri": "https://localhost:8080/"
        },
        "outputId": "d046a71f-081d-4ed9-be7f-1a451241e7b7"
      },
      "execution_count": null,
      "outputs": [
        {
          "output_type": "execute_result",
          "data": {
            "text/plain": [
              "0.376953125"
            ]
          },
          "metadata": {},
          "execution_count": 7
        }
      ]
    },
    {
      "cell_type": "code",
      "source": [
        "#P(Exactly 3 heads)\n",
        "stats.binom.pmf(3,10,0.5)"
      ],
      "metadata": {
        "id": "xhD8xL42etD2",
        "colab": {
          "base_uri": "https://localhost:8080/"
        },
        "outputId": "ea889521-618f-4443-cf7d-58011de2a36d"
      },
      "execution_count": null,
      "outputs": [
        {
          "output_type": "execute_result",
          "data": {
            "text/plain": [
              "0.1171875"
            ]
          },
          "metadata": {},
          "execution_count": 8
        }
      ]
    },
    {
      "cell_type": "markdown",
      "source": [
        "# Exercise"
      ],
      "metadata": {
        "id": "1T8r14cHzFOq"
      }
    },
    {
      "cell_type": "code",
      "source": [
        "#Question\n",
        "#80% of people who purchase pet insurance are women\n",
        "#If 9 pet insurance owners are randomly selected,\n",
        "#Find Probability that exactly 6 are women.\n",
        "\n",
        "stats.binom.pmf(6,9,0.8)    #(r,n,p)"
      ],
      "metadata": {
        "colab": {
          "base_uri": "https://localhost:8080/"
        },
        "id": "-qKETAdizDNV",
        "outputId": "32ce9119-5747-423b-cae4-788e8bcee294"
      },
      "execution_count": null,
      "outputs": [
        {
          "output_type": "execute_result",
          "data": {
            "text/plain": [
              "0.17616076799999997"
            ]
          },
          "metadata": {},
          "execution_count": 25
        }
      ]
    },
    {
      "cell_type": "code",
      "source": [
        "#Question\n",
        "#In a large restaurant ,an average of 3 out of every 5 customers ask for water with their meal.A random sample of 10 customers is selected.\n",
        "#Find the probability that exactly 6 ask for water with their meal.\n",
        "#Find the probability that less than 9 ask for water with their meal.\n",
        "#Find the probability that more than 7 ask for water with their meal.\n",
        "\n",
        "#Here,n=10,p=3/5=0.6\n",
        "print(stats.binom.pmf(6,10,3/5))\n",
        "print(stats.binom.cdf(8,10,3/5))\n",
        "print(1-stats.binom.cdf(7,10,3/5))"
      ],
      "metadata": {
        "id": "5-BtXWIvetBe",
        "colab": {
          "base_uri": "https://localhost:8080/"
        },
        "outputId": "c76e0c62-6a45-4df1-914c-92d87b8bd9ba"
      },
      "execution_count": null,
      "outputs": [
        {
          "output_type": "stream",
          "name": "stdout",
          "text": [
            "0.2508226559999998\n",
            "0.9536425984\n",
            "0.16728975359999998\n"
          ]
        }
      ]
    },
    {
      "cell_type": "code",
      "source": [
        "#Question\n",
        "#Find x and y so that the orderd data set has a mean of 42 and a median of 35.\n",
        "# 17,22,26,29,34,x,42,67,70,y.\n"
      ],
      "metadata": {
        "id": "i4obIrv8i52S"
      },
      "execution_count": null,
      "outputs": []
    },
    {
      "cell_type": "code",
      "source": [
        "#Question\n",
        "#Given dataset: 62,65,68,70,72,74,76,78,80,82,96,101.\n",
        "#Find:median,1st Quartile, 3rd Quartile,Interquartile range(IQR)\n",
        "\n",
        "#ANS-1\n",
        "import numpy as np\n",
        "data= [62,65,68,70,72,74,76,78,80,82,96,101]\n",
        "print(data)\n",
        "print(sorted(data))\n",
        "print(np.median(data))  #median\n",
        "print(np.percentile(data,25))  #Q1\n",
        "print(np.percentile(data,75))  #Q3\n",
        "print(np.percentile(data,75)-np.percentile(data,25))  #IQR=Q3-Q1"
      ],
      "metadata": {
        "colab": {
          "base_uri": "https://localhost:8080/"
        },
        "id": "IICndrKcjgCI",
        "outputId": "569756e3-f1a7-416e-f659-3af33540b289"
      },
      "execution_count": null,
      "outputs": [
        {
          "output_type": "stream",
          "name": "stdout",
          "text": [
            "[62, 65, 68, 70, 72, 74, 76, 78, 80, 82, 96, 101]\n",
            "[62, 65, 68, 70, 72, 74, 76, 78, 80, 82, 96, 101]\n",
            "75.0\n",
            "69.5\n",
            "80.5\n",
            "11.0\n"
          ]
        }
      ]
    },
    {
      "cell_type": "code",
      "source": [
        "#ANS-2\n",
        "\n",
        "a=pd.Series([62 , 65 , 68 , 70 , 72 , 74 , 76 , 78 , 80 , 82 , 96 , 101])\n",
        "print('Median=',a.median())\n",
        "print('First Quartile=',a.quantile(0.25))\n",
        "print('Third Quartile=',a.quantile(0.75))\n",
        "print('Inter Quartile Range=',a.quantile(0.75) - a.quantile(0.25))"
      ],
      "metadata": {
        "colab": {
          "base_uri": "https://localhost:8080/"
        },
        "id": "rKbVjDVmyT1L",
        "outputId": "050da1f6-602a-4657-b468-c6e29ed0dcca"
      },
      "execution_count": null,
      "outputs": [
        {
          "output_type": "stream",
          "name": "stdout",
          "text": [
            "Median= 75.0\n",
            "First Quartile= 69.5\n",
            "Third Quartile= 80.5\n",
            "Inter Quartile Range= 11.0\n"
          ]
        }
      ]
    },
    {
      "cell_type": "code",
      "source": [
        "#Question\n",
        "#Given data:4,10,7,7,6,9,3,8,9.Find mode,median and SD.\n",
        "#If we replace data value 6 in data set above by 24,will SD same or not?\n",
        "\n",
        "import pandas as pd\n",
        "a=pd.Series([4, 10, 7, 7, 6, 9, 3, 8, 9])\n",
        "print('Mode of the data is: ',a.mode())\n",
        "print('Median of the data is: ',a.median())\n",
        "print('Mean of the data is: ',a.mean())\n",
        "print('Standard Deviation of the data is: ',a.std())\n",
        "a=pd.Series([4, 10, 7, 7, 24, 9, 3, 8, 9])\n",
        "print('Standard Deviation of the updated data is: ',a.std())\n",
        "\n",
        "\n",
        "#Standard Deviation will increase if we replace 6 with 24."
      ],
      "metadata": {
        "colab": {
          "base_uri": "https://localhost:8080/"
        },
        "id": "f5c50Acejf-1",
        "outputId": "5d239205-c318-45d1-c933-fb183f3ef299"
      },
      "execution_count": null,
      "outputs": [
        {
          "output_type": "stream",
          "name": "stdout",
          "text": [
            "Mode of the data is:  0    7\n",
            "1    9\n",
            "dtype: int64\n",
            "Median of the data is:  7.0\n",
            "Mean of the data is:  7.0\n",
            "Standard Deviation of the data is:  2.345207879911715\n",
            "Standard Deviation of the updated data is:  6.082762530298219\n"
          ]
        }
      ]
    }
  ]
}