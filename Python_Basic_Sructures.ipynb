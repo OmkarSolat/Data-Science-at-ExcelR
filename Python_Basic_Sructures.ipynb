{
  "nbformat": 4,
  "nbformat_minor": 0,
  "metadata": {
    "colab": {
      "provenance": [],
      "authorship_tag": "ABX9TyPnltX9iaqnwEnAs5Sd3fOj",
      "include_colab_link": true
    },
    "kernelspec": {
      "name": "python3",
      "display_name": "Python 3"
    },
    "language_info": {
      "name": "python"
    }
  },
  "cells": [
    {
      "cell_type": "markdown",
      "metadata": {
        "id": "view-in-github",
        "colab_type": "text"
      },
      "source": [
        "<a href=\"https://colab.research.google.com/github/OmkarSolat/Data-Science-at-ExcelR/blob/main/Python_Basic_Sructures.ipynb\" target=\"_parent\"><img src=\"https://colab.research.google.com/assets/colab-badge.svg\" alt=\"Open In Colab\"/></a>"
      ]
    },
    {
      "cell_type": "markdown",
      "source": [
        "# Python Basic Concepts"
      ],
      "metadata": {
        "id": "lam2NVbFR3Z6"
      }
    },
    {
      "cell_type": "markdown",
      "source": [
        "# Python Programming Language\n",
        "\n",
        "Python was founded by Guido van Rossum on February 20th, 1991\n",
        "\n",
        "# Usages of Python\n",
        "- Web development\n",
        "- Software development\n",
        "- Mathematics & Data Science/Analytics\n",
        "- System Scripting\n",
        "\n",
        "# What can Python do?\n",
        "- Python can be used on a server to create web applications.\n",
        "- Python can be used alongside software to create workflows.\n",
        "- Python can connect to database systems. It can also read and modify files.\n",
        "- Python can be used to handle big data and perform complex mathematics.\n",
        "- Python can be used for rapid prototyping, or for production-ready software development.\n",
        "\n",
        "# Why Python?\n",
        "- Python works on different platforms (Windows, Mac, Linux, Raspberry Pi, etc).\n",
        "- Python has a simple syntax similar to the English language.\n",
        "- Python has syntax that allows developers to write programs with fewer lines than some other programming languages.\n",
        "- Python runs on an interpreter system, meaning that code can be executed as soon as it is written. This means that prototyping can be very quick.\n",
        "- Python can be treated in a procedural way, an object-oriented way or a functional way.\n",
        "\n",
        "# Python Syntax compared to other programming languages\n",
        "- Python was designed for readability, and has some similarities to the English language with influence from mathematics.\n",
        "- Python uses new lines to complete a command, as opposed to other programming languages which often use semicolons or parentheses.\n",
        "- Python relies on indentation, using whitespace, to define scope; such as the scope of loops, functions and classes. Other programming languages often use curly-brackets for this purpose.\n",
        "\n",
        "Python file extension:\n",
        "Python Basics Data Analytics.ipynb\n",
        "\n",
        "|Data Types:| Description|\n",
        "|-----------|------------|\n",
        "| Numerical:|Integer, Float, Complex, Binary|\n",
        "| Character:|String/Object|\n",
        "| Boollean: |True/False, 1/0|\n",
        "| Date:     |Numerical/Character|\n",
        "\n",
        "\n",
        "Data Structures:\n",
        "- List\n",
        "- Tuple\n",
        "- Dictionary\n",
        "- Set\n",
        "- Array (NumPy)\n",
        "- Series (Pandas)\n",
        "- DataFrame (Pandas)\n",
        "\n",
        "Libraries:\n",
        "- NumPy (Numerical Calculations)\n",
        "- Pandas (For data arranged in table)\n",
        "- Matplotlib (Visualization)\n",
        "- Seaborn (Visualization)\n",
        "- Scipy Stats (For statistics)\n",
        "- Scikit Learn (Machine Learning)\n",
        "- NLTK & Spacy(Natural Language Processing)\n",
        "- Tensorflow/Keras (Deep Learning)\n",
        "\n",
        "\n",
        "\n",
        "| Item         | Price | # In stock |\n",
        "|--------------|:-----:|-----------:|\n",
        "| Apples       |  1.99 |        739 |\n",
        "| Bananas      |  1.89 |          6 |\n",
        "\n",
        "\n",
        "## Usage of brackets\n",
        "\n",
        "- Box Bracket [] : To create a list, or to access any value from a list, tuple, dataframe, array, series or a key from a dictionary, after loc & iloc function in a dataframe.\n",
        "\n",
        "- Curve Bracket () : To create a tuple, and for all the functions & methods, except loc & iloc are followed by curve bracket.\n",
        "\n",
        "- Flower bracket {} : To create a dictionary or a set data structure.\n",
        "\n",
        "\n",
        "# Object\n",
        "Object is like an empty container, which can save any value or function. We can say that an object is a variable."
      ],
      "metadata": {
        "id": "cFamgUFZiCv5"
      }
    },
    {
      "cell_type": "code",
      "source": [
        "#Python is case sensitive\n",
        "a=5\n",
        "A=10\n",
        "print(a)\n",
        "print(A)"
      ],
      "metadata": {
        "id": "ntI8paFGnsDx",
        "colab": {
          "base_uri": "https://localhost:8080/"
        },
        "outputId": "1ad9c88a-3f6b-4110-ce96-918652ced33a"
      },
      "execution_count": null,
      "outputs": [
        {
          "output_type": "stream",
          "name": "stdout",
          "text": [
            "5\n",
            "10\n"
          ]
        }
      ]
    },
    {
      "cell_type": "markdown",
      "source": [
        "If we want to call any object/function on any line other than the last line of the cell,we must apply the 'print' fuction"
      ],
      "metadata": {
        "id": "4Ri4fokRUfI3"
      }
    },
    {
      "cell_type": "code",
      "source": [
        "A=18\n",
        "B=7\n",
        "C=45\n",
        "A\n",
        "B\n",
        "C"
      ],
      "metadata": {
        "id": "G4SSyN84nsAd",
        "colab": {
          "base_uri": "https://localhost:8080/"
        },
        "outputId": "a3acb7f0-3473-4a8b-d01e-08f16572560b"
      },
      "execution_count": null,
      "outputs": [
        {
          "output_type": "execute_result",
          "data": {
            "text/plain": [
              "45"
            ]
          },
          "metadata": {},
          "execution_count": 5
        }
      ]
    },
    {
      "cell_type": "code",
      "source": [
        "print(A)\n",
        "print(B)\n",
        "print(C)\n"
      ],
      "metadata": {
        "colab": {
          "base_uri": "https://localhost:8080/"
        },
        "id": "9Qldp7HUXt5t",
        "outputId": "c344414e-f63f-40db-ae52-ce9332ac1867"
      },
      "execution_count": null,
      "outputs": [
        {
          "output_type": "stream",
          "name": "stdout",
          "text": [
            "18\n",
            "7\n",
            "45\n"
          ]
        }
      ]
    },
    {
      "cell_type": "code",
      "source": [
        "x = \"Data Science\"\n",
        "print(x)\n",
        "type(x)"
      ],
      "metadata": {
        "id": "99CwjNgunr9S",
        "colab": {
          "base_uri": "https://localhost:8080/"
        },
        "outputId": "58db14db-4b12-4864-f0f7-ab6c71274d41"
      },
      "execution_count": null,
      "outputs": [
        {
          "output_type": "stream",
          "name": "stdout",
          "text": [
            "Data Science\n"
          ]
        },
        {
          "output_type": "execute_result",
          "data": {
            "text/plain": [
              "str"
            ]
          },
          "metadata": {},
          "execution_count": 7
        }
      ]
    },
    {
      "cell_type": "markdown",
      "source": [
        "# Operators in Python\n",
        "- Addition +\n",
        "Used to add the values\n",
        "- Subtraction -\n",
        "Used to subtract the value from another\n",
        "- Multiplication *\n",
        "Used to multiply a value with another\n",
        "- Division /\n",
        "Used to divide a value by another\n",
        "- Floor Division //\n",
        "Will provide the whole number part of the quotient after dividing\n",
        "- Power **\n",
        "Will raise a number to another number\n",
        "- Mod % Will provide the remainder after dividing a number with another\n",
        "\n",
        "# Relational Operators\n",
        "- Greater than or equal to >=\n",
        "- Lesser than or equal to <=\n",
        "- Lesser than <\n",
        "- Greater than >\n",
        "- Equal to ==\n",
        "- Not equal to !=\n",
        "- in\n",
        "- not in"
      ],
      "metadata": {
        "id": "lMBHIl7ccKIT"
      }
    },
    {
      "cell_type": "code",
      "source": [
        "9/4   #Division"
      ],
      "metadata": {
        "id": "LE0NZ9OGnr6k",
        "colab": {
          "base_uri": "https://localhost:8080/"
        },
        "outputId": "f98e6cd2-574e-4475-f1e6-e6b8e24c0cc2"
      },
      "execution_count": null,
      "outputs": [
        {
          "output_type": "execute_result",
          "data": {
            "text/plain": [
              "2.25"
            ]
          },
          "metadata": {},
          "execution_count": 8
        }
      ]
    },
    {
      "cell_type": "code",
      "source": [
        "9//4     #floor value"
      ],
      "metadata": {
        "id": "vUgl9wWlnr3u",
        "colab": {
          "base_uri": "https://localhost:8080/"
        },
        "outputId": "1b62dea3-f164-4c65-88d1-005932aba6d8"
      },
      "execution_count": null,
      "outputs": [
        {
          "output_type": "execute_result",
          "data": {
            "text/plain": [
              "2"
            ]
          },
          "metadata": {},
          "execution_count": 9
        }
      ]
    },
    {
      "cell_type": "code",
      "source": [
        "2*2*2*2*2"
      ],
      "metadata": {
        "colab": {
          "base_uri": "https://localhost:8080/"
        },
        "id": "md2h8pLDcTgR",
        "outputId": "c3051fbb-f037-4102-d5e5-f235dfed7489"
      },
      "execution_count": null,
      "outputs": [
        {
          "output_type": "execute_result",
          "data": {
            "text/plain": [
              "32"
            ]
          },
          "metadata": {},
          "execution_count": 10
        }
      ]
    },
    {
      "cell_type": "code",
      "source": [
        "2**5     #Power"
      ],
      "metadata": {
        "id": "N-xSk-cwnr0m",
        "colab": {
          "base_uri": "https://localhost:8080/"
        },
        "outputId": "fa17efe0-d6c6-40ee-d1e0-adb842b83dd2"
      },
      "execution_count": null,
      "outputs": [
        {
          "output_type": "execute_result",
          "data": {
            "text/plain": [
              "32"
            ]
          },
          "metadata": {},
          "execution_count": 11
        }
      ]
    },
    {
      "cell_type": "code",
      "source": [
        "21 % 5       #Remainder"
      ],
      "metadata": {
        "id": "MGibiuNrnrxe",
        "colab": {
          "base_uri": "https://localhost:8080/"
        },
        "outputId": "99fe3e04-2729-48eb-c146-d633ce6d1bfe"
      },
      "execution_count": null,
      "outputs": [
        {
          "output_type": "execute_result",
          "data": {
            "text/plain": [
              "1"
            ]
          },
          "metadata": {},
          "execution_count": 12
        }
      ]
    },
    {
      "cell_type": "code",
      "source": [
        "a=5           #Relational operators\n",
        "b=8\n",
        "a>=b"
      ],
      "metadata": {
        "id": "nq7817ofnrus",
        "colab": {
          "base_uri": "https://localhost:8080/"
        },
        "outputId": "cf19bee4-a7f3-482c-c995-e00827a4e26d"
      },
      "execution_count": null,
      "outputs": [
        {
          "output_type": "execute_result",
          "data": {
            "text/plain": [
              "False"
            ]
          },
          "metadata": {},
          "execution_count": 13
        }
      ]
    },
    {
      "cell_type": "markdown",
      "source": [
        "#  Data Structures\n",
        "- Data type can be different for each single value, whether stored in an object or not. Every single value has its data type.\n",
        "- Data Structure is an arrangement of multiple data values of different data types in a single object.\n",
        "\n",
        "# Rules for the object name\n",
        "- Never start an object name with a numeric value\n",
        "- Never keep any space in object name\n",
        "- Except underscore _, no other special character should be used in object name\n",
        "\n",
        "* Python is Highly Case & Character Sensitive\n",
        "* Python Follows Zero Indexation\n",
        "\n",
        "* Difference between 'Function' & 'Method'?\n",
        "\n",
        "* List Data Structure\n",
        "Most dynamic data structure and accepts all types of data, which is mutable in all possible ways.\n",
        "\n",
        "|* Method|Description|\n",
        "|------|-----------|\n",
        "|append()|Adds an element at the end of the list|\n",
        "|clear()|Removes all the elements from the list|\n",
        "|copy()|Returns a copy of the list|\n",
        "|count()|Returns the number of elements with the |specified value|\n",
        "|extend()|Add the elements of a list (or any iterable), to the end of the current list\n",
        "|index()|Returns the index of the first element with the specified value|\n",
        "|insert()|Adds an element at the specified position|\n",
        "|pop()|Removes the element at the specified position|\n",
        "|remove()|Removes the item with the specified value|\n",
        "|reverse()|Reverses the order of the list|\n",
        "|sort()|Sorts the list|"
      ],
      "metadata": {
        "id": "VqCVJlvuik2e"
      }
    },
    {
      "cell_type": "markdown",
      "source": [
        "# List"
      ],
      "metadata": {
        "id": "rzltORf4ih_I"
      }
    },
    {
      "cell_type": "code",
      "execution_count": null,
      "metadata": {
        "id": "_Ld_SKownoWD",
        "colab": {
          "base_uri": "https://localhost:8080/"
        },
        "outputId": "f62cc5c8-1790-4687-aacd-53ea86f14690"
      },
      "outputs": [
        {
          "output_type": "execute_result",
          "data": {
            "text/plain": [
              "[7, 5, 1, 9, 5.18, 7j, (3+4j), True, False, 'omkar']"
            ]
          },
          "metadata": {},
          "execution_count": 14
        }
      ],
      "source": [
        "list1 = [7,5,1,9,5.18,7j,(3+4j),True,False,\"omkar\"]\n",
        "list1"
      ]
    },
    {
      "cell_type": "code",
      "source": [
        "id(list1)"
      ],
      "metadata": {
        "colab": {
          "base_uri": "https://localhost:8080/"
        },
        "id": "ooe0krZycqHt",
        "outputId": "d2968872-e561-42e0-a45b-0066b8563aa3"
      },
      "execution_count": null,
      "outputs": [
        {
          "output_type": "execute_result",
          "data": {
            "text/plain": [
              "137325909640576"
            ]
          },
          "metadata": {},
          "execution_count": 15
        }
      ]
    },
    {
      "cell_type": "code",
      "source": [
        "list1[3]"
      ],
      "metadata": {
        "colab": {
          "base_uri": "https://localhost:8080/"
        },
        "id": "avmcR6vkcqEU",
        "outputId": "a60fbe2b-9024-4ba1-d008-657af7769d21"
      },
      "execution_count": null,
      "outputs": [
        {
          "output_type": "execute_result",
          "data": {
            "text/plain": [
              "9"
            ]
          },
          "metadata": {},
          "execution_count": 16
        }
      ]
    },
    {
      "cell_type": "code",
      "source": [
        "list1 = [5,8,6,2,1.4,[7,3,1,55,'virat'],5j,3+7j,'rohit','neha']\n",
        "print(list1)"
      ],
      "metadata": {
        "colab": {
          "base_uri": "https://localhost:8080/"
        },
        "id": "52l70Ig8cqBd",
        "outputId": "951e2389-7baa-42b9-a7a2-a195a5183222"
      },
      "execution_count": null,
      "outputs": [
        {
          "output_type": "stream",
          "name": "stdout",
          "text": [
            "[5, 8, 6, 2, 1.4, [7, 3, 1, 55, 'virat'], 5j, (3+7j), 'rohit', 'neha']\n"
          ]
        }
      ]
    },
    {
      "cell_type": "code",
      "source": [
        "list1[5][4]"
      ],
      "metadata": {
        "colab": {
          "base_uri": "https://localhost:8080/",
          "height": 35
        },
        "id": "FnhcUVg4cp-y",
        "outputId": "ef89da06-5743-445b-f9a1-02a6e0340a4d"
      },
      "execution_count": null,
      "outputs": [
        {
          "output_type": "execute_result",
          "data": {
            "text/plain": [
              "'virat'"
            ],
            "application/vnd.google.colaboratory.intrinsic+json": {
              "type": "string"
            }
          },
          "metadata": {},
          "execution_count": 18
        }
      ]
    },
    {
      "cell_type": "code",
      "source": [
        "list1[-2]"
      ],
      "metadata": {
        "colab": {
          "base_uri": "https://localhost:8080/",
          "height": 35
        },
        "id": "vry1uig5cp7u",
        "outputId": "aabfa9e5-1ba6-4805-d68d-f5502d0fd259"
      },
      "execution_count": null,
      "outputs": [
        {
          "output_type": "execute_result",
          "data": {
            "text/plain": [
              "'rohit'"
            ],
            "application/vnd.google.colaboratory.intrinsic+json": {
              "type": "string"
            }
          },
          "metadata": {},
          "execution_count": 19
        }
      ]
    },
    {
      "cell_type": "code",
      "source": [
        "list1[8]"
      ],
      "metadata": {
        "colab": {
          "base_uri": "https://localhost:8080/",
          "height": 35
        },
        "id": "Bk2tDp43cp5N",
        "outputId": "6321fa62-6559-4e84-e271-3403abc95a5e"
      },
      "execution_count": null,
      "outputs": [
        {
          "output_type": "execute_result",
          "data": {
            "text/plain": [
              "'rohit'"
            ],
            "application/vnd.google.colaboratory.intrinsic+json": {
              "type": "string"
            }
          },
          "metadata": {},
          "execution_count": 20
        }
      ]
    },
    {
      "cell_type": "code",
      "source": [
        "list1[-2] == list1[8]"
      ],
      "metadata": {
        "colab": {
          "base_uri": "https://localhost:8080/"
        },
        "id": "6wDhLQks6bF8",
        "outputId": "c409f595-cd24-43d0-c82d-a4b3931d7474"
      },
      "execution_count": null,
      "outputs": [
        {
          "output_type": "execute_result",
          "data": {
            "text/plain": [
              "True"
            ]
          },
          "metadata": {},
          "execution_count": 21
        }
      ]
    },
    {
      "cell_type": "code",
      "source": [
        "#To call elements from 3rd to the end of list\n",
        "list1[3:]"
      ],
      "metadata": {
        "colab": {
          "base_uri": "https://localhost:8080/"
        },
        "id": "CKo7WBQG6bCc",
        "outputId": "52a5b611-58e0-4bfa-c7ee-e832b64d09e5"
      },
      "execution_count": null,
      "outputs": [
        {
          "output_type": "execute_result",
          "data": {
            "text/plain": [
              "[2, 1.4, [7, 3, 1, 55, 'virat'], 5j, (3+7j), 'rohit', 'neha']"
            ]
          },
          "metadata": {},
          "execution_count": 22
        }
      ]
    },
    {
      "cell_type": "code",
      "source": [
        "#To call elements from 0th to 8th index\n",
        "list1[:9]"
      ],
      "metadata": {
        "colab": {
          "base_uri": "https://localhost:8080/"
        },
        "id": "Z3BqeGai6a_a",
        "outputId": "78a946d1-0f13-4a9c-fa6a-a3510b0cb57a"
      },
      "execution_count": null,
      "outputs": [
        {
          "output_type": "execute_result",
          "data": {
            "text/plain": [
              "[5, 8, 6, 2, 1.4, [7, 3, 1, 55, 'virat'], 5j, (3+7j), 'rohit']"
            ]
          },
          "metadata": {},
          "execution_count": 23
        }
      ]
    },
    {
      "cell_type": "code",
      "source": [
        "#To call elements from 3rd index to 10th index\n",
        "list1[3:11]"
      ],
      "metadata": {
        "colab": {
          "base_uri": "https://localhost:8080/"
        },
        "id": "XsrwPLj86a8d",
        "outputId": "d56cc005-4442-4fdb-feb1-7e7e2f3bc0f0"
      },
      "execution_count": null,
      "outputs": [
        {
          "output_type": "execute_result",
          "data": {
            "text/plain": [
              "[2, 1.4, [7, 3, 1, 55, 'virat'], 5j, (3+7j), 'rohit', 'neha']"
            ]
          },
          "metadata": {},
          "execution_count": 24
        }
      ]
    },
    {
      "cell_type": "code",
      "source": [
        "print(list1)\n",
        "print(list1[1:10])\n",
        "list1[1:10:2]"
      ],
      "metadata": {
        "colab": {
          "base_uri": "https://localhost:8080/"
        },
        "id": "NnvSa0D26a5l",
        "outputId": "f0ac1640-e36b-496c-bcb3-a930301fdbf0"
      },
      "execution_count": null,
      "outputs": [
        {
          "output_type": "stream",
          "name": "stdout",
          "text": [
            "[5, 8, 6, 2, 1.4, [7, 3, 1, 55, 'virat'], 5j, (3+7j), 'rohit', 'neha']\n",
            "[8, 6, 2, 1.4, [7, 3, 1, 55, 'virat'], 5j, (3+7j), 'rohit', 'neha']\n"
          ]
        },
        {
          "output_type": "execute_result",
          "data": {
            "text/plain": [
              "[8, 2, [7, 3, 1, 55, 'virat'], (3+7j), 'neha']"
            ]
          },
          "metadata": {},
          "execution_count": 25
        }
      ]
    },
    {
      "cell_type": "code",
      "source": [
        "list1 = [1,2,3,4,5,6,7,8,9,9,8,7,6,5,4,3,2,1]\n",
        "list1"
      ],
      "metadata": {
        "id": "cXm5Etwk6a2s",
        "colab": {
          "base_uri": "https://localhost:8080/"
        },
        "outputId": "69c028dc-89e3-431e-f05b-4b5e4446f2ed"
      },
      "execution_count": null,
      "outputs": [
        {
          "output_type": "execute_result",
          "data": {
            "text/plain": [
              "[1, 2, 3, 4, 5, 6, 7, 8, 9, 9, 8, 7, 6, 5, 4, 3, 2, 1]"
            ]
          },
          "metadata": {},
          "execution_count": 26
        }
      ]
    },
    {
      "cell_type": "code",
      "source": [
        "list1[-1:-9:-2]"
      ],
      "metadata": {
        "id": "iPH0JU806azk",
        "colab": {
          "base_uri": "https://localhost:8080/"
        },
        "outputId": "37eca494-975f-458a-fcf5-6af81d98e079"
      },
      "execution_count": null,
      "outputs": [
        {
          "output_type": "execute_result",
          "data": {
            "text/plain": [
              "[1, 3, 5, 7]"
            ]
          },
          "metadata": {},
          "execution_count": 27
        }
      ]
    },
    {
      "cell_type": "code",
      "source": [
        "#append()\n",
        "list1 = [1,2,3,4,5,6,7,8,9,9,8,7,6,5,4,3,2,1]\n",
        "print(list1)\n",
        "list1.append(18)\n",
        "print(list1)\n",
        "list1.append('DATA')\n",
        "print(list1)"
      ],
      "metadata": {
        "id": "d-dgl8bO6apI",
        "colab": {
          "base_uri": "https://localhost:8080/"
        },
        "outputId": "b4a5834a-1187-4977-83cd-c75983ab8ce2"
      },
      "execution_count": null,
      "outputs": [
        {
          "output_type": "stream",
          "name": "stdout",
          "text": [
            "[1, 2, 3, 4, 5, 6, 7, 8, 9, 9, 8, 7, 6, 5, 4, 3, 2, 1]\n",
            "[1, 2, 3, 4, 5, 6, 7, 8, 9, 9, 8, 7, 6, 5, 4, 3, 2, 1, 18]\n",
            "[1, 2, 3, 4, 5, 6, 7, 8, 9, 9, 8, 7, 6, 5, 4, 3, 2, 1, 18, 'DATA']\n"
          ]
        }
      ]
    },
    {
      "cell_type": "code",
      "source": [
        "#remove()\n",
        "list1 = [1,2,3,4,5,6,7,8,9,9,8,7,6,5,4,3,2,1]\n",
        "print(list1)\n",
        "list1.remove(9)     #Removes first occurence of element\n",
        "print(list1)"
      ],
      "metadata": {
        "id": "p-WyOUQ36alp",
        "colab": {
          "base_uri": "https://localhost:8080/"
        },
        "outputId": "71c6197d-b273-4c41-edbe-54208c21a979"
      },
      "execution_count": null,
      "outputs": [
        {
          "output_type": "stream",
          "name": "stdout",
          "text": [
            "[1, 2, 3, 4, 5, 6, 7, 8, 9, 9, 8, 7, 6, 5, 4, 3, 2, 1]\n",
            "[1, 2, 3, 4, 5, 6, 7, 8, 9, 8, 7, 6, 5, 4, 3, 2, 1]\n"
          ]
        }
      ]
    },
    {
      "cell_type": "code",
      "source": [
        "#insert()\n",
        "list1 = [1,5,8,6,'RCB',18,'CSK',7]\n",
        "print(list1)\n",
        "list1.insert(2,'IPL')\n",
        "print(list1)\n",
        "list1.insert(5,[5,4,8,9])\n",
        "print(list1)\n",
        "print(list1[5])\n",
        "list1[5].insert(4,10)\n",
        "print(list1)\n"
      ],
      "metadata": {
        "colab": {
          "base_uri": "https://localhost:8080/"
        },
        "id": "1RKEQJjWf_FE",
        "outputId": "ce57bdcd-d8f5-4a80-a3bc-e2be504c3dee"
      },
      "execution_count": null,
      "outputs": [
        {
          "output_type": "stream",
          "name": "stdout",
          "text": [
            "[1, 5, 8, 6, 'RCB', 18, 'CSK', 7]\n",
            "[1, 5, 'IPL', 8, 6, 'RCB', 18, 'CSK', 7]\n",
            "[1, 5, 'IPL', 8, 6, [5, 4, 8, 9], 'RCB', 18, 'CSK', 7]\n",
            "[5, 4, 8, 9]\n",
            "[1, 5, 'IPL', 8, 6, [5, 4, 8, 9, 10], 'RCB', 18, 'CSK', 7]\n"
          ]
        }
      ]
    },
    {
      "cell_type": "code",
      "source": [
        "#pop()\n",
        "list1 = [1,5,8,6,'RCB',18,'CSK',7]\n",
        "print(list1)\n",
        "list1.pop()\n",
        "print(list1)\n",
        "list1.pop(3)\n",
        "print(list1)"
      ],
      "metadata": {
        "colab": {
          "base_uri": "https://localhost:8080/"
        },
        "id": "iFG6W30af_Bp",
        "outputId": "4d4acfbf-a0f5-481b-897c-1386c4ac87ce"
      },
      "execution_count": null,
      "outputs": [
        {
          "output_type": "stream",
          "name": "stdout",
          "text": [
            "[1, 5, 8, 6, 'RCB', 18, 'CSK', 7]\n",
            "[1, 5, 8, 6, 'RCB', 18, 'CSK']\n",
            "[1, 5, 8, 'RCB', 18, 'CSK']\n"
          ]
        }
      ]
    },
    {
      "cell_type": "code",
      "source": [
        "#reverse()\n",
        "list1 = [18,45,56,17,7,33]\n",
        "print(list1)\n",
        "list1.reverse()\n",
        "print(list1)"
      ],
      "metadata": {
        "colab": {
          "base_uri": "https://localhost:8080/"
        },
        "id": "h10mIva6f--9",
        "outputId": "1f494b35-3a4d-400d-bc00-4b2b1f5b8edb"
      },
      "execution_count": null,
      "outputs": [
        {
          "output_type": "stream",
          "name": "stdout",
          "text": [
            "[18, 45, 56, 17, 7, 33]\n",
            "[33, 7, 17, 56, 45, 18]\n"
          ]
        }
      ]
    },
    {
      "cell_type": "code",
      "source": [
        "#sort()\n",
        "list1 = [2,1,6,3,9,6,8,7,4,5]\n",
        "print(list1)\n",
        "list1.sort()   #Ascending order\n",
        "print(list1)"
      ],
      "metadata": {
        "colab": {
          "base_uri": "https://localhost:8080/"
        },
        "id": "lEBm5mCvf-8F",
        "outputId": "9ab4551b-c451-4688-a2a0-cd16d3941ccf"
      },
      "execution_count": null,
      "outputs": [
        {
          "output_type": "stream",
          "name": "stdout",
          "text": [
            "[2, 1, 6, 3, 9, 6, 8, 7, 4, 5]\n",
            "[1, 2, 3, 4, 5, 6, 6, 7, 8, 9]\n"
          ]
        }
      ]
    },
    {
      "cell_type": "code",
      "source": [
        "list1 = [2,1,6,3,9,6,8,7,4,5]\n",
        "print(list1)\n",
        "list1.sort(reverse =True)       #Decending order\n",
        "print(list1)"
      ],
      "metadata": {
        "colab": {
          "base_uri": "https://localhost:8080/"
        },
        "id": "sywAWpWEf-5N",
        "outputId": "8bc00de9-7d1c-4eeb-a307-34dcc2a1498c"
      },
      "execution_count": null,
      "outputs": [
        {
          "output_type": "stream",
          "name": "stdout",
          "text": [
            "[2, 1, 6, 3, 9, 6, 8, 7, 4, 5]\n",
            "[9, 8, 7, 6, 6, 5, 4, 3, 2, 1]\n"
          ]
        }
      ]
    },
    {
      "cell_type": "code",
      "source": [
        "list1 = ['RCB','CSK','MI','KKR','RR','DC','LSG','SRH']\n",
        "print(list1)\n",
        "list1.sort()\n",
        "print(list1)\n",
        "list1.sort(reverse = True)\n",
        "print(list1)"
      ],
      "metadata": {
        "colab": {
          "base_uri": "https://localhost:8080/"
        },
        "id": "HRWt4EZlf-2V",
        "outputId": "728dff80-cb73-4751-a8bf-2de3b1aae689"
      },
      "execution_count": null,
      "outputs": [
        {
          "output_type": "stream",
          "name": "stdout",
          "text": [
            "['RCB', 'CSK', 'MI', 'KKR', 'RR', 'DC', 'LSG', 'SRH']\n",
            "['CSK', 'DC', 'KKR', 'LSG', 'MI', 'RCB', 'RR', 'SRH']\n",
            "['SRH', 'RR', 'RCB', 'MI', 'LSG', 'KKR', 'DC', 'CSK']\n"
          ]
        }
      ]
    },
    {
      "cell_type": "code",
      "source": [
        "list1 = [5,2,1,4,5]\n",
        "print(list1)\n",
        "list1.extend([6,4,1,2])\n",
        "print(list1)\n",
        "list1.append([6,4,1,2])\n",
        "print(list1)"
      ],
      "metadata": {
        "id": "Ud5X9sZ8f-uO",
        "colab": {
          "base_uri": "https://localhost:8080/"
        },
        "outputId": "f887ed92-f81b-4fd3-dfde-3692e5aeb8e9"
      },
      "execution_count": null,
      "outputs": [
        {
          "output_type": "stream",
          "name": "stdout",
          "text": [
            "[5, 2, 1, 4, 5]\n",
            "[5, 2, 1, 4, 5, 6, 4, 1, 2]\n",
            "[5, 2, 1, 4, 5, 6, 4, 1, 2, [6, 4, 1, 2]]\n"
          ]
        }
      ]
    },
    {
      "cell_type": "code",
      "source": [
        "list1 = ['virat',18,18,17,45,7,'msd','rohit','virat',45,7,18]\n",
        "list1.count('virat')"
      ],
      "metadata": {
        "colab": {
          "base_uri": "https://localhost:8080/"
        },
        "id": "rNMrgw5xDMMa",
        "outputId": "b71e1ccc-3be2-4485-ffb2-a6024c92bba5"
      },
      "execution_count": null,
      "outputs": [
        {
          "output_type": "execute_result",
          "data": {
            "text/plain": [
              "2"
            ]
          },
          "metadata": {},
          "execution_count": 2
        }
      ]
    },
    {
      "cell_type": "code",
      "source": [
        "list1.count(18)     #To get frequency of element in the list"
      ],
      "metadata": {
        "colab": {
          "base_uri": "https://localhost:8080/"
        },
        "id": "tFGSJKhoDMRM",
        "outputId": "6f5ebb9b-327a-43cc-af63-eae41d6a8354"
      },
      "execution_count": null,
      "outputs": [
        {
          "output_type": "execute_result",
          "data": {
            "text/plain": [
              "3"
            ]
          },
          "metadata": {},
          "execution_count": 3
        }
      ]
    },
    {
      "cell_type": "code",
      "source": [
        "len(list1)        #To get total no. of elements in the list"
      ],
      "metadata": {
        "colab": {
          "base_uri": "https://localhost:8080/"
        },
        "id": "9d078M3hDMVO",
        "outputId": "42d4ad29-c375-42eb-ac60-cffab5b0a5a7"
      },
      "execution_count": null,
      "outputs": [
        {
          "output_type": "execute_result",
          "data": {
            "text/plain": [
              "12"
            ]
          },
          "metadata": {},
          "execution_count": 5
        }
      ]
    },
    {
      "cell_type": "code",
      "source": [
        "list1 = ['virat',18,18,17,45,7,'msd','rohit','virat',45,7,18]\n",
        "list1.index('virat')"
      ],
      "metadata": {
        "colab": {
          "base_uri": "https://localhost:8080/"
        },
        "id": "Rz1T76vBDMYS",
        "outputId": "7986cd35-afcc-49d1-f1b8-c67f69b3323a"
      },
      "execution_count": null,
      "outputs": [
        {
          "output_type": "execute_result",
          "data": {
            "text/plain": [
              "0"
            ]
          },
          "metadata": {},
          "execution_count": 6
        }
      ]
    },
    {
      "cell_type": "code",
      "source": [
        "#HOMEWORK\n",
        "#Reverse the elements 'msd','rohit','virat' in the following list without reversing other part of list.\n",
        "\n",
        "list1 = ['virat',18,18,17,45,7,'msd','rohit','virat',45,7,18]\n",
        "print(list1)\n",
        "list2 = list1[6:9]\n",
        "list2.reverse()\n",
        "list1[6:9] =list2\n",
        "print(list1)"
      ],
      "metadata": {
        "colab": {
          "base_uri": "https://localhost:8080/"
        },
        "id": "HYHcXNZ0PnHN",
        "outputId": "651f2df9-e847-4d89-81dd-6a3e1a536434"
      },
      "execution_count": null,
      "outputs": [
        {
          "output_type": "stream",
          "name": "stdout",
          "text": [
            "['virat', 18, 18, 17, 45, 7, 'msd', 'rohit', 'virat', 45, 7, 18]\n",
            "['virat', 18, 18, 17, 45, 7, 'virat', 'rohit', 'msd', 45, 7, 18]\n"
          ]
        }
      ]
    },
    {
      "cell_type": "code",
      "source": [
        "#What is index of the element 'virat' in index range of 6 to 12\n",
        "list1 = ['virat',18,18,17,45,7,'msd','rohit','virat',45,7,18]\n",
        "print(list1[6:12])\n",
        "list1.index('virat',6,11)\n"
      ],
      "metadata": {
        "colab": {
          "base_uri": "https://localhost:8080/"
        },
        "id": "xwYvBUeHDMbi",
        "outputId": "3f0be4ae-a4cc-4655-df8a-946f81a3761a"
      },
      "execution_count": null,
      "outputs": [
        {
          "output_type": "stream",
          "name": "stdout",
          "text": [
            "['msd', 'rohit', 'virat', 45, 7, 18]\n"
          ]
        },
        {
          "output_type": "execute_result",
          "data": {
            "text/plain": [
              "8"
            ]
          },
          "metadata": {},
          "execution_count": 15
        }
      ]
    },
    {
      "cell_type": "code",
      "source": [
        "list1 = ['virat',18,18,17,45,7,'msd','rohit','virat',45,7,18]\n",
        "print(\"list1 is\",list1)\n",
        "print(id(list1))\n",
        "list2 = list1.copy()\n",
        "print('list2 is',list2)\n",
        "print(id(list2))"
      ],
      "metadata": {
        "colab": {
          "base_uri": "https://localhost:8080/"
        },
        "id": "d5PcEeaoDMlK",
        "outputId": "a1190f8c-6e97-48e6-f214-dc911519731e"
      },
      "execution_count": null,
      "outputs": [
        {
          "output_type": "stream",
          "name": "stdout",
          "text": [
            "list1 is ['virat', 18, 18, 17, 45, 7, 'msd', 'rohit', 'virat', 45, 7, 18]\n",
            "138731054963712\n",
            "list2 is ['virat', 18, 18, 17, 45, 7, 'msd', 'rohit', 'virat', 45, 7, 18]\n",
            "138731054967424\n"
          ]
        }
      ]
    },
    {
      "cell_type": "code",
      "source": [
        "print(list1)\n",
        "print(list2)\n",
        "list1.insert(18,'Banglore')\n",
        "print(list1)\n",
        "print(list2)"
      ],
      "metadata": {
        "id": "hjakvs18f-rZ",
        "colab": {
          "base_uri": "https://localhost:8080/"
        },
        "outputId": "2fce2bb9-4782-4dd4-e508-94ab7ddae925"
      },
      "execution_count": null,
      "outputs": [
        {
          "output_type": "stream",
          "name": "stdout",
          "text": [
            "['virat', 18, 18, 17, 45, 7, 'msd', 'rohit', 'virat', 45, 7, 18]\n",
            "['virat', 18, 18, 17, 45, 7, 'msd', 'rohit', 'virat', 45, 7, 18]\n",
            "['virat', 18, 18, 17, 45, 7, 'msd', 'rohit', 'virat', 45, 7, 18, 'Banglore']\n",
            "['virat', 18, 18, 17, 45, 7, 'msd', 'rohit', 'virat', 45, 7, 18]\n"
          ]
        }
      ]
    },
    {
      "cell_type": "code",
      "source": [
        "list1 = ['virat',18,18,17,45,7,'msd','rohit','virat',45,7,18]\n",
        "list3 = list1\n",
        "print('list3 is',list3)\n",
        "print(list1)\n",
        "print(list3)\n",
        "print(id(list1))\n",
        "print(id(list3))\n",
        "list1.insert(18,'Banglore')\n",
        "print(list1)\n",
        "print(list2)"
      ],
      "metadata": {
        "id": "okxKDyXUf-oj",
        "colab": {
          "base_uri": "https://localhost:8080/"
        },
        "outputId": "1920e9d6-94d6-4632-9c93-e72e94b2f284"
      },
      "execution_count": null,
      "outputs": [
        {
          "output_type": "stream",
          "name": "stdout",
          "text": [
            "list3 is ['virat', 18, 18, 17, 45, 7, 'msd', 'rohit', 'virat', 45, 7, 18]\n",
            "['virat', 18, 18, 17, 45, 7, 'msd', 'rohit', 'virat', 45, 7, 18]\n",
            "['virat', 18, 18, 17, 45, 7, 'msd', 'rohit', 'virat', 45, 7, 18]\n",
            "138731053576448\n",
            "138731053576448\n",
            "['virat', 18, 18, 17, 45, 7, 'msd', 'rohit', 'virat', 45, 7, 18, 'Banglore']\n",
            "['virat', 18, 18, 17, 45, 7, 'msd', 'rohit', 'virat', 45, 7, 18]\n"
          ]
        }
      ]
    },
    {
      "cell_type": "code",
      "source": [
        "list1 = [2,3,5,1,7,4,5,3,9]\n",
        "7 in list1"
      ],
      "metadata": {
        "id": "javdYlIXNL-Y",
        "colab": {
          "base_uri": "https://localhost:8080/"
        },
        "outputId": "6e6eb554-c55c-448d-b2e7-c5713a331ac3"
      },
      "execution_count": null,
      "outputs": [
        {
          "output_type": "execute_result",
          "data": {
            "text/plain": [
              "True"
            ]
          },
          "metadata": {},
          "execution_count": 1
        }
      ]
    },
    {
      "cell_type": "code",
      "source": [
        "18 in list1"
      ],
      "metadata": {
        "colab": {
          "base_uri": "https://localhost:8080/"
        },
        "id": "Gq9F-zLl6pon",
        "outputId": "8363e95f-94f7-41f9-e15c-3e8328d23441"
      },
      "execution_count": null,
      "outputs": [
        {
          "output_type": "execute_result",
          "data": {
            "text/plain": [
              "False"
            ]
          },
          "metadata": {},
          "execution_count": 2
        }
      ]
    },
    {
      "cell_type": "code",
      "source": [
        "8 not in list1"
      ],
      "metadata": {
        "colab": {
          "base_uri": "https://localhost:8080/"
        },
        "id": "A1-rXynB6plK",
        "outputId": "347be998-9a95-4523-c2e9-dcf427cacedc"
      },
      "execution_count": null,
      "outputs": [
        {
          "output_type": "execute_result",
          "data": {
            "text/plain": [
              "True"
            ]
          },
          "metadata": {},
          "execution_count": 3
        }
      ]
    },
    {
      "cell_type": "markdown",
      "source": [
        "# Tuple\n",
        "Tuple is an immutable data structure."
      ],
      "metadata": {
        "id": "dmdvO1qY7WDE"
      }
    },
    {
      "cell_type": "code",
      "source": [
        "tup1 = (4,8,5,7,2,1,9,3,True ,False,5+7j,'virat','Banglore')\n",
        "tup1"
      ],
      "metadata": {
        "colab": {
          "base_uri": "https://localhost:8080/"
        },
        "id": "kGMyGqE96pik",
        "outputId": "3baed057-5d1b-4818-afe9-2dd4521dab4f"
      },
      "execution_count": null,
      "outputs": [
        {
          "output_type": "execute_result",
          "data": {
            "text/plain": [
              "(4, 8, 5, 7, 2, 1, 9, 3, True, False, (5+7j), 'virat', 'Banglore')"
            ]
          },
          "metadata": {},
          "execution_count": 4
        }
      ]
    },
    {
      "cell_type": "code",
      "source": [
        "tup1[3]"
      ],
      "metadata": {
        "colab": {
          "base_uri": "https://localhost:8080/"
        },
        "id": "j1GDif3l7VhW",
        "outputId": "67c1295a-3ccb-4af1-b958-8b168252d42e"
      },
      "execution_count": null,
      "outputs": [
        {
          "output_type": "execute_result",
          "data": {
            "text/plain": [
              "7"
            ]
          },
          "metadata": {},
          "execution_count": 6
        }
      ]
    },
    {
      "cell_type": "code",
      "source": [
        "tup1 = (4,6,1,8,5,9,9,7,5,6,7,7,2,3,9,1)\n",
        "#To get frequency of element 9 in the tuple\n",
        "tup1.count(9)"
      ],
      "metadata": {
        "colab": {
          "base_uri": "https://localhost:8080/"
        },
        "id": "Ozm0LLc37VeD",
        "outputId": "09654e33-eb9d-497a-9561-00b762ab0dcd"
      },
      "execution_count": null,
      "outputs": [
        {
          "output_type": "execute_result",
          "data": {
            "text/plain": [
              "3"
            ]
          },
          "metadata": {},
          "execution_count": 10
        }
      ]
    },
    {
      "cell_type": "code",
      "source": [
        "#To find the index of the value 9 in the tuple\n",
        "tup1.index(9)"
      ],
      "metadata": {
        "colab": {
          "base_uri": "https://localhost:8080/"
        },
        "id": "6ODPC-Ry7VbK",
        "outputId": "a8192ffe-4142-48fd-9723-9a6dc7045cdd"
      },
      "execution_count": null,
      "outputs": [
        {
          "output_type": "execute_result",
          "data": {
            "text/plain": [
              "5"
            ]
          },
          "metadata": {},
          "execution_count": 11
        }
      ]
    },
    {
      "cell_type": "code",
      "source": [
        "print(tup1)\n",
        "tup1[3:10]"
      ],
      "metadata": {
        "colab": {
          "base_uri": "https://localhost:8080/"
        },
        "id": "frLSHD2Y7VYL",
        "outputId": "cf6adbb0-9051-4e01-f639-3a16c32b19ad"
      },
      "execution_count": null,
      "outputs": [
        {
          "output_type": "stream",
          "name": "stdout",
          "text": [
            "(4, 6, 1, 8, 5, 9, 9, 7, 5, 6, 7, 7, 2, 3, 9, 1)\n"
          ]
        },
        {
          "output_type": "execute_result",
          "data": {
            "text/plain": [
              "(8, 5, 9, 9, 7, 5, 6)"
            ]
          },
          "metadata": {},
          "execution_count": 14
        }
      ]
    },
    {
      "cell_type": "code",
      "source": [
        "tup1[3:10:2]"
      ],
      "metadata": {
        "colab": {
          "base_uri": "https://localhost:8080/"
        },
        "id": "ZXLhdk0Q7VWT",
        "outputId": "cc56f642-db19-4aa9-9867-e681f0e06805"
      },
      "execution_count": null,
      "outputs": [
        {
          "output_type": "execute_result",
          "data": {
            "text/plain": [
              "(8, 9, 7, 6)"
            ]
          },
          "metadata": {},
          "execution_count": 15
        }
      ]
    },
    {
      "cell_type": "code",
      "source": [
        "#Tuple with single element should have one comma\n",
        "tup1 =(18,)\n",
        "print(tup1)\n",
        "type(tup1)"
      ],
      "metadata": {
        "colab": {
          "base_uri": "https://localhost:8080/"
        },
        "id": "XsZOLxSt7VTd",
        "outputId": "b1c2e68f-4e73-4023-9dc7-bdf4fadaed9f"
      },
      "execution_count": null,
      "outputs": [
        {
          "output_type": "stream",
          "name": "stdout",
          "text": [
            "(18,)\n"
          ]
        },
        {
          "output_type": "execute_result",
          "data": {
            "text/plain": [
              "tuple"
            ]
          },
          "metadata": {},
          "execution_count": 16
        }
      ]
    },
    {
      "cell_type": "code",
      "source": [
        "tup1 = (18,45,7)\n",
        "print (tup1)\n",
        "tup1 * 3"
      ],
      "metadata": {
        "colab": {
          "base_uri": "https://localhost:8080/"
        },
        "id": "XvKkiqGS6pft",
        "outputId": "91eff0be-52a6-4e02-9918-4b3ea80dee3c"
      },
      "execution_count": null,
      "outputs": [
        {
          "output_type": "stream",
          "name": "stdout",
          "text": [
            "(18, 45, 7)\n"
          ]
        },
        {
          "output_type": "execute_result",
          "data": {
            "text/plain": [
              "(18, 45, 7, 18, 45, 7, 18, 45, 7)"
            ]
          },
          "metadata": {},
          "execution_count": 19
        }
      ]
    },
    {
      "cell_type": "markdown",
      "source": [
        "# Dictionary\n",
        "\n",
        "Dictionary will always accept elements as a key & value pair, where the key & value are displayed with a colon ':' between them.\n",
        "\n",
        "{key:value}\n",
        "\n",
        "We cannot have duplicated key, but values can be duplicated.\n",
        "\n",
        "|Method|Description|\n",
        "|------|-----------|\n",
        "|clear()|Removes all the elements from the dictionary|\n",
        "|copy()|Returns a copy of the dictionary|\n",
        "|fromkeys()|Returns a dictionary with the specified keys and value|\n",
        "|get()|Returns the value of the specified key|\n",
        "|items()|Returns a list containing a tuple for each key value pair|\n",
        "|keys()|Returns a list containing the dictionary's keys|\n",
        "|pop()|Removes the element with the specified key|\n",
        "|popitem()|Removes the last inserted key-value pair|\n",
        "|setdefault()|Returns the value of the specified key. If the key does not exist: insert the key, with the specified value|\n",
        "|update()|Updates the dictionary with the specified key-value pairs|\n",
        "|values()|Returns a list of all the values in the dictionary|"
      ],
      "metadata": {
        "id": "FnvNQ0xpAPCC"
      }
    },
    {
      "cell_type": "code",
      "source": [
        "dict1 = {'Batsman':'Virat','Bowler':'Bumrah','Wicketkeeper':'Pant'}\n",
        "dict1"
      ],
      "metadata": {
        "colab": {
          "base_uri": "https://localhost:8080/"
        },
        "id": "VY87-mXC_NL0",
        "outputId": "7c0f2657-cb01-4f63-db50-dcb664f1a23a"
      },
      "execution_count": null,
      "outputs": [
        {
          "output_type": "execute_result",
          "data": {
            "text/plain": [
              "{'Batsman': 'Virat', 'Bowler': 'Bumrah', 'Wicketkeeper': 'Pant'}"
            ]
          },
          "metadata": {},
          "execution_count": 2
        }
      ]
    },
    {
      "cell_type": "code",
      "source": [
        "type(dict1)"
      ],
      "metadata": {
        "id": "S6RmwmDh_NIk",
        "colab": {
          "base_uri": "https://localhost:8080/"
        },
        "outputId": "42df6ae2-505b-44a2-fd31-92643813d08b"
      },
      "execution_count": null,
      "outputs": [
        {
          "output_type": "execute_result",
          "data": {
            "text/plain": [
              "dict"
            ]
          },
          "metadata": {},
          "execution_count": 3
        }
      ]
    },
    {
      "cell_type": "code",
      "source": [
        "dict1 = {'Batsman':'Virat','Bowler':'Bumrah','Wicketkeeper':'Pant'}\n",
        "print(dict1)\n",
        "dict1['Team'] = 'India'\n",
        "print(dict1)\n",
        "dict1['Mission'] = 'WorldCup'\n",
        "print(dict1)"
      ],
      "metadata": {
        "id": "GH9fQWkE_NGV",
        "colab": {
          "base_uri": "https://localhost:8080/"
        },
        "outputId": "86f1a3ab-d2c0-41f6-86f3-a0eb8393e3ee"
      },
      "execution_count": null,
      "outputs": [
        {
          "output_type": "stream",
          "name": "stdout",
          "text": [
            "{'Batsman': 'Virat', 'Bowler': 'Bumrah', 'Wicketkeeper': 'Pant'}\n",
            "{'Batsman': 'Virat', 'Bowler': 'Bumrah', 'Wicketkeeper': 'Pant', 'Team': 'India'}\n",
            "{'Batsman': 'Virat', 'Bowler': 'Bumrah', 'Wicketkeeper': 'Pant', 'Team': 'India', 'Mission': 'WorldCup'}\n"
          ]
        }
      ]
    },
    {
      "cell_type": "code",
      "source": [
        "dict1['Batsman']"
      ],
      "metadata": {
        "id": "08EHHVvN_NCm",
        "colab": {
          "base_uri": "https://localhost:8080/",
          "height": 35
        },
        "outputId": "154019b6-6b17-4b5b-d646-0fe5e13d736f"
      },
      "execution_count": null,
      "outputs": [
        {
          "output_type": "execute_result",
          "data": {
            "text/plain": [
              "'Virat'"
            ],
            "application/vnd.google.colaboratory.intrinsic+json": {
              "type": "string"
            }
          },
          "metadata": {},
          "execution_count": 9
        }
      ]
    },
    {
      "cell_type": "code",
      "source": [
        "dict1.keys()"
      ],
      "metadata": {
        "id": "ixjBjZRL_M_q",
        "colab": {
          "base_uri": "https://localhost:8080/"
        },
        "outputId": "232f5976-4b2c-4093-90d2-1359ccf70e78"
      },
      "execution_count": null,
      "outputs": [
        {
          "output_type": "execute_result",
          "data": {
            "text/plain": [
              "dict_keys(['Batsman', 'Bowler', 'Wicketkeeper', 'Team', 'Mission'])"
            ]
          },
          "metadata": {},
          "execution_count": 10
        }
      ]
    },
    {
      "cell_type": "code",
      "source": [
        "dict1.values()"
      ],
      "metadata": {
        "id": "giA794-y6pdU",
        "colab": {
          "base_uri": "https://localhost:8080/"
        },
        "outputId": "8c316fb3-a4ad-4f24-db60-9ca6e82d2dce"
      },
      "execution_count": null,
      "outputs": [
        {
          "output_type": "execute_result",
          "data": {
            "text/plain": [
              "dict_values(['Virat', 'Bumrah', 'Pant', 'India', 'WorldCup'])"
            ]
          },
          "metadata": {},
          "execution_count": 12
        }
      ]
    },
    {
      "cell_type": "code",
      "source": [
        "#List in dict, Set in dict , Nested dict\n",
        "\n",
        "dict2 = {1:[1,2,3], 2:(4,5,6), 3:{'Name':'Omkar', 'City':'Pune'}}\n",
        "dict2"
      ],
      "metadata": {
        "id": "-ktqPt556pab",
        "colab": {
          "base_uri": "https://localhost:8080/"
        },
        "outputId": "660bf225-4b38-4640-fa08-26cd218239a1"
      },
      "execution_count": null,
      "outputs": [
        {
          "output_type": "execute_result",
          "data": {
            "text/plain": [
              "{1: [1, 2, 3], 2: (4, 5, 6), 3: {'Name': 'Omkar', 'City': 'Pune'}}"
            ]
          },
          "metadata": {},
          "execution_count": 13
        }
      ]
    },
    {
      "cell_type": "code",
      "source": [
        "dict2[3]['Name']"
      ],
      "metadata": {
        "colab": {
          "base_uri": "https://localhost:8080/",
          "height": 35
        },
        "id": "TOnSdhxJSlgb",
        "outputId": "1a55934e-ee64-428c-e56a-fc5b6442f88e"
      },
      "execution_count": null,
      "outputs": [
        {
          "output_type": "execute_result",
          "data": {
            "text/plain": [
              "'Omkar'"
            ],
            "application/vnd.google.colaboratory.intrinsic+json": {
              "type": "string"
            }
          },
          "metadata": {},
          "execution_count": 14
        }
      ]
    },
    {
      "cell_type": "code",
      "source": [
        "dict1 = {'Name':'Omkar','City':'Pune','Village':'Gunjalwadi'}\n",
        "dict2 = {'state':'Maharastra','Country':'India','Village':'Arvi'}\n",
        "print(dict1)\n",
        "print(dict2)\n",
        "dict1.update(dict2)\n",
        "print(dict1)\n",
        "print(dict2)"
      ],
      "metadata": {
        "colab": {
          "base_uri": "https://localhost:8080/"
        },
        "id": "ZzvqMe-FUFsu",
        "outputId": "0cc05ce9-45b5-46b7-e54e-7453e3638abc"
      },
      "execution_count": null,
      "outputs": [
        {
          "output_type": "stream",
          "name": "stdout",
          "text": [
            "{'Name': 'Omkar', 'City': 'Pune', 'Village': 'Gunjalwadi'}\n",
            "{'state': 'Maharastra', 'Country': 'India', 'Village': 'Arvi'}\n",
            "{'Name': 'Omkar', 'City': 'Pune', 'Village': 'Arvi', 'state': 'Maharastra', 'Country': 'India'}\n",
            "{'state': 'Maharastra', 'Country': 'India', 'Village': 'Arvi'}\n"
          ]
        }
      ]
    },
    {
      "cell_type": "code",
      "source": [
        "dict1 = {'Batsman':'Virat','Bowler':'Bumrah','Wicketkeeper':'Pant','Team':'India'}\n",
        "print(dict1)\n",
        "dict1.items()"
      ],
      "metadata": {
        "colab": {
          "base_uri": "https://localhost:8080/"
        },
        "id": "2JPblK9sEZkb",
        "outputId": "03c76b76-f2d7-4550-95c9-941fc25a27fa"
      },
      "execution_count": null,
      "outputs": [
        {
          "output_type": "stream",
          "name": "stdout",
          "text": [
            "{'Batsman': 'Virat', 'Bowler': 'Bumrah', 'Wicketkeeper': 'Pant', 'Team': 'India'}\n"
          ]
        },
        {
          "output_type": "execute_result",
          "data": {
            "text/plain": [
              "<function dict.items>"
            ]
          },
          "metadata": {},
          "execution_count": 21
        }
      ]
    },
    {
      "cell_type": "code",
      "source": [
        "list(dict1.items())"
      ],
      "metadata": {
        "colab": {
          "base_uri": "https://localhost:8080/"
        },
        "id": "nJ_M9Xm8EZhK",
        "outputId": "b8f41f13-7786-4702-dc32-5f46a3cac8b3"
      },
      "execution_count": null,
      "outputs": [
        {
          "output_type": "execute_result",
          "data": {
            "text/plain": [
              "[('Batsman', 'Virat'),\n",
              " ('Bowler', 'Bumrah'),\n",
              " ('Wicketkeeper', 'Pant'),\n",
              " ('Team', 'India')]"
            ]
          },
          "metadata": {},
          "execution_count": 22
        }
      ]
    },
    {
      "cell_type": "code",
      "source": [
        "#Add a new key:value pair after 'Bowler' key and before 'Wicketkeeper' key as -> 'Allrounder':'Pandya'\n",
        "\n",
        "dict1 = {'Batsman':'Virat','Bowler':'Bumrah','Wicketkeeper':'Pant','Team':'India'}\n",
        "print(dict1)\n",
        "list1 = list(dict1.items())\n",
        "print(list1)\n",
        "list1.insert(2,('Allrounder','Pandya'))\n",
        "print(list1)\n",
        "dict1 = dict(list1)\n",
        "print(dict1)"
      ],
      "metadata": {
        "colab": {
          "base_uri": "https://localhost:8080/"
        },
        "id": "6HfLdK2LEZed",
        "outputId": "d28ca481-c699-4d47-f95e-8b5135025a85"
      },
      "execution_count": null,
      "outputs": [
        {
          "output_type": "stream",
          "name": "stdout",
          "text": [
            "{'Batsman': 'Virat', 'Bowler': 'Bumrah', 'Wicketkeeper': 'Pant', 'Team': 'India'}\n",
            "[('Batsman', 'Virat'), ('Bowler', 'Bumrah'), ('Wicketkeeper', 'Pant'), ('Team', 'India')]\n",
            "[('Batsman', 'Virat'), ('Bowler', 'Bumrah'), ('Allrounder', 'Pandya'), ('Wicketkeeper', 'Pant'), ('Team', 'India')]\n",
            "{'Batsman': 'Virat', 'Bowler': 'Bumrah', 'Allrounder': 'Pandya', 'Wicketkeeper': 'Pant', 'Team': 'India'}\n"
          ]
        }
      ]
    },
    {
      "cell_type": "code",
      "source": [
        "#To pop out a particular element in dictionary using its key\n",
        "\n",
        "print(dict1)\n",
        "dict1.pop('Wicketkeeper')\n",
        "print(dict1)"
      ],
      "metadata": {
        "colab": {
          "base_uri": "https://localhost:8080/"
        },
        "id": "qzEs0LQWFLuo",
        "outputId": "604adf1d-0e79-4c96-84bd-0eb3c7a73372"
      },
      "execution_count": null,
      "outputs": [
        {
          "output_type": "stream",
          "name": "stdout",
          "text": [
            "{'Batsman': 'Virat', 'Bowler': 'Bumrah', 'Allrounder': 'Pandya', 'Wicketkeeper': 'Pant', 'Team': 'India'}\n",
            "{'Batsman': 'Virat', 'Bowler': 'Bumrah', 'Allrounder': 'Pandya', 'Team': 'India'}\n"
          ]
        }
      ]
    },
    {
      "cell_type": "code",
      "source": [
        "#To pop out the last element from the dictionary\n",
        "\n",
        "dict1 = {'Batsman':'Virat','Bowler':'Bumrah','Wicketkeeper':'Pant','Team':'India'}\n",
        "print(dict1)\n",
        "dict1.popitem()\n",
        "print(dict1)"
      ],
      "metadata": {
        "colab": {
          "base_uri": "https://localhost:8080/"
        },
        "id": "d7fPm_0xFLqu",
        "outputId": "2165a380-acc7-4682-dfb6-4babb7258d46"
      },
      "execution_count": null,
      "outputs": [
        {
          "output_type": "stream",
          "name": "stdout",
          "text": [
            "{'Batsman': 'Virat', 'Bowler': 'Bumrah', 'Wicketkeeper': 'Pant', 'Team': 'India'}\n",
            "{'Batsman': 'Virat', 'Bowler': 'Bumrah', 'Wicketkeeper': 'Pant'}\n"
          ]
        }
      ]
    },
    {
      "cell_type": "code",
      "source": [
        "#To clear all elements of dict\n",
        "\n",
        "dict1 = {'Batsman':'Virat','Bowler':'Bumrah','Wicketkeeper':'Pant','Team':'India'}\n",
        "print(dict1)\n",
        "dict1.clear()\n",
        "print(dict1)"
      ],
      "metadata": {
        "colab": {
          "base_uri": "https://localhost:8080/"
        },
        "id": "uePj0T67FLoA",
        "outputId": "cb5a8562-5556-4ac0-843e-c128f8ebcad7"
      },
      "execution_count": null,
      "outputs": [
        {
          "output_type": "stream",
          "name": "stdout",
          "text": [
            "{'Batsman': 'Virat', 'Bowler': 'Bumrah', 'Wicketkeeper': 'Pant', 'Team': 'India'}\n",
            "{}\n"
          ]
        }
      ]
    },
    {
      "cell_type": "code",
      "source": [
        "#fromkeys()\n",
        "\n",
        "alphabets =['a','e','i','o','u']\n",
        "value ='vowel'\n",
        "vowels = dict.fromkeys(alphabets,value)\n",
        "vowels"
      ],
      "metadata": {
        "colab": {
          "base_uri": "https://localhost:8080/"
        },
        "id": "hCQ70mzGFLlX",
        "outputId": "f54dd8db-92fb-43f7-911a-82980e37e638"
      },
      "execution_count": null,
      "outputs": [
        {
          "output_type": "execute_result",
          "data": {
            "text/plain": [
              "{'a': 'vowel', 'e': 'vowel', 'i': 'vowel', 'o': 'vowel', 'u': 'vowel'}"
            ]
          },
          "metadata": {},
          "execution_count": 36
        }
      ]
    },
    {
      "cell_type": "code",
      "source": [
        "#setdefault()\n",
        "\n",
        "dict1 = {'Batsman':'Virat','Bowler':'Bumrah','Wicketkeeper':'Pant','Team':'India'}\n",
        "print(dict1)\n",
        "dict1.setdefault('coach','Dravid')\n",
        "print(dict1)\n",
        "dict1.setdefault('Wicketkeeper','Dhoni')      #---->doesn't change\n",
        "print(dict1)"
      ],
      "metadata": {
        "colab": {
          "base_uri": "https://localhost:8080/"
        },
        "id": "ibtdVfsXFLid",
        "outputId": "a481ce42-9188-4ddc-9439-096d5d0bd1e9"
      },
      "execution_count": null,
      "outputs": [
        {
          "output_type": "stream",
          "name": "stdout",
          "text": [
            "{'Batsman': 'Virat', 'Bowler': 'Bumrah', 'Wicketkeeper': 'Pant', 'Team': 'India'}\n",
            "{'Batsman': 'Virat', 'Bowler': 'Bumrah', 'Wicketkeeper': 'Pant', 'Team': 'India', 'coach': 'Dravid'}\n",
            "{'Batsman': 'Virat', 'Bowler': 'Bumrah', 'Wicketkeeper': 'Pant', 'Team': 'India', 'coach': 'Dravid'}\n"
          ]
        }
      ]
    },
    {
      "cell_type": "code",
      "source": [
        "dict1 = {'Batsman':'Virat','Bowler':'Bumrah','Wicketkeeper':'Pant','Team':'India'}\n",
        "print(dict1)\n",
        "dict1['Batsman'] = 'Rohit'       #Replacement\n",
        "print(dict1)"
      ],
      "metadata": {
        "colab": {
          "base_uri": "https://localhost:8080/"
        },
        "id": "k-0e42BGRmbG",
        "outputId": "6d25bcc9-fa39-419d-bca3-f16ff60e7441"
      },
      "execution_count": null,
      "outputs": [
        {
          "output_type": "stream",
          "name": "stdout",
          "text": [
            "{'Batsman': 'Virat', 'Bowler': 'Bumrah', 'Wicketkeeper': 'Pant', 'Team': 'India'}\n",
            "{'Batsman': 'Rohit', 'Bowler': 'Bumrah', 'Wicketkeeper': 'Pant', 'Team': 'India'}\n"
          ]
        }
      ]
    },
    {
      "cell_type": "code",
      "source": [
        "dict1.get('Batsman')"
      ],
      "metadata": {
        "colab": {
          "base_uri": "https://localhost:8080/",
          "height": 35
        },
        "id": "XaXBd7KUFLfL",
        "outputId": "f21c5601-e10c-4bac-89ec-bf3be924ac7d"
      },
      "execution_count": null,
      "outputs": [
        {
          "output_type": "execute_result",
          "data": {
            "text/plain": [
              "'Rohit'"
            ],
            "application/vnd.google.colaboratory.intrinsic+json": {
              "type": "string"
            }
          },
          "metadata": {},
          "execution_count": 17
        }
      ]
    },
    {
      "cell_type": "code",
      "source": [
        "dict1['Batsman']"
      ],
      "metadata": {
        "colab": {
          "base_uri": "https://localhost:8080/",
          "height": 35
        },
        "id": "BXph0tToEZbY",
        "outputId": "6ea557c9-ee87-4d43-e10a-a30aa898b2b9"
      },
      "execution_count": null,
      "outputs": [
        {
          "output_type": "execute_result",
          "data": {
            "text/plain": [
              "'Rohit'"
            ],
            "application/vnd.google.colaboratory.intrinsic+json": {
              "type": "string"
            }
          },
          "metadata": {},
          "execution_count": 18
        }
      ]
    },
    {
      "cell_type": "markdown",
      "source": [
        "# Set\n",
        "\n",
        "|Method|Description|\n",
        "|------|-----------|\n",
        "|add()|Adds an element to the set|\n",
        "|clear()|Removes all the elements from the set|\n",
        "|copy()|Returns a copy of the set|\n",
        "|difference()|Returns a set containing the difference between two or more sets|\n",
        "|difference_update()|Removes the items in this set that are also included in another, specified set|\n",
        "|discard()|Remove the specified item|\n",
        "|intersection()|Returns a set, that is the intersection of two or more sets|\n",
        "|intersection_update()|Removes the items in this set that are not present in other, specified set(s)|\n",
        "|isdisjoint()|Returns whether two sets have a intersection or not|\n",
        "|issubset()|Returns whether another set contains this set or not|\n",
        "|issuperset()|Returns whether this set contains another set or not|\n",
        "|pop()|Removes an element from the set|\n",
        "|remove()|Removes the specified element|\n",
        "|symmetric_difference()|Returns a set with the symmetric differences of two sets|\n",
        "|symmetric_difference_update()|inserts the symmetric differences from this set and another|\n",
        "|union()|Return a set containing the union of sets|\n",
        "|update()|Update the set with another set, or any other iterable|"
      ],
      "metadata": {
        "id": "cqr2C_JwN9Si"
      }
    },
    {
      "cell_type": "code",
      "source": [
        "set1 = {'apple','mango','orange','banana','chickoo','mango'}\n",
        "print(set1)\n",
        "set1"
      ],
      "metadata": {
        "colab": {
          "base_uri": "https://localhost:8080/"
        },
        "id": "ZHJiHQHEEZYu",
        "outputId": "e0a32afa-d24b-47cd-98f0-3e1199b36c70"
      },
      "execution_count": null,
      "outputs": [
        {
          "output_type": "stream",
          "name": "stdout",
          "text": [
            "{'orange', 'mango', 'apple', 'chickoo', 'banana'}\n"
          ]
        },
        {
          "output_type": "execute_result",
          "data": {
            "text/plain": [
              "{'apple', 'banana', 'chickoo', 'mango', 'orange'}"
            ]
          },
          "metadata": {},
          "execution_count": 43
        }
      ]
    },
    {
      "cell_type": "code",
      "source": [
        "set1 = {'apple','mango','orange','banana','chickoo','mango'}\n",
        "print(set1)\n",
        "set1.add('papaya')\n",
        "print(set1)"
      ],
      "metadata": {
        "colab": {
          "base_uri": "https://localhost:8080/"
        },
        "id": "RN7O61YhN8ZM",
        "outputId": "5dbf0e1d-a7de-47b8-8dc9-c8fbd246da14"
      },
      "execution_count": null,
      "outputs": [
        {
          "output_type": "stream",
          "name": "stdout",
          "text": [
            "{'orange', 'mango', 'apple', 'chickoo', 'banana'}\n",
            "{'orange', 'mango', 'papaya', 'apple', 'chickoo', 'banana'}\n"
          ]
        }
      ]
    },
    {
      "cell_type": "code",
      "source": [
        "#Set structure does not have any indexation,So it is not possible to call any element in set\n",
        "set1[5]"
      ],
      "metadata": {
        "colab": {
          "base_uri": "https://localhost:8080/",
          "height": 158
        },
        "id": "8faFtmhxN8Vj",
        "outputId": "7558b091-2413-4cfc-f3a1-47c34587f386"
      },
      "execution_count": null,
      "outputs": [
        {
          "output_type": "error",
          "ename": "TypeError",
          "evalue": "'set' object is not subscriptable",
          "traceback": [
            "\u001b[0;31m---------------------------------------------------------------------------\u001b[0m",
            "\u001b[0;31mTypeError\u001b[0m                                 Traceback (most recent call last)",
            "\u001b[0;32m<ipython-input-47-d2ffbf85d21d>\u001b[0m in \u001b[0;36m<cell line: 2>\u001b[0;34m()\u001b[0m\n\u001b[1;32m      1\u001b[0m \u001b[0;31m#Set structure does not have any indexation,So it is not possible to call any element in set\u001b[0m\u001b[0;34m\u001b[0m\u001b[0;34m\u001b[0m\u001b[0m\n\u001b[0;32m----> 2\u001b[0;31m \u001b[0mset1\u001b[0m\u001b[0;34m[\u001b[0m\u001b[0;36m5\u001b[0m\u001b[0;34m]\u001b[0m\u001b[0;34m\u001b[0m\u001b[0;34m\u001b[0m\u001b[0m\n\u001b[0m",
            "\u001b[0;31mTypeError\u001b[0m: 'set' object is not subscriptable"
          ]
        }
      ]
    },
    {
      "cell_type": "code",
      "source": [
        "# discard() and remove()\n",
        "\n",
        "set1 = {'apple','mango','orange','banana','chickoo','mango'}\n",
        "print(set1)\n",
        "set1.discard('mango')\n",
        "print(set1)\n",
        "set1.remove('orange')\n",
        "print(set1)"
      ],
      "metadata": {
        "colab": {
          "base_uri": "https://localhost:8080/"
        },
        "id": "i2QVOvA-N8Sn",
        "outputId": "e9086755-949a-46ca-b527-7b56ea4eb8a1"
      },
      "execution_count": null,
      "outputs": [
        {
          "output_type": "stream",
          "name": "stdout",
          "text": [
            "{'orange', 'mango', 'apple', 'chickoo', 'banana'}\n",
            "{'orange', 'apple', 'chickoo', 'banana'}\n",
            "{'apple', 'chickoo', 'banana'}\n"
          ]
        }
      ]
    },
    {
      "cell_type": "code",
      "source": [
        "set1 = {'apple','mango','orange','banana','chickoo','mango'}\n",
        "print(set1)\n",
        "set1.discard('Watermelon')\n",
        "print(set1)"
      ],
      "metadata": {
        "colab": {
          "base_uri": "https://localhost:8080/"
        },
        "id": "KqXQVUiwN8QR",
        "outputId": "d80817d2-1d5d-435c-fb61-61fb7b6d6f7a"
      },
      "execution_count": null,
      "outputs": [
        {
          "output_type": "stream",
          "name": "stdout",
          "text": [
            "{'orange', 'mango', 'apple', 'chickoo', 'banana'}\n",
            "{'orange', 'mango', 'apple', 'chickoo', 'banana'}\n"
          ]
        }
      ]
    },
    {
      "cell_type": "code",
      "source": [
        "set1 = {'apple','mango','orange','banana','chickoo','mango'}\n",
        "print(set1)\n",
        "set1.remove('Watermelon')\n",
        "print(set1)"
      ],
      "metadata": {
        "colab": {
          "base_uri": "https://localhost:8080/",
          "height": 211
        },
        "id": "Fy07o0RTN8ND",
        "outputId": "01584b73-244f-4dfc-e710-ca1b161aa5d2"
      },
      "execution_count": null,
      "outputs": [
        {
          "output_type": "stream",
          "name": "stdout",
          "text": [
            "{'orange', 'mango', 'apple', 'chickoo', 'banana'}\n"
          ]
        },
        {
          "output_type": "error",
          "ename": "KeyError",
          "evalue": "'Watermelon'",
          "traceback": [
            "\u001b[0;31m---------------------------------------------------------------------------\u001b[0m",
            "\u001b[0;31mKeyError\u001b[0m                                  Traceback (most recent call last)",
            "\u001b[0;32m<ipython-input-53-69d260d33ec6>\u001b[0m in \u001b[0;36m<cell line: 3>\u001b[0;34m()\u001b[0m\n\u001b[1;32m      1\u001b[0m \u001b[0mset1\u001b[0m \u001b[0;34m=\u001b[0m \u001b[0;34m{\u001b[0m\u001b[0;34m'apple'\u001b[0m\u001b[0;34m,\u001b[0m\u001b[0;34m'mango'\u001b[0m\u001b[0;34m,\u001b[0m\u001b[0;34m'orange'\u001b[0m\u001b[0;34m,\u001b[0m\u001b[0;34m'banana'\u001b[0m\u001b[0;34m,\u001b[0m\u001b[0;34m'chickoo'\u001b[0m\u001b[0;34m,\u001b[0m\u001b[0;34m'mango'\u001b[0m\u001b[0;34m}\u001b[0m\u001b[0;34m\u001b[0m\u001b[0;34m\u001b[0m\u001b[0m\n\u001b[1;32m      2\u001b[0m \u001b[0mprint\u001b[0m\u001b[0;34m(\u001b[0m\u001b[0mset1\u001b[0m\u001b[0;34m)\u001b[0m\u001b[0;34m\u001b[0m\u001b[0;34m\u001b[0m\u001b[0m\n\u001b[0;32m----> 3\u001b[0;31m \u001b[0mset1\u001b[0m\u001b[0;34m.\u001b[0m\u001b[0mremove\u001b[0m\u001b[0;34m(\u001b[0m\u001b[0;34m'Watermelon'\u001b[0m\u001b[0;34m)\u001b[0m\u001b[0;34m\u001b[0m\u001b[0;34m\u001b[0m\u001b[0m\n\u001b[0m\u001b[1;32m      4\u001b[0m \u001b[0mprint\u001b[0m\u001b[0;34m(\u001b[0m\u001b[0mset1\u001b[0m\u001b[0;34m)\u001b[0m\u001b[0;34m\u001b[0m\u001b[0;34m\u001b[0m\u001b[0m\n",
            "\u001b[0;31mKeyError\u001b[0m: 'Watermelon'"
          ]
        }
      ]
    },
    {
      "cell_type": "code",
      "source": [
        "#pop()\n",
        "set1 = {'apple','mango','orange','banana','chickoo','mango'}\n",
        "print(set1)\n",
        "set1.pop()\n",
        "print(set1)"
      ],
      "metadata": {
        "colab": {
          "base_uri": "https://localhost:8080/"
        },
        "id": "8fbZ50ZBZe60",
        "outputId": "75ea818a-dacd-462f-99ff-a968b595f341"
      },
      "execution_count": null,
      "outputs": [
        {
          "output_type": "stream",
          "name": "stdout",
          "text": [
            "{'orange', 'mango', 'apple', 'chickoo', 'banana'}\n",
            "{'mango', 'apple', 'chickoo', 'banana'}\n"
          ]
        }
      ]
    },
    {
      "cell_type": "code",
      "source": [
        "#clear()\n",
        "set1 = {'apple','mango','orange','banana','chickoo','mango'}\n",
        "print(set1)\n",
        "set1.clear()\n",
        "print(set1)"
      ],
      "metadata": {
        "colab": {
          "base_uri": "https://localhost:8080/"
        },
        "id": "u0dV1EUtZe4U",
        "outputId": "0e3365e4-d58e-4fad-f68e-33ed24ddb80a"
      },
      "execution_count": null,
      "outputs": [
        {
          "output_type": "stream",
          "name": "stdout",
          "text": [
            "{'orange', 'mango', 'apple', 'chickoo', 'banana'}\n",
            "set()\n"
          ]
        }
      ]
    },
    {
      "cell_type": "code",
      "source": [
        "#union\n",
        "set1 = {'apple','mango','banana','papaya','chickoo','muskmelon'}\n",
        "set2 = {'mango','grapes','plum','papaya','apple','watermelon'}\n",
        "set1.union(set2)"
      ],
      "metadata": {
        "colab": {
          "base_uri": "https://localhost:8080/"
        },
        "id": "_cYvS6ioZezB",
        "outputId": "4ee43815-c818-4f26-8771-42e6b048d019"
      },
      "execution_count": null,
      "outputs": [
        {
          "output_type": "execute_result",
          "data": {
            "text/plain": [
              "{'apple',\n",
              " 'banana',\n",
              " 'chickoo',\n",
              " 'grapes',\n",
              " 'mango',\n",
              " 'muskmelon',\n",
              " 'papaya',\n",
              " 'plum',\n",
              " 'watermelon'}"
            ]
          },
          "metadata": {},
          "execution_count": 1
        }
      ]
    },
    {
      "cell_type": "code",
      "source": [
        "set1 | set2       # '|' = Union"
      ],
      "metadata": {
        "colab": {
          "base_uri": "https://localhost:8080/"
        },
        "id": "zEC76697MmPj",
        "outputId": "705245b0-4f43-4c5a-ca2f-45d2b6ab2f97"
      },
      "execution_count": null,
      "outputs": [
        {
          "output_type": "execute_result",
          "data": {
            "text/plain": [
              "{'apple',\n",
              " 'banana',\n",
              " 'chickoo',\n",
              " 'grapes',\n",
              " 'mango',\n",
              " 'muskmelon',\n",
              " 'papaya',\n",
              " 'plum',\n",
              " 'watermelon'}"
            ]
          },
          "metadata": {},
          "execution_count": 2
        }
      ]
    },
    {
      "cell_type": "code",
      "source": [
        "#intersection\n",
        "set1 = {'apple','mango','banana','papaya','chickoo','muskmelon'}\n",
        "set2 = {'mango','grapes','plum','papaya','apple','watermelon'}\n",
        "set1.intersection(set2)"
      ],
      "metadata": {
        "colab": {
          "base_uri": "https://localhost:8080/"
        },
        "id": "ky9fS1_5Zewa",
        "outputId": "78e5d216-cd62-4f3b-aadf-1797d29891aa"
      },
      "execution_count": null,
      "outputs": [
        {
          "output_type": "execute_result",
          "data": {
            "text/plain": [
              "{'apple', 'mango', 'papaya'}"
            ]
          },
          "metadata": {},
          "execution_count": 3
        }
      ]
    },
    {
      "cell_type": "code",
      "source": [
        "set1 & set2      # '&' = Intersection"
      ],
      "metadata": {
        "id": "pk58QuS7N8Jx",
        "colab": {
          "base_uri": "https://localhost:8080/"
        },
        "outputId": "ad54e3d9-8d8b-48a8-b08f-8bc0354b120b"
      },
      "execution_count": null,
      "outputs": [
        {
          "output_type": "execute_result",
          "data": {
            "text/plain": [
              "{'apple', 'mango', 'papaya'}"
            ]
          },
          "metadata": {},
          "execution_count": 4
        }
      ]
    },
    {
      "cell_type": "code",
      "source": [
        "#difference\n",
        "\n",
        "set1 = {'apple','mango','banana','papaya','chickoo','muskmelon'}\n",
        "set2 = {'mango','grapes','plum','papaya','apple','watermelon'}"
      ],
      "metadata": {
        "id": "ONIKj3obb2ks"
      },
      "execution_count": null,
      "outputs": []
    },
    {
      "cell_type": "code",
      "source": [
        "print(set1.difference(set2))\n",
        "print(set1 - set2)\n"
      ],
      "metadata": {
        "id": "w-813xT9b2hI",
        "colab": {
          "base_uri": "https://localhost:8080/"
        },
        "outputId": "d2d76cb2-afc4-430c-81ff-8c3c513bb117"
      },
      "execution_count": null,
      "outputs": [
        {
          "output_type": "stream",
          "name": "stdout",
          "text": [
            "{'muskmelon', 'banana', 'chickoo'}\n",
            "{'muskmelon', 'banana', 'chickoo'}\n"
          ]
        }
      ]
    },
    {
      "cell_type": "code",
      "source": [
        "print(set2.difference(set1))\n",
        "print(set2 - set1)"
      ],
      "metadata": {
        "id": "NEno5GZSb2FB",
        "colab": {
          "base_uri": "https://localhost:8080/"
        },
        "outputId": "34e4d398-b067-4e98-901c-991faba83e2a"
      },
      "execution_count": null,
      "outputs": [
        {
          "output_type": "stream",
          "name": "stdout",
          "text": [
            "{'plum', 'watermelon', 'grapes'}\n",
            "{'plum', 'watermelon', 'grapes'}\n"
          ]
        }
      ]
    },
    {
      "cell_type": "code",
      "source": [
        "#symmetric difference\n",
        "\n",
        "set1 = {'apple','mango','banana','papaya','chickoo','muskmelon'}\n",
        "set2 = {'mango','grapes','plum','papaya','apple','watermelon'}\n",
        "set1.symmetric_difference(set2)"
      ],
      "metadata": {
        "id": "dluzOR7Ab2Bu",
        "colab": {
          "base_uri": "https://localhost:8080/"
        },
        "outputId": "394ed5c7-b0a9-4459-8123-f75edfa74d21"
      },
      "execution_count": null,
      "outputs": [
        {
          "output_type": "execute_result",
          "data": {
            "text/plain": [
              "{'banana', 'chickoo', 'grapes', 'muskmelon', 'plum', 'watermelon'}"
            ]
          },
          "metadata": {},
          "execution_count": 12
        }
      ]
    },
    {
      "cell_type": "code",
      "source": [
        "#intersection_update\n",
        "\n",
        "set1 = {'apple','mango','banana','chickoo','muskmelon'}\n",
        "set2 = {'mango','grapes','plum','apple','watermelon'}\n",
        "print(set1)\n",
        "print(set2)\n",
        "print(set1.intersection(set2))\n",
        "set1.intersection_update(set2)        # updates set1 to intersection\n",
        "print('--------------------------------------------------')\n",
        "print(set1)\n",
        "print(set2)"
      ],
      "metadata": {
        "id": "4xX6p0Vmb1dc",
        "colab": {
          "base_uri": "https://localhost:8080/"
        },
        "outputId": "03572bae-4caf-4219-a737-33e5009aa989"
      },
      "execution_count": null,
      "outputs": [
        {
          "output_type": "stream",
          "name": "stdout",
          "text": [
            "{'apple', 'muskmelon', 'mango', 'banana', 'chickoo'}\n",
            "{'apple', 'plum', 'mango', 'grapes', 'watermelon'}\n",
            "{'apple', 'mango'}\n",
            "--------------------------------------------------\n",
            "{'apple', 'mango'}\n",
            "{'apple', 'plum', 'mango', 'grapes', 'watermelon'}\n"
          ]
        }
      ]
    },
    {
      "cell_type": "code",
      "source": [
        "#difference_update\n",
        "\n",
        "set1 = {'apple','mango','banana','chickoo','muskmelon'}\n",
        "set2 = {'mango','grapes','plum','apple','watermelon'}\n",
        "print(set1)\n",
        "print(set2)\n",
        "print(set1.difference(set2))\n",
        "set1.difference_update(set2)           # updates set1 to diffrence\n",
        "print('--------------------------------------------------')\n",
        "print(set1)\n",
        "print(set2)"
      ],
      "metadata": {
        "id": "ALWxshoHb1Z0",
        "colab": {
          "base_uri": "https://localhost:8080/"
        },
        "outputId": "98ac6ce0-51ca-49ce-d4b4-d2abf152d636"
      },
      "execution_count": null,
      "outputs": [
        {
          "output_type": "stream",
          "name": "stdout",
          "text": [
            "{'apple', 'muskmelon', 'mango', 'banana', 'chickoo'}\n",
            "{'apple', 'plum', 'mango', 'grapes', 'watermelon'}\n",
            "{'muskmelon', 'banana', 'chickoo'}\n",
            "--------------------------------------------------\n",
            "{'muskmelon', 'banana', 'chickoo'}\n",
            "{'apple', 'plum', 'mango', 'grapes', 'watermelon'}\n"
          ]
        }
      ]
    },
    {
      "cell_type": "code",
      "source": [
        "#symmetric_difference_update\n",
        "\n",
        "set1 = {'apple','mango','banana','chickoo','muskmelon'}\n",
        "set2 = {'mango','grapes','plum','apple','watermelon'}\n",
        "print(set1)\n",
        "print(set2)\n",
        "print(set1.symmetric_difference(set2))\n",
        "set1.symmetric_difference_update(set2)     # updates set1 to symmetric_diffrence\n",
        "print('--------------------------------------------------')\n",
        "print(set1)\n",
        "print(set2)"
      ],
      "metadata": {
        "id": "bAhaUVjjb1Wh",
        "colab": {
          "base_uri": "https://localhost:8080/"
        },
        "outputId": "26f16f7d-558d-4418-f343-973798ee6bc2"
      },
      "execution_count": null,
      "outputs": [
        {
          "output_type": "stream",
          "name": "stdout",
          "text": [
            "{'apple', 'muskmelon', 'mango', 'banana', 'chickoo'}\n",
            "{'apple', 'plum', 'mango', 'grapes', 'watermelon'}\n",
            "{'muskmelon', 'plum', 'grapes', 'banana', 'watermelon', 'chickoo'}\n",
            "--------------------------------------------------\n",
            "{'muskmelon', 'watermelon', 'plum', 'banana', 'grapes', 'chickoo'}\n",
            "{'apple', 'plum', 'mango', 'grapes', 'watermelon'}\n"
          ]
        }
      ]
    },
    {
      "cell_type": "code",
      "source": [
        "# subset,superset\n",
        "\n",
        "A = {'muskmelon', 'watermelon', 'plum', 'banana', 'grapes', 'chickoo'}\n",
        "B = {'chickoo','plum','banana'}\n",
        "C= {'banana','watermelon','papaya'}"
      ],
      "metadata": {
        "id": "h9AuqrQgb1Tu"
      },
      "execution_count": null,
      "outputs": []
    },
    {
      "cell_type": "code",
      "source": [
        "#Is B a subset of A?\n",
        "B.issubset(A)"
      ],
      "metadata": {
        "id": "3txRHRHhb1Qx",
        "colab": {
          "base_uri": "https://localhost:8080/"
        },
        "outputId": "0261d771-ff4b-4638-9bd8-4166987853c2"
      },
      "execution_count": null,
      "outputs": [
        {
          "output_type": "execute_result",
          "data": {
            "text/plain": [
              "True"
            ]
          },
          "metadata": {},
          "execution_count": 23
        }
      ]
    },
    {
      "cell_type": "code",
      "source": [
        "#Is C a subset of A?\n",
        "C.issubset(A)"
      ],
      "metadata": {
        "id": "4ZEd4RHmb1N_",
        "colab": {
          "base_uri": "https://localhost:8080/"
        },
        "outputId": "9a11db6f-90e6-446b-c91e-943303297050"
      },
      "execution_count": null,
      "outputs": [
        {
          "output_type": "execute_result",
          "data": {
            "text/plain": [
              "False"
            ]
          },
          "metadata": {},
          "execution_count": 25
        }
      ]
    },
    {
      "cell_type": "code",
      "source": [
        "#Is A a superset of B?\n",
        "A.issuperset(B)"
      ],
      "metadata": {
        "colab": {
          "base_uri": "https://localhost:8080/"
        },
        "id": "fJs3uFHZb49V",
        "outputId": "8ecbac78-dd95-46fc-d446-6b696fd1f5cb"
      },
      "execution_count": null,
      "outputs": [
        {
          "output_type": "execute_result",
          "data": {
            "text/plain": [
              "True"
            ]
          },
          "metadata": {},
          "execution_count": 27
        }
      ]
    },
    {
      "cell_type": "code",
      "source": [
        "#Is A a superset of C?\n",
        "A.issuperset(C)"
      ],
      "metadata": {
        "colab": {
          "base_uri": "https://localhost:8080/"
        },
        "id": "a-1P-z4Bb46y",
        "outputId": "d3aa755c-adc1-483e-b723-09405f503b0a"
      },
      "execution_count": null,
      "outputs": [
        {
          "output_type": "execute_result",
          "data": {
            "text/plain": [
              "False"
            ]
          },
          "metadata": {},
          "execution_count": 28
        }
      ]
    },
    {
      "cell_type": "code",
      "source": [
        "#disjoint\n",
        "\n",
        "A = {'chickoo','plum','banana'}\n",
        "B= {'orange','grapes','papaya'}\n",
        "A.isdisjoint(B)"
      ],
      "metadata": {
        "colab": {
          "base_uri": "https://localhost:8080/"
        },
        "id": "uH2IP7IMb43x",
        "outputId": "8d5155e3-caf4-424a-ef0b-39de3525a59b"
      },
      "execution_count": null,
      "outputs": [
        {
          "output_type": "execute_result",
          "data": {
            "text/plain": [
              "True"
            ]
          },
          "metadata": {},
          "execution_count": 31
        }
      ]
    },
    {
      "cell_type": "code",
      "source": [],
      "metadata": {
        "id": "SF-kmTGHb407"
      },
      "execution_count": null,
      "outputs": []
    },
    {
      "cell_type": "code",
      "source": [],
      "metadata": {
        "id": "EJFhOw92j62T"
      },
      "execution_count": null,
      "outputs": []
    },
    {
      "cell_type": "code",
      "source": [],
      "metadata": {
        "id": "v852dQqOj6y7"
      },
      "execution_count": null,
      "outputs": []
    },
    {
      "cell_type": "code",
      "source": [],
      "metadata": {
        "id": "ekv3Q04-j6wV"
      },
      "execution_count": null,
      "outputs": []
    },
    {
      "cell_type": "code",
      "source": [],
      "metadata": {
        "id": "y-iDVuBmj6Zk"
      },
      "execution_count": null,
      "outputs": []
    },
    {
      "cell_type": "code",
      "source": [],
      "metadata": {
        "id": "x4GofDT_j6WC"
      },
      "execution_count": null,
      "outputs": []
    },
    {
      "cell_type": "code",
      "source": [],
      "metadata": {
        "id": "CfkAqMdaj6TT"
      },
      "execution_count": null,
      "outputs": []
    }
  ]
}