{
  "nbformat": 4,
  "nbformat_minor": 0,
  "metadata": {
    "kernelspec": {
      "display_name": "Python 3",
      "language": "python",
      "name": "python3"
    },
    "language_info": {
      "codemirror_mode": {
        "name": "ipython",
        "version": 3
      },
      "file_extension": ".py",
      "mimetype": "text/x-python",
      "name": "python",
      "nbconvert_exporter": "python",
      "pygments_lexer": "ipython3",
      "version": "3.7.4"
    },
    "colab": {
      "provenance": [],
      "include_colab_link": true
    }
  },
  "cells": [
    {
      "cell_type": "markdown",
      "metadata": {
        "id": "view-in-github",
        "colab_type": "text"
      },
      "source": [
        "<a href=\"https://colab.research.google.com/github/OmkarSolat/Data-Science-at-ExcelR/blob/main/Model_Validation_Techniques.ipynb\" target=\"_parent\"><img src=\"https://colab.research.google.com/assets/colab-badge.svg\" alt=\"Open In Colab\"/></a>"
      ]
    },
    {
      "cell_type": "markdown",
      "metadata": {
        "id": "dL-8ITYHYDjR"
      },
      "source": [
        "# **Model Validation Methods**"
      ]
    },
    {
      "cell_type": "markdown",
      "metadata": {
        "id": "WWE9HXpvYDjS"
      },
      "source": [
        "# 1. Evaluate using a train and a test set"
      ]
    },
    {
      "cell_type": "code",
      "metadata": {
        "id": "NpBE4_hDYDjS",
        "colab": {
          "base_uri": "https://localhost:8080/"
        },
        "outputId": "1c1f1b15-f10f-428e-fe1e-d4de4c306d37"
      },
      "source": [
        "#Evaluate using a train and a test set\n",
        "import pandas as pd\n",
        "from sklearn.model_selection import train_test_split #holdout\n",
        "from sklearn.linear_model import LogisticRegression\n",
        "\n",
        "#load the data\n",
        "names = ['preg', 'plas', 'pres', 'skin', 'test', 'mass', 'pedi', 'age', 'class']\n",
        "dataframe = pd.read_csv(\"/content/pima-indians-diabetes.data.csv\", names=names)\n",
        "\n",
        "#independent and dependent\n",
        "X = dataframe.iloc[:,0:8]\n",
        "Y = dataframe.iloc[:,8]\n",
        "\n",
        "#train-test-split\n",
        "X_train, X_test, Y_train, Y_test = train_test_split(X, Y, test_size=0.3,random_state=10)\n",
        "model = LogisticRegression()\n",
        "model.fit(X_train, Y_train)\n",
        "result = model.score(X_test, Y_test)\n"
      ],
      "execution_count": 2,
      "outputs": [
        {
          "output_type": "stream",
          "name": "stderr",
          "text": [
            "/usr/local/lib/python3.10/dist-packages/sklearn/linear_model/_logistic.py:460: ConvergenceWarning: lbfgs failed to converge (status=1):\n",
            "STOP: TOTAL NO. of ITERATIONS REACHED LIMIT.\n",
            "\n",
            "Increase the number of iterations (max_iter) or scale the data as shown in:\n",
            "    https://scikit-learn.org/stable/modules/preprocessing.html\n",
            "Please also refer to the documentation for alternative solver options:\n",
            "    https://scikit-learn.org/stable/modules/linear_model.html#logistic-regression\n",
            "  n_iter_i = _check_optimize_result(\n"
          ]
        }
      ]
    },
    {
      "cell_type": "code",
      "source": [
        "result"
      ],
      "metadata": {
        "id": "w3qPDXxKcVJF",
        "colab": {
          "base_uri": "https://localhost:8080/"
        },
        "outputId": "61b91330-d09d-4284-8840-9f1e4c4b6aab"
      },
      "execution_count": 3,
      "outputs": [
        {
          "output_type": "execute_result",
          "data": {
            "text/plain": [
              "0.7402597402597403"
            ]
          },
          "metadata": {},
          "execution_count": 3
        }
      ]
    },
    {
      "cell_type": "code",
      "source": [
        "ypred = model.predict(X_test)\n",
        "from sklearn.metrics import accuracy_score\n",
        "accuracy_score(Y_test,ypred)"
      ],
      "metadata": {
        "id": "LkR6-x8Ns32z",
        "colab": {
          "base_uri": "https://localhost:8080/"
        },
        "outputId": "7bbcf281-83a3-4b70-9dfa-a3c3bf80540f"
      },
      "execution_count": 4,
      "outputs": [
        {
          "output_type": "execute_result",
          "data": {
            "text/plain": [
              "0.7402597402597403"
            ]
          },
          "metadata": {},
          "execution_count": 4
        }
      ]
    },
    {
      "cell_type": "markdown",
      "metadata": {
        "id": "6NuAThDSYDjU"
      },
      "source": [
        "# 2. Evaluate using Cross Validation"
      ]
    },
    {
      "cell_type": "code",
      "metadata": {
        "id": "PBlWcm5DYDjU"
      },
      "source": [
        "# Evaluate using Cross Validation\n",
        "\n",
        "from sklearn.model_selection import KFold\n",
        "from sklearn.model_selection import cross_val_score\n",
        "from sklearn.linear_model import LogisticRegression\n",
        "\n",
        "#load the data\n",
        "names = ['preg', 'plas', 'pres', 'skin', 'test', 'mass', 'pedi', 'age', 'class']\n",
        "dataframe = pd.read_csv(\"/content/pima-indians-diabetes.data.csv\", names=names)\n",
        "\n",
        "#independent and dependent\n",
        "X = dataframe.iloc[:,0:8]\n",
        "Y = dataframe.iloc[:,8]\n",
        "\n",
        "#k-fold cross validation\n",
        "num_folds = 10\n",
        "seed = 7\n",
        "kfold = KFold(n_splits=num_folds, random_state=seed, shuffle=True)\n",
        "model = LogisticRegression(max_iter=500)\n",
        "results = cross_val_score(model, X, Y, cv=kfold)"
      ],
      "execution_count": 5,
      "outputs": []
    },
    {
      "cell_type": "code",
      "metadata": {
        "id": "GUTks36NZnOM",
        "colab": {
          "base_uri": "https://localhost:8080/"
        },
        "outputId": "7eebca29-b49c-41eb-9c44-884cd4c5633f"
      },
      "source": [
        "results"
      ],
      "execution_count": 6,
      "outputs": [
        {
          "output_type": "execute_result",
          "data": {
            "text/plain": [
              "array([0.83116883, 0.74025974, 0.74025974, 0.80519481, 0.79220779,\n",
              "       0.77922078, 0.66233766, 0.80519481, 0.82894737, 0.73684211])"
            ]
          },
          "metadata": {},
          "execution_count": 6
        }
      ]
    },
    {
      "cell_type": "code",
      "metadata": {
        "id": "kqp-BTfWYDjV",
        "colab": {
          "base_uri": "https://localhost:8080/"
        },
        "outputId": "3cb6980c-11aa-4e43-98e1-e77a60de05dd"
      },
      "source": [
        "results.mean()*100.0"
      ],
      "execution_count": 7,
      "outputs": [
        {
          "output_type": "execute_result",
          "data": {
            "text/plain": [
              "77.21633629528367"
            ]
          },
          "metadata": {},
          "execution_count": 7
        }
      ]
    },
    {
      "cell_type": "code",
      "source": [
        "cvs = cross_val_score(model,X,Y,cv=10)\n",
        "cvs"
      ],
      "metadata": {
        "id": "EDeu88plt7_j",
        "colab": {
          "base_uri": "https://localhost:8080/"
        },
        "outputId": "17d991d3-aaba-4a87-a248-3e9d76234d96"
      },
      "execution_count": 8,
      "outputs": [
        {
          "output_type": "execute_result",
          "data": {
            "text/plain": [
              "array([0.72727273, 0.77922078, 0.80519481, 0.71428571, 0.75324675,\n",
              "       0.76623377, 0.80519481, 0.80519481, 0.75      , 0.82894737])"
            ]
          },
          "metadata": {},
          "execution_count": 8
        }
      ]
    },
    {
      "cell_type": "code",
      "source": [
        "cvs.mean()"
      ],
      "metadata": {
        "id": "d-0A16npuI7E",
        "colab": {
          "base_uri": "https://localhost:8080/"
        },
        "outputId": "22a213a9-08a3-47ff-fe13-3abf1007b2b5"
      },
      "execution_count": 9,
      "outputs": [
        {
          "output_type": "execute_result",
          "data": {
            "text/plain": [
              "0.7734791524265209"
            ]
          },
          "metadata": {},
          "execution_count": 9
        }
      ]
    },
    {
      "cell_type": "markdown",
      "metadata": {
        "id": "wL8XayAdYDjW"
      },
      "source": [
        "# 3. Evaluate using Leave One Out Cross Validation"
      ]
    },
    {
      "cell_type": "code",
      "metadata": {
        "id": "iiGtO9zRYDjW"
      },
      "source": [
        "# Evaluate using Leave One Out Cross Validation\n",
        "\n",
        "from sklearn.model_selection import LeaveOneOut,KFold\n",
        "from sklearn.model_selection import cross_val_score\n",
        "from sklearn.linear_model import LogisticRegression\n",
        "\n",
        "#load the data\n",
        "names = ['preg', 'plas', 'pres', 'skin', 'test', 'mass', 'pedi', 'age', 'class']\n",
        "dataframe = pd.read_csv(\"/content/pima-indians-diabetes.data.csv\", names=names)\n",
        "\n",
        "# independent and dependent\n",
        "X = dataframe.iloc[:,0:8]\n",
        "Y = dataframe.iloc[:,8]"
      ],
      "execution_count": 10,
      "outputs": []
    },
    {
      "cell_type": "code",
      "source": [
        "#Leave one out\n",
        "\n",
        "loocv = LeaveOneOut()\n",
        "model = LogisticRegression(max_iter=300)\n",
        "results = cross_val_score(model, X, Y, cv=loocv)\n",
        "results.mean()"
      ],
      "metadata": {
        "id": "KgJwjXeSJNOY",
        "colab": {
          "base_uri": "https://localhost:8080/"
        },
        "outputId": "e6824e23-de45-4405-d49e-4b6189e4c143"
      },
      "execution_count": 11,
      "outputs": [
        {
          "output_type": "execute_result",
          "data": {
            "text/plain": [
              "0.7760416666666666"
            ]
          },
          "metadata": {},
          "execution_count": 11
        }
      ]
    },
    {
      "cell_type": "code",
      "source": [
        "#Leave One Out Cross Validation (LooCV) takes more time for model validation"
      ],
      "metadata": {
        "id": "ehMlnwXvNmai"
      },
      "execution_count": 12,
      "outputs": []
    }
  ]
}